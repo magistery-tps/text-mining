{
 "cells": [
  {
   "cell_type": "markdown",
   "id": "d333fe0e-7516-4910-ae0a-ce72b20d500b",
   "metadata": {},
   "source": [
    "# 1.1. Pre-procesamiento"
   ]
  },
  {
   "cell_type": "code",
   "execution_count": 1,
   "id": "8dde5e70-5b86-460f-8791-20fcb554c378",
   "metadata": {},
   "outputs": [],
   "source": [
    "%load_ext autoreload\n",
    "%autoreload 2"
   ]
  },
  {
   "cell_type": "code",
   "execution_count": 2,
   "id": "f98e7bf4-f41a-43f6-b7b7-a991d00f82de",
   "metadata": {
    "tags": []
   },
   "outputs": [],
   "source": [
    "import sys\n",
    "sys.path.append('../../src')\n",
    "\n",
    "from matplotlib import pyplot as plt\n",
    "import seaborn  as sns\n",
    "\n",
    "import numpy  as np\n",
    "import pandas as pd\n",
    "\n",
    "import torch\n",
    "import pytorch_common.util as pu\n",
    "\n",
    "import logging\n",
    "\n",
    "from data.fashion import FeatureColumnBuilder\n",
    "import data  as dt\n",
    "\n",
    "import model as ml\n",
    "import util  as ut\n",
    "\n",
    "from sklearn.model_selection import train_test_split"
   ]
  },
  {
   "cell_type": "markdown",
   "id": "40c1da33-a8da-47c9-b174-0b0885b05b50",
   "metadata": {},
   "source": [
    "## Setup"
   ]
  },
  {
   "cell_type": "markdown",
   "id": "64f1bc81-6e88-4dca-aba1-3a2514022aa3",
   "metadata": {},
   "source": [
    "Se configura el default logger para que la consola sea el output y loguee mensajes a partir del nivel INFO."
   ]
  },
  {
   "cell_type": "code",
   "execution_count": 3,
   "id": "f7ba9eb4-2b32-4152-9453-fac1d3737ee2",
   "metadata": {},
   "outputs": [
    {
     "data": {
      "text/html": [
       "<pre style=\"white-space:pre;overflow-x:auto;line-height:normal;font-family:Menlo,'DejaVu Sans Mono',consolas,'Courier New',monospace\"><span style=\"font-weight: bold\">&lt;</span><span style=\"color: #ff00ff; text-decoration-color: #ff00ff; font-weight: bold\">RootLogger</span><span style=\"color: #000000; text-decoration-color: #000000\"> root </span><span style=\"color: #000000; text-decoration-color: #000000; font-weight: bold\">(</span><span style=\"color: #000000; text-decoration-color: #000000\">INFO</span><span style=\"color: #000000; text-decoration-color: #000000; font-weight: bold\">)</span><span style=\"font-weight: bold\">&gt;</span>\n",
       "</pre>\n"
      ],
      "text/plain": [
       "\u001b[1m<\u001b[0m\u001b[1;95mRootLogger\u001b[0m\u001b[39m root \u001b[0m\u001b[1;39m(\u001b[0m\u001b[39mINFO\u001b[0m\u001b[1;39m)\u001b[0m\u001b[1m>\u001b[0m\n"
      ]
     },
     "metadata": {},
     "output_type": "display_data"
    }
   ],
   "source": [
    "pu.LoggerBuilder().on_console().build()"
   ]
  },
  {
   "cell_type": "markdown",
   "id": "88d4de55-5291-4217-b9cb-333f7a47abb1",
   "metadata": {},
   "source": [
    "Chequeamos si se detecta la GPU:"
   ]
  },
  {
   "cell_type": "code",
   "execution_count": 4,
   "id": "d1ba7b0b-b5d8-47ec-8995-642b7b21e6d2",
   "metadata": {},
   "outputs": [
    {
     "data": {
      "text/html": [
       "<pre style=\"white-space:pre;overflow-x:auto;line-height:normal;font-family:Menlo,'DejaVu Sans Mono',consolas,'Courier New',monospace\"><span style=\"color: #00ff00; text-decoration-color: #00ff00; font-style: italic\">True</span>\n",
       "</pre>\n"
      ],
      "text/plain": [
       "\u001b[3;92mTrue\u001b[0m\n"
      ]
     },
     "metadata": {},
     "output_type": "display_data"
    }
   ],
   "source": [
    "torch.cuda.is_available()"
   ]
  },
  {
   "cell_type": "code",
   "execution_count": 5,
   "id": "21fa4041-5682-4332-b139-6aca63d05ea0",
   "metadata": {},
   "outputs": [
    {
     "data": {
      "text/html": [
       "<pre style=\"white-space:pre;overflow-x:auto;line-height:normal;font-family:Menlo,'DejaVu Sans Mono',consolas,'Courier New',monospace\"><span style=\"color: #008000; text-decoration-color: #008000\">'1.12.1+cu116'</span>\n",
       "</pre>\n"
      ],
      "text/plain": [
       "\u001b[32m'1.12.1+cu116'\u001b[0m\n"
      ]
     },
     "metadata": {},
     "output_type": "display_data"
    }
   ],
   "source": [
    "torch.__version__"
   ]
  },
  {
   "cell_type": "markdown",
   "id": "94744d45-183c-487c-b196-0c21420bed5f",
   "metadata": {},
   "source": [
    "Por defecto usamos GPU. De no existir este hardware, el fallback es CPU:"
   ]
  },
  {
   "cell_type": "code",
   "execution_count": 6,
   "id": "f96b8a74-f2d1-4137-9991-b5dbd9d21b0b",
   "metadata": {},
   "outputs": [
    {
     "name": "stderr",
     "output_type": "stream",
     "text": [
      "2022-11-10 00:26:48,270 - INFO - cuda:0\n"
     ]
    }
   ],
   "source": [
    "pu.set_device_name('gpu')\n",
    "\n",
    "logging.info(pu.get_device())"
   ]
  },
  {
   "cell_type": "code",
   "execution_count": 7,
   "id": "5729b694-b723-4ac9-aebf-11d21a78ac94",
   "metadata": {},
   "outputs": [
    {
     "data": {
      "text/html": [
       "<pre style=\"white-space:pre;overflow-x:auto;line-height:normal;font-family:Menlo,'DejaVu Sans Mono',consolas,'Courier New',monospace\"><span style=\"font-weight: bold\">[</span><span style=\"color: #008000; text-decoration-color: #008000\">'sm_37'</span>, <span style=\"color: #008000; text-decoration-color: #008000\">'sm_50'</span>, <span style=\"color: #008000; text-decoration-color: #008000\">'sm_60'</span>, <span style=\"color: #008000; text-decoration-color: #008000\">'sm_70'</span>, <span style=\"color: #008000; text-decoration-color: #008000\">'sm_75'</span>, <span style=\"color: #008000; text-decoration-color: #008000\">'sm_80'</span>, <span style=\"color: #008000; text-decoration-color: #008000\">'sm_86'</span><span style=\"font-weight: bold\">]</span>\n",
       "</pre>\n"
      ],
      "text/plain": [
       "\u001b[1m[\u001b[0m\u001b[32m'sm_37'\u001b[0m, \u001b[32m'sm_50'\u001b[0m, \u001b[32m'sm_60'\u001b[0m, \u001b[32m'sm_70'\u001b[0m, \u001b[32m'sm_75'\u001b[0m, \u001b[32m'sm_80'\u001b[0m, \u001b[32m'sm_86'\u001b[0m\u001b[1m]\u001b[0m\n"
      ]
     },
     "metadata": {},
     "output_type": "display_data"
    }
   ],
   "source": [
    "torch.cuda.get_arch_list()"
   ]
  },
  {
   "cell_type": "markdown",
   "id": "8305823e-dcef-496a-9877-4c0e8aa8cc0b",
   "metadata": {},
   "source": [
    "Fijamos la semilla:"
   ]
  },
  {
   "cell_type": "code",
   "execution_count": 8,
   "id": "72f9d948-5300-4141-8fbc-4423669b2c58",
   "metadata": {},
   "outputs": [],
   "source": [
    "ut.set_seed(42)"
   ]
  },
  {
   "cell_type": "markdown",
   "id": "c0a47b78-5866-4daf-ac9f-5611bfe14c7a",
   "metadata": {},
   "source": [
    "Parametros de la notebook:"
   ]
  },
  {
   "cell_type": "code",
   "execution_count": 9,
   "id": "d2af7ab1-a7b4-4efa-9422-3077db231f90",
   "metadata": {},
   "outputs": [],
   "source": [
    "DATASET_PATH = '../../datasets/fashion-outfits'"
   ]
  },
  {
   "cell_type": "markdown",
   "id": "8a8de912-7283-44fb-9bbf-97f3ab812e18",
   "metadata": {},
   "source": [
    "Se excluyen productos con un title de mas de 50 tokens para bajar los tiempos den entrenamiento:"
   ]
  },
  {
   "cell_type": "code",
   "execution_count": 10,
   "id": "99887a52-9133-4fd5-8c8b-343d2da023c3",
   "metadata": {},
   "outputs": [],
   "source": [
    "MAX_TOKENS = 100"
   ]
  },
  {
   "cell_type": "markdown",
   "id": "7ba21a5d-af9b-4609-90a2-544da97f4c7f",
   "metadata": {},
   "source": [
    "### Funciones helper"
   ]
  },
  {
   "cell_type": "code",
   "execution_count": 11,
   "id": "b46f8560-2d67-447c-8b68-853d2aaa60d2",
   "metadata": {},
   "outputs": [],
   "source": [
    "def plot_columns(df, x_col, y_col, title):\n",
    "    plt.figure(figsize=(8,5))\n",
    "    ax = sns.barplot(x=x_col, y=y_col, data=df,  orient = 'h', order = df[y_col].values)\n",
    "    ax.set(xlabel=x_col)\n",
    "    ax.set(ylabel=y_col)\n",
    "    ax.set(yticklabels=[])\n",
    "    ax.set_title(title)\n",
    "    plt.show()\n",
    "\n",
    "    \n",
    "def plot_branch_count(df):\n",
    "    plot_columns(\n",
    "        df, \n",
    "        y_col = 'branch', \n",
    "        x_col = 'count', \n",
    "        title = 'Cantidad de productos por rama del arbol de categorias'\n",
    "    )\n",
    "    \n",
    "    \n",
    "def plot_tokens_count(df, column='description', figsize=(20, 10)):\n",
    "    values = df[column] \\\n",
    "        .apply(lambda x: len(x.split(' '))) \\\n",
    "        .value_counts()\n",
    "    values.plot(\n",
    "            kind    = 'bar', \n",
    "            rot     = 90,\n",
    "            xlabel  = 'Cant. Tokens',\n",
    "            ylabel  = 'Cant. Productos',\n",
    "            title   = f'{column}: Cantidad de tokens',\n",
    "            figsize = figsize\n",
    "        )\n",
    "    print('Max tokens count:',values.index.max())\n",
    "    \n",
    "\n",
    "def to_lower_strip(df, columns):\n",
    "    for col in columns:\n",
    "        df[col] = df[col].apply(lambda x: x.lower().strip())\n",
    "\n",
    "\n",
    "def columns_to_dict(df, key_col, value_col):\n",
    "    return pd.Series(df[key_col].values,index=df[value_col]).to_dict()"
   ]
  },
  {
   "cell_type": "markdown",
   "id": "84f449bb-0cd5-4846-937f-4bcf4c59e27e",
   "metadata": {},
   "source": [
    "## Preparar dataset"
   ]
  },
  {
   "cell_type": "markdown",
   "id": "80f78056-c6cb-4342-9dbc-04c1973a1728",
   "metadata": {},
   "source": [
    "**Step 1**: Cargamos el dataset original."
   ]
  },
  {
   "cell_type": "code",
   "execution_count": 12,
   "id": "304006bc-0205-42ee-a33a-2071ffb2c602",
   "metadata": {},
   "outputs": [
    {
     "name": "stdout",
     "output_type": "stream",
     "text": [
      "<class 'pandas.core.frame.DataFrame'>\n",
      "Int64Index: 276107 entries, 388498 to 86966\n",
      "Data columns (total 14 columns):\n",
      " #   Column                     Non-Null Count   Dtype \n",
      "---  ------                     --------------   ----- \n",
      " 0   product_id                 276107 non-null  int32 \n",
      " 1   product_family             276107 non-null  object\n",
      " 2   product_category           276107 non-null  object\n",
      " 3   product_sub_category       276107 non-null  object\n",
      " 4   product_gender             276107 non-null  object\n",
      " 5   product_main_colour        276107 non-null  object\n",
      " 6   product_second_color       276098 non-null  object\n",
      " 7   product_brand              276107 non-null  object\n",
      " 8   product_materials          276013 non-null  object\n",
      " 9   product_short_description  276107 non-null  object\n",
      " 10  product_attributes         163191 non-null  object\n",
      " 11  product_image_path         276107 non-null  object\n",
      " 12  product_highlights         265625 non-null  object\n",
      " 13  branch                     276107 non-null  object\n",
      "dtypes: int32(1), object(13)\n",
      "memory usage: 30.5+ MB\n"
     ]
    }
   ],
   "source": [
    "train_set = pd.read_parquet(f'{DATASET_PATH}/train_set.parquet')\n",
    "train_set.info()"
   ]
  },
  {
   "cell_type": "code",
   "execution_count": 13,
   "id": "7080d7d2-5d5c-49d7-b168-fa975b1c4d9c",
   "metadata": {},
   "outputs": [
    {
     "data": {
      "text/html": [
       "<div>\n",
       "<style scoped>\n",
       "    .dataframe tbody tr th:only-of-type {\n",
       "        vertical-align: middle;\n",
       "    }\n",
       "\n",
       "    .dataframe tbody tr th {\n",
       "        vertical-align: top;\n",
       "    }\n",
       "\n",
       "    .dataframe thead th {\n",
       "        text-align: right;\n",
       "    }\n",
       "</style>\n",
       "<table border=\"1\" class=\"dataframe\">\n",
       "  <thead>\n",
       "    <tr style=\"text-align: right;\">\n",
       "      <th></th>\n",
       "      <th>product_id</th>\n",
       "      <th>product_family</th>\n",
       "      <th>product_category</th>\n",
       "      <th>product_sub_category</th>\n",
       "      <th>product_gender</th>\n",
       "      <th>product_main_colour</th>\n",
       "      <th>product_second_color</th>\n",
       "      <th>product_brand</th>\n",
       "      <th>product_materials</th>\n",
       "      <th>product_short_description</th>\n",
       "      <th>product_attributes</th>\n",
       "      <th>product_image_path</th>\n",
       "      <th>product_highlights</th>\n",
       "      <th>branch</th>\n",
       "    </tr>\n",
       "  </thead>\n",
       "  <tbody>\n",
       "    <tr>\n",
       "      <th>388498</th>\n",
       "      <td>14034428</td>\n",
       "      <td>Clothing</td>\n",
       "      <td>Coats</td>\n",
       "      <td>Trench &amp; Raincoats</td>\n",
       "      <td>WOMEN</td>\n",
       "      <td>NEUTRALS</td>\n",
       "      <td>N/D</td>\n",
       "      <td>BURBERRY</td>\n",
       "      <td>[Leather, Cupro, Buffalo Horn, Cotton]</td>\n",
       "      <td>The Islington trench coat</td>\n",
       "      <td>[{\"attribute_name\":\"Body Length\",\"attribute_va...</td>\n",
       "      <td>14/03/44/28/14034428.jpg</td>\n",
       "      <td>[honey beige, cotton, spread collar, double-br...</td>\n",
       "      <td>Clothing~Coats~Trench &amp; Raincoats</td>\n",
       "    </tr>\n",
       "    <tr>\n",
       "      <th>20555</th>\n",
       "      <td>16595992</td>\n",
       "      <td>Clothing</td>\n",
       "      <td>Dresses</td>\n",
       "      <td>Day Dresses</td>\n",
       "      <td>WOMEN</td>\n",
       "      <td>BLACK</td>\n",
       "      <td>N/D</td>\n",
       "      <td>THOM KROM</td>\n",
       "      <td>[viscose, Spandex/Elastane, Cotton]</td>\n",
       "      <td>sleeveless fitted maxi dress</td>\n",
       "      <td>[{\"attribute_name\":\"Dress Length\",\"attribute_v...</td>\n",
       "      <td>16/59/59/92/16595992.jpg</td>\n",
       "      <td>[black, stretch-cotton, round neck, sleeveless...</td>\n",
       "      <td>Clothing~Dresses~Day Dresses</td>\n",
       "    </tr>\n",
       "    <tr>\n",
       "      <th>320524</th>\n",
       "      <td>17755865</td>\n",
       "      <td>Bags</td>\n",
       "      <td>Tote Bags</td>\n",
       "      <td>N/D</td>\n",
       "      <td>WOMEN</td>\n",
       "      <td>RED</td>\n",
       "      <td>N/D</td>\n",
       "      <td>MOSCHINO</td>\n",
       "      <td>[Calf Leather]</td>\n",
       "      <td>graphic-print shoulder bag</td>\n",
       "      <td>None</td>\n",
       "      <td>17/75/58/65/17755865.jpg</td>\n",
       "      <td>[multicolour, calf leather, gold-tone hardware...</td>\n",
       "      <td>Bags~Tote Bags~N/D</td>\n",
       "    </tr>\n",
       "    <tr>\n",
       "      <th>384203</th>\n",
       "      <td>17903020</td>\n",
       "      <td>Jewellery</td>\n",
       "      <td>Rings</td>\n",
       "      <td>N/D</td>\n",
       "      <td>WOMEN</td>\n",
       "      <td>GREY</td>\n",
       "      <td>N/D</td>\n",
       "      <td>Vann Jewelry</td>\n",
       "      <td>[Silver]</td>\n",
       "      <td>two-tone twisted band ring</td>\n",
       "      <td>None</td>\n",
       "      <td>17/90/30/20/17903020.jpg</td>\n",
       "      <td>[silver-tone/gold-tone, thin band, silver-tone...</td>\n",
       "      <td>Jewellery~Rings~N/D</td>\n",
       "    </tr>\n",
       "    <tr>\n",
       "      <th>153580</th>\n",
       "      <td>17443844</td>\n",
       "      <td>Clothing</td>\n",
       "      <td>Tops</td>\n",
       "      <td>Shirts</td>\n",
       "      <td>WOMEN</td>\n",
       "      <td>YELLOW</td>\n",
       "      <td>N/D</td>\n",
       "      <td>VERSACE JEANS COUTURE</td>\n",
       "      <td>[Cotton]</td>\n",
       "      <td>colour block denim shirt</td>\n",
       "      <td>[{\"attribute_name\":\"Sleeve Length\",\"attribute_...</td>\n",
       "      <td>17/44/38/44/17443844.jpg</td>\n",
       "      <td>[Multicolour cotton colour block denim shirt f...</td>\n",
       "      <td>Clothing~Tops~Shirts</td>\n",
       "    </tr>\n",
       "  </tbody>\n",
       "</table>\n",
       "</div>"
      ]
     },
     "execution_count": 13,
     "metadata": {},
     "output_type": "execute_result"
    }
   ],
   "source": [
    "train_set.head()"
   ]
  },
  {
   "cell_type": "code",
   "execution_count": 14,
   "id": "6d681143-91b7-4f17-ba62-1914bf53502e",
   "metadata": {},
   "outputs": [
    {
     "name": "stdout",
     "output_type": "stream",
     "text": [
      "<class 'pandas.core.frame.DataFrame'>\n",
      "RangeIndex: 118332 entries, 0 to 118331\n",
      "Data columns (total 14 columns):\n",
      " #   Column                     Non-Null Count   Dtype \n",
      "---  ------                     --------------   ----- \n",
      " 0   product_id                 118332 non-null  int64 \n",
      " 1   product_family             118332 non-null  object\n",
      " 2   product_category           118332 non-null  object\n",
      " 3   product_sub_category       118332 non-null  object\n",
      " 4   product_gender             118332 non-null  object\n",
      " 5   product_main_colour        118332 non-null  object\n",
      " 6   product_second_color       118329 non-null  object\n",
      " 7   product_brand              118332 non-null  object\n",
      " 8   product_materials          118290 non-null  object\n",
      " 9   product_short_description  118328 non-null  object\n",
      " 10  product_attributes         69852 non-null   object\n",
      " 11  product_image_path         118332 non-null  object\n",
      " 12  product_highlights         113920 non-null  object\n",
      " 13  branch                     118332 non-null  object\n",
      "dtypes: int64(1), object(13)\n",
      "memory usage: 12.6+ MB\n"
     ]
    }
   ],
   "source": [
    "test_set = pd.read_csv(f'{DATASET_PATH}/test_set.csv')\n",
    "test_set.info()"
   ]
  },
  {
   "cell_type": "markdown",
   "id": "b3534fb7-43dc-4295-9304-7294ec36d468",
   "metadata": {},
   "source": [
    "**Step 2**\n",
    "\n",
    "* Normalizamos nombres de columnas y las variable categoricas.\n",
    "* Borramos columnnas y filas con nulos.\n",
    "* Seleccionamos columnas de interés.\n",
    "* Construimos la columnas branch, la cual es la rama en la que se encuentra un producto dentro del arbol de categorias del e-commerce. Esta esta compeusta por:\n",
    "    1. Familia.\n",
    "    2. Categoria\n",
    "    3. Sub categoria."
   ]
  },
  {
   "cell_type": "markdown",
   "id": "16c1c3b4-5a6c-4fc5-8bbd-f4ab64e929c4",
   "metadata": {},
   "source": [
    "Normalización:"
   ]
  },
  {
   "cell_type": "code",
   "execution_count": 15,
   "id": "9dd83922-1b6d-4493-b2d9-c8ac128762c7",
   "metadata": {},
   "outputs": [],
   "source": [
    "to_lower_strip(train_set, ['product_family', 'product_category', 'product_sub_category', 'product_brand', 'product_gender'])\n",
    "to_lower_strip(test_set, ['product_family', 'product_category', 'product_sub_category', 'product_brand', 'product_gender'])"
   ]
  },
  {
   "cell_type": "markdown",
   "id": "351bf1a4-c373-477d-967d-c53ab6875a97",
   "metadata": {},
   "source": [
    "Renombrado de columnas:"
   ]
  },
  {
   "cell_type": "code",
   "execution_count": 16,
   "id": "f55f991c-3544-434e-abdf-b07db364a2eb",
   "metadata": {},
   "outputs": [],
   "source": [
    "train_set = train_set.rename(columns={\n",
    "    'product_id'               : 'id',\n",
    "    'product_gender'           : 'gender',    \n",
    "    'product_short_description': 'description', \n",
    "    'product_highlights'       : 'highlights',\n",
    "    'product_image_path'       : 'image',\n",
    "    'product_materials'        : 'materials',\n",
    "    'product_family'           : 'family',\n",
    "    'product_category'         : 'category',\n",
    "    'product_sub_category'     : 'sub_category', \n",
    "    'product_brand'            : 'brand',\n",
    "    'product_main_colour'      : 'main_colour', \n",
    "    'product_second_color'     : 'second_color',\n",
    "    'product_image_path'       : 'image_uri'\n",
    "})\n",
    "test_set = test_set.rename(columns={\n",
    "    'product_id'               : 'id',\n",
    "    'product_gender'           : 'gender',    \n",
    "    'product_short_description': 'description', \n",
    "    'product_highlights'       : 'highlights',\n",
    "    'product_image_path'       : 'image',\n",
    "    'product_materials'        : 'materials',\n",
    "    'product_family'           : 'family',\n",
    "    'product_category'         : 'category',\n",
    "    'product_sub_category'     : 'sub_category', \n",
    "    'product_brand'            : 'brand',\n",
    "    'product_main_colour'      : 'main_colour', \n",
    "    'product_second_color'     : 'second_color',\n",
    "    'product_image_path'       : 'image_uri'\n",
    "})"
   ]
  },
  {
   "cell_type": "markdown",
   "id": "55fbf033-1120-4bc4-8017-f393d0ef1d30",
   "metadata": {},
   "source": [
    "Selección de columnas de interés:"
   ]
  },
  {
   "cell_type": "code",
   "execution_count": 17,
   "id": "06287389-f228-436a-a740-8cad8856dd28",
   "metadata": {},
   "outputs": [],
   "source": [
    "cols = ['id', 'family', 'category', 'sub_category', 'description', 'highlights', 'brand', 'gender', 'materials', 'image_uri']\n",
    "\n",
    "train_products = train_set[cols]\n",
    "test_products  = test_set[cols]"
   ]
  },
  {
   "cell_type": "markdown",
   "id": "b2ce60e2-f3c2-4e04-bcda-9369ef7c2e90",
   "metadata": {},
   "source": [
    "Construimos la columna branch:"
   ]
  },
  {
   "cell_type": "code",
   "execution_count": 18,
   "id": "282e75ca-811e-42a9-ad71-2c0133c057a3",
   "metadata": {},
   "outputs": [],
   "source": [
    "train_products['branch'] = train_products['family'] + '~' + train_products['category'] + '~' + train_products['sub_category']\n",
    "test_products['branch']  = test_products['family']  + '~' + test_products['category']  + '~' + test_products['sub_category']"
   ]
  },
  {
   "cell_type": "markdown",
   "id": "0ff6d6b2-0c35-4677-87fb-6aea7f8a7664",
   "metadata": {},
   "source": [
    "Borramos filas y columnas que tengan todos sus valores nulos: "
   ]
  },
  {
   "cell_type": "code",
   "execution_count": 19,
   "id": "114ad32a-8816-4d9a-929e-cb44872c06b6",
   "metadata": {},
   "outputs": [],
   "source": [
    "train_products = train_products.dropna(how='all', axis=1).dropna(axis=0)\n",
    "test_products  = test_products.dropna(how='all', axis=1).dropna(axis=0)\n",
    "None"
   ]
  },
  {
   "cell_type": "code",
   "execution_count": 20,
   "id": "0e4a7f81-fb57-4918-bc93-510ed25c18f9",
   "metadata": {},
   "outputs": [
    {
     "data": {
      "text/html": [
       "<div>\n",
       "<style scoped>\n",
       "    .dataframe tbody tr th:only-of-type {\n",
       "        vertical-align: middle;\n",
       "    }\n",
       "\n",
       "    .dataframe tbody tr th {\n",
       "        vertical-align: top;\n",
       "    }\n",
       "\n",
       "    .dataframe thead th {\n",
       "        text-align: right;\n",
       "    }\n",
       "</style>\n",
       "<table border=\"1\" class=\"dataframe\">\n",
       "  <thead>\n",
       "    <tr style=\"text-align: right;\">\n",
       "      <th></th>\n",
       "      <th>id</th>\n",
       "      <th>family</th>\n",
       "      <th>category</th>\n",
       "      <th>sub_category</th>\n",
       "      <th>description</th>\n",
       "      <th>highlights</th>\n",
       "      <th>brand</th>\n",
       "      <th>gender</th>\n",
       "      <th>materials</th>\n",
       "      <th>image_uri</th>\n",
       "      <th>branch</th>\n",
       "    </tr>\n",
       "  </thead>\n",
       "  <tbody>\n",
       "    <tr>\n",
       "      <th>388498</th>\n",
       "      <td>14034428</td>\n",
       "      <td>clothing</td>\n",
       "      <td>coats</td>\n",
       "      <td>trench &amp; raincoats</td>\n",
       "      <td>The Islington trench coat</td>\n",
       "      <td>[honey beige, cotton, spread collar, double-br...</td>\n",
       "      <td>burberry</td>\n",
       "      <td>women</td>\n",
       "      <td>[Leather, Cupro, Buffalo Horn, Cotton]</td>\n",
       "      <td>14/03/44/28/14034428.jpg</td>\n",
       "      <td>clothing~coats~trench &amp; raincoats</td>\n",
       "    </tr>\n",
       "    <tr>\n",
       "      <th>20555</th>\n",
       "      <td>16595992</td>\n",
       "      <td>clothing</td>\n",
       "      <td>dresses</td>\n",
       "      <td>day dresses</td>\n",
       "      <td>sleeveless fitted maxi dress</td>\n",
       "      <td>[black, stretch-cotton, round neck, sleeveless...</td>\n",
       "      <td>thom krom</td>\n",
       "      <td>women</td>\n",
       "      <td>[viscose, Spandex/Elastane, Cotton]</td>\n",
       "      <td>16/59/59/92/16595992.jpg</td>\n",
       "      <td>clothing~dresses~day dresses</td>\n",
       "    </tr>\n",
       "    <tr>\n",
       "      <th>320524</th>\n",
       "      <td>17755865</td>\n",
       "      <td>bags</td>\n",
       "      <td>tote bags</td>\n",
       "      <td>n/d</td>\n",
       "      <td>graphic-print shoulder bag</td>\n",
       "      <td>[multicolour, calf leather, gold-tone hardware...</td>\n",
       "      <td>moschino</td>\n",
       "      <td>women</td>\n",
       "      <td>[Calf Leather]</td>\n",
       "      <td>17/75/58/65/17755865.jpg</td>\n",
       "      <td>bags~tote bags~n/d</td>\n",
       "    </tr>\n",
       "    <tr>\n",
       "      <th>384203</th>\n",
       "      <td>17903020</td>\n",
       "      <td>jewellery</td>\n",
       "      <td>rings</td>\n",
       "      <td>n/d</td>\n",
       "      <td>two-tone twisted band ring</td>\n",
       "      <td>[silver-tone/gold-tone, thin band, silver-tone...</td>\n",
       "      <td>vann jewelry</td>\n",
       "      <td>women</td>\n",
       "      <td>[Silver]</td>\n",
       "      <td>17/90/30/20/17903020.jpg</td>\n",
       "      <td>jewellery~rings~n/d</td>\n",
       "    </tr>\n",
       "    <tr>\n",
       "      <th>153580</th>\n",
       "      <td>17443844</td>\n",
       "      <td>clothing</td>\n",
       "      <td>tops</td>\n",
       "      <td>shirts</td>\n",
       "      <td>colour block denim shirt</td>\n",
       "      <td>[Multicolour cotton colour block denim shirt f...</td>\n",
       "      <td>versace jeans couture</td>\n",
       "      <td>women</td>\n",
       "      <td>[Cotton]</td>\n",
       "      <td>17/44/38/44/17443844.jpg</td>\n",
       "      <td>clothing~tops~shirts</td>\n",
       "    </tr>\n",
       "  </tbody>\n",
       "</table>\n",
       "</div>"
      ]
     },
     "execution_count": 20,
     "metadata": {},
     "output_type": "execute_result"
    }
   ],
   "source": [
    "train_products.head()"
   ]
  },
  {
   "cell_type": "markdown",
   "id": "c9546218-1491-4449-a155-348c45d1a373",
   "metadata": {},
   "source": [
    "**Step 3**:  Filtramos productos con mas de MAX_TOKENS tokens en la descripcion, para disminiur el tiempo de entrenamiento."
   ]
  },
  {
   "cell_type": "code",
   "execution_count": 21,
   "id": "4d273a20-5982-49e6-a4c0-76118403e32a",
   "metadata": {},
   "outputs": [],
   "source": [
    "train_products['desc_tokens']  = train_products['description'].apply(lambda x: x.split(' '))\n",
    "train_products['tokens_count'] = train_products['desc_tokens'].apply(len)\n",
    "\n",
    "test_products['desc_tokens']  = test_products['description'].apply(lambda x: str(x).split(' '))\n",
    "test_products['tokens_count'] = test_products['desc_tokens'].apply(len)"
   ]
  },
  {
   "cell_type": "code",
   "execution_count": 22,
   "id": "2f1c8d71-62d7-4e54-a3f7-51b9aee36959",
   "metadata": {},
   "outputs": [
    {
     "data": {
      "text/html": [
       "<pre style=\"white-space:pre;overflow-x:auto;line-height:normal;font-family:Menlo,'DejaVu Sans Mono',consolas,'Courier New',monospace\"><span style=\"font-weight: bold\">(</span><span style=\"color: #008080; text-decoration-color: #008080; font-weight: bold\">1</span>, <span style=\"color: #008080; text-decoration-color: #008080; font-weight: bold\">40</span><span style=\"font-weight: bold\">)</span>\n",
       "</pre>\n"
      ],
      "text/plain": [
       "\u001b[1m(\u001b[0m\u001b[1;36m1\u001b[0m, \u001b[1;36m40\u001b[0m\u001b[1m)\u001b[0m\n"
      ]
     },
     "metadata": {},
     "output_type": "display_data"
    }
   ],
   "source": [
    "train_products['tokens_count'].min(), train_products['tokens_count'].max()"
   ]
  },
  {
   "cell_type": "code",
   "execution_count": 23,
   "id": "a2df241a-036d-4b67-a2b8-f2ab10497af0",
   "metadata": {},
   "outputs": [
    {
     "data": {
      "text/html": [
       "<pre style=\"white-space:pre;overflow-x:auto;line-height:normal;font-family:Menlo,'DejaVu Sans Mono',consolas,'Courier New',monospace\"><span style=\"font-weight: bold\">(</span><span style=\"color: #008080; text-decoration-color: #008080; font-weight: bold\">1</span>, <span style=\"color: #008080; text-decoration-color: #008080; font-weight: bold\">10</span><span style=\"font-weight: bold\">)</span>\n",
       "</pre>\n"
      ],
      "text/plain": [
       "\u001b[1m(\u001b[0m\u001b[1;36m1\u001b[0m, \u001b[1;36m10\u001b[0m\u001b[1m)\u001b[0m\n"
      ]
     },
     "metadata": {},
     "output_type": "display_data"
    }
   ],
   "source": [
    "test_products['tokens_count'].min(), test_products['tokens_count'].max()"
   ]
  },
  {
   "cell_type": "code",
   "execution_count": 24,
   "id": "1ad342b7-f1a5-4137-b960-460cc5f76ac8",
   "metadata": {},
   "outputs": [],
   "source": [
    "filtered_train_products = train_products[train_products['tokens_count'] < MAX_TOKENS]\n",
    "filtered_test_products  = test_products[test_products['tokens_count']   < MAX_TOKENS]"
   ]
  },
  {
   "cell_type": "code",
   "execution_count": 25,
   "id": "3bb11705-4f23-489a-8d47-535d576375ed",
   "metadata": {},
   "outputs": [
    {
     "data": {
      "text/html": [
       "<pre style=\"white-space:pre;overflow-x:auto;line-height:normal;font-family:Menlo,'DejaVu Sans Mono',consolas,'Courier New',monospace\"><span style=\"font-weight: bold\">(</span><span style=\"color: #008080; text-decoration-color: #008080; font-weight: bold\">1</span>, <span style=\"color: #008080; text-decoration-color: #008080; font-weight: bold\">40</span><span style=\"font-weight: bold\">)</span>\n",
       "</pre>\n"
      ],
      "text/plain": [
       "\u001b[1m(\u001b[0m\u001b[1;36m1\u001b[0m, \u001b[1;36m40\u001b[0m\u001b[1m)\u001b[0m\n"
      ]
     },
     "metadata": {},
     "output_type": "display_data"
    }
   ],
   "source": [
    "filtered_train_products['tokens_count'].min(), filtered_train_products['tokens_count'].max()"
   ]
  },
  {
   "cell_type": "code",
   "execution_count": 26,
   "id": "70b1e48e-93b1-43da-ba8f-5db22fc19dd9",
   "metadata": {},
   "outputs": [
    {
     "data": {
      "text/html": [
       "<pre style=\"white-space:pre;overflow-x:auto;line-height:normal;font-family:Menlo,'DejaVu Sans Mono',consolas,'Courier New',monospace\"><span style=\"font-weight: bold\">(</span><span style=\"color: #008080; text-decoration-color: #008080; font-weight: bold\">1</span>, <span style=\"color: #008080; text-decoration-color: #008080; font-weight: bold\">10</span><span style=\"font-weight: bold\">)</span>\n",
       "</pre>\n"
      ],
      "text/plain": [
       "\u001b[1m(\u001b[0m\u001b[1;36m1\u001b[0m, \u001b[1;36m10\u001b[0m\u001b[1m)\u001b[0m\n"
      ]
     },
     "metadata": {},
     "output_type": "display_data"
    }
   ],
   "source": [
    "filtered_test_products['tokens_count'].min(), filtered_test_products['tokens_count'].max()"
   ]
  },
  {
   "cell_type": "markdown",
   "id": "ab37db9d-a9f2-4938-aa06-81a6595ea046",
   "metadata": {},
   "source": [
    "**Step 4**: Seleccionamos las columnas y tipos de datos finales."
   ]
  },
  {
   "cell_type": "code",
   "execution_count": 27,
   "id": "c18c764c-fb11-478b-b6a1-f6b73d8f782c",
   "metadata": {},
   "outputs": [],
   "source": [
    "cols =  [\n",
    "    'id', \n",
    "    'family', \n",
    "    'category', \n",
    "    'sub_category',\n",
    "    'description',\n",
    "    'highlights',\n",
    "    'brand',\n",
    "    'gender',\n",
    "    'materials',\n",
    "    'branch', \n",
    "    'tokens_count',\n",
    "    'image_uri'\n",
    "]\n",
    "col_types = {    \n",
    "    'id': int,\n",
    "    'family': str,\n",
    "    'category': str,\n",
    "    'sub_category': str,\n",
    "    'brand': str,\n",
    "    'gender': str,\n",
    "    'branch': str,\n",
    "    'description': str\n",
    "}"
   ]
  },
  {
   "cell_type": "code",
   "execution_count": 28,
   "id": "2b41193e-6576-4fa3-91e9-b733246ed16a",
   "metadata": {},
   "outputs": [
    {
     "name": "stdout",
     "output_type": "stream",
     "text": [
      "<class 'pandas.core.frame.DataFrame'>\n",
      "Int64Index: 265556 entries, 388498 to 86966\n",
      "Data columns (total 12 columns):\n",
      " #   Column        Non-Null Count   Dtype \n",
      "---  ------        --------------   ----- \n",
      " 0   id            265556 non-null  int64 \n",
      " 1   family        265556 non-null  object\n",
      " 2   category      265556 non-null  object\n",
      " 3   sub_category  265556 non-null  object\n",
      " 4   description   265556 non-null  object\n",
      " 5   highlights    265556 non-null  object\n",
      " 6   brand         265556 non-null  object\n",
      " 7   gender        265556 non-null  object\n",
      " 8   materials     265556 non-null  object\n",
      " 9   branch        265556 non-null  object\n",
      " 10  tokens_count  265556 non-null  int64 \n",
      " 11  image_uri     265556 non-null  object\n",
      "dtypes: int64(2), object(10)\n",
      "memory usage: 26.3+ MB\n"
     ]
    }
   ],
   "source": [
    "filtered_train_products = filtered_train_products[cols]\n",
    "filtered_train_products = filtered_train_products.dropna(how='all', axis=1).dropna(axis=0)\n",
    "filtered_train_products = filtered_train_products.astype(col_types)\n",
    "\n",
    "filtered_test_products = filtered_test_products[cols]\n",
    "filtered_test_products = filtered_test_products.dropna(how='all', axis=1).dropna(axis=0)\n",
    "filtered_test_products = filtered_test_products.astype(col_types)\n",
    "\n",
    "filtered_train_products.info()"
   ]
  },
  {
   "cell_type": "markdown",
   "id": "414feec8-7c7f-4385-a7d3-7b66bcb2f553",
   "metadata": {},
   "source": [
    "**Step 5**: Juntamos las categorias que confunden el modelo y ademas son muy similares entre si."
   ]
  },
  {
   "cell_type": "code",
   "execution_count": 29,
   "id": "c9a45ec8-0605-4371-ac1d-38dcda61b9b3",
   "metadata": {},
   "outputs": [
    {
     "data": {
      "text/html": [
       "<pre style=\"white-space:pre;overflow-x:auto;line-height:normal;font-family:Menlo,'DejaVu Sans Mono',consolas,'Courier New',monospace\"><span style=\"font-weight: bold\">(</span><span style=\"color: #008080; text-decoration-color: #008080; font-weight: bold\">194</span>,<span style=\"font-weight: bold\">)</span>\n",
       "</pre>\n"
      ],
      "text/plain": [
       "\u001b[1m(\u001b[0m\u001b[1;36m194\u001b[0m,\u001b[1m)\u001b[0m\n"
      ]
     },
     "metadata": {},
     "output_type": "display_data"
    }
   ],
   "source": [
    "filtered_train_products['branch'].unique().shape"
   ]
  },
  {
   "cell_type": "code",
   "execution_count": 30,
   "id": "a34da9b6-17fb-4bac-9e23-6306efc69a46",
   "metadata": {},
   "outputs": [
    {
     "data": {
      "text/html": [
       "<pre style=\"white-space:pre;overflow-x:auto;line-height:normal;font-family:Menlo,'DejaVu Sans Mono',consolas,'Courier New',monospace\"><span style=\"font-weight: bold\">(</span><span style=\"color: #008080; text-decoration-color: #008080; font-weight: bold\">194</span>,<span style=\"font-weight: bold\">)</span>\n",
       "</pre>\n"
      ],
      "text/plain": [
       "\u001b[1m(\u001b[0m\u001b[1;36m194\u001b[0m,\u001b[1m)\u001b[0m\n"
      ]
     },
     "metadata": {},
     "output_type": "display_data"
    }
   ],
   "source": [
    "filtered_test_products['branch'].unique().shape"
   ]
  },
  {
   "cell_type": "code",
   "execution_count": 31,
   "id": "9e26d942-9678-4519-bf70-cf0bd0076729",
   "metadata": {},
   "outputs": [],
   "source": [
    "similar_categories = {\n",
    "  'clothing~coats~oversized coats'       : 'clothing~coats~single breasted coats',\n",
    "  'clothing~jackets~cropped jackets'     : 'clothing~jackets~fitted jackets',\n",
    "  'clothing~jackets~lightweight jackets' : 'clothing~jackets~sport jackets & windbreakers',\n",
    "  'clothing~trousers~skinny trousers'    : 'clothing~trousers~slim-fit trousers'\n",
    "}\n",
    "\n",
    "filtered_train_products['branch'] = filtered_train_products['branch'].apply(lambda x: similar_categories[x] if x in similar_categories else x)\n",
    "filtered_test_products['branch']  = filtered_test_products['branch'].apply(lambda x: similar_categories[x] if x in similar_categories else x)"
   ]
  },
  {
   "cell_type": "code",
   "execution_count": 32,
   "id": "370c6121-e5fd-41df-8440-9b9c69bccb70",
   "metadata": {},
   "outputs": [
    {
     "data": {
      "text/html": [
       "<pre style=\"white-space:pre;overflow-x:auto;line-height:normal;font-family:Menlo,'DejaVu Sans Mono',consolas,'Courier New',monospace\"><span style=\"font-weight: bold\">(</span><span style=\"color: #008080; text-decoration-color: #008080; font-weight: bold\">190</span>,<span style=\"font-weight: bold\">)</span>\n",
       "</pre>\n"
      ],
      "text/plain": [
       "\u001b[1m(\u001b[0m\u001b[1;36m190\u001b[0m,\u001b[1m)\u001b[0m\n"
      ]
     },
     "metadata": {},
     "output_type": "display_data"
    }
   ],
   "source": [
    "filtered_train_products['branch'].unique().shape"
   ]
  },
  {
   "cell_type": "code",
   "execution_count": 33,
   "id": "96fa508b-bb94-4a94-b03d-1ceb24ecf4c9",
   "metadata": {},
   "outputs": [
    {
     "data": {
      "text/html": [
       "<pre style=\"white-space:pre;overflow-x:auto;line-height:normal;font-family:Menlo,'DejaVu Sans Mono',consolas,'Courier New',monospace\"><span style=\"font-weight: bold\">(</span><span style=\"color: #008080; text-decoration-color: #008080; font-weight: bold\">190</span>,<span style=\"font-weight: bold\">)</span>\n",
       "</pre>\n"
      ],
      "text/plain": [
       "\u001b[1m(\u001b[0m\u001b[1;36m190\u001b[0m,\u001b[1m)\u001b[0m\n"
      ]
     },
     "metadata": {},
     "output_type": "display_data"
    }
   ],
   "source": [
    "filtered_test_products['branch'].unique().shape"
   ]
  },
  {
   "cell_type": "markdown",
   "id": "67a74b60-00a5-4090-b74b-b2db13985a11",
   "metadata": {},
   "source": [
    "**Step 6**: Dowsampling de clases mayoritarias. Dado que tenemos un gran nivel de desbalance de las clases, se realizara un downsampling, es decir tomar un máximo de ejemplos para las clases mayoritarias. De esta forma, se intenta aumentar el balance de clases en el dataset."
   ]
  },
  {
   "cell_type": "code",
   "execution_count": 34,
   "id": "c4638e2c-f7e9-4737-9792-aac673f84e4e",
   "metadata": {},
   "outputs": [
    {
     "data": {
      "text/html": [
       "<div>\n",
       "<style scoped>\n",
       "    .dataframe tbody tr th:only-of-type {\n",
       "        vertical-align: middle;\n",
       "    }\n",
       "\n",
       "    .dataframe tbody tr th {\n",
       "        vertical-align: top;\n",
       "    }\n",
       "\n",
       "    .dataframe thead th {\n",
       "        text-align: right;\n",
       "    }\n",
       "</style>\n",
       "<table border=\"1\" class=\"dataframe\">\n",
       "  <thead>\n",
       "    <tr style=\"text-align: right;\">\n",
       "      <th></th>\n",
       "      <th>branch</th>\n",
       "      <th>count</th>\n",
       "    </tr>\n",
       "  </thead>\n",
       "  <tbody>\n",
       "    <tr>\n",
       "      <th>129</th>\n",
       "      <td>clothing~t-shirts &amp; vests~t-shirts</td>\n",
       "      <td>17358</td>\n",
       "    </tr>\n",
       "    <tr>\n",
       "      <th>69</th>\n",
       "      <td>clothing~dresses~day dresses</td>\n",
       "      <td>14824</td>\n",
       "    </tr>\n",
       "    <tr>\n",
       "      <th>138</th>\n",
       "      <td>clothing~tops~t-shirts &amp; jerseys</td>\n",
       "      <td>11343</td>\n",
       "    </tr>\n",
       "    <tr>\n",
       "      <th>34</th>\n",
       "      <td>bags~tote bags~n/d</td>\n",
       "      <td>10126</td>\n",
       "    </tr>\n",
       "    <tr>\n",
       "      <th>100</th>\n",
       "      <td>clothing~shirts~n/d</td>\n",
       "      <td>9866</td>\n",
       "    </tr>\n",
       "  </tbody>\n",
       "</table>\n",
       "</div>"
      ]
     },
     "execution_count": 34,
     "metadata": {},
     "output_type": "execute_result"
    }
   ],
   "source": [
    "train_products_by_branch = ut.group_by_count(filtered_train_products, 'branch', 'id')\n",
    "train_products_by_branch.head()"
   ]
  },
  {
   "cell_type": "code",
   "execution_count": 35,
   "id": "246f1824-346c-4c0a-8b35-6c06e805d1dc",
   "metadata": {},
   "outputs": [
    {
     "data": {
      "text/html": [
       "<div>\n",
       "<style scoped>\n",
       "    .dataframe tbody tr th:only-of-type {\n",
       "        vertical-align: middle;\n",
       "    }\n",
       "\n",
       "    .dataframe tbody tr th {\n",
       "        vertical-align: top;\n",
       "    }\n",
       "\n",
       "    .dataframe thead th {\n",
       "        text-align: right;\n",
       "    }\n",
       "</style>\n",
       "<table border=\"1\" class=\"dataframe\">\n",
       "  <thead>\n",
       "    <tr style=\"text-align: right;\">\n",
       "      <th></th>\n",
       "      <th>branch</th>\n",
       "      <th>count</th>\n",
       "    </tr>\n",
       "  </thead>\n",
       "  <tbody>\n",
       "    <tr>\n",
       "      <th>129</th>\n",
       "      <td>clothing~t-shirts &amp; vests~t-shirts</td>\n",
       "      <td>7488</td>\n",
       "    </tr>\n",
       "    <tr>\n",
       "      <th>69</th>\n",
       "      <td>clothing~dresses~day dresses</td>\n",
       "      <td>6363</td>\n",
       "    </tr>\n",
       "    <tr>\n",
       "      <th>138</th>\n",
       "      <td>clothing~tops~t-shirts &amp; jerseys</td>\n",
       "      <td>4874</td>\n",
       "    </tr>\n",
       "    <tr>\n",
       "      <th>34</th>\n",
       "      <td>bags~tote bags~n/d</td>\n",
       "      <td>4343</td>\n",
       "    </tr>\n",
       "    <tr>\n",
       "      <th>100</th>\n",
       "      <td>clothing~shirts~n/d</td>\n",
       "      <td>4235</td>\n",
       "    </tr>\n",
       "  </tbody>\n",
       "</table>\n",
       "</div>"
      ]
     },
     "execution_count": 35,
     "metadata": {},
     "output_type": "execute_result"
    }
   ],
   "source": [
    "test_products_by_branch = ut.group_by_count(filtered_test_products, 'branch', 'id')\n",
    "test_products_by_branch.head()"
   ]
  },
  {
   "cell_type": "code",
   "execution_count": 36,
   "id": "450fd362-2e73-48b5-9507-6f9b4fbaa4f7",
   "metadata": {},
   "outputs": [
    {
     "data": {
      "text/html": [
       "<pre style=\"white-space:pre;overflow-x:auto;line-height:normal;font-family:Menlo,'DejaVu Sans Mono',consolas,'Courier New',monospace\"><span style=\"font-weight: bold\">&lt;</span><span style=\"color: #ff00ff; text-decoration-color: #ff00ff; font-weight: bold\">Figure</span><span style=\"color: #000000; text-decoration-color: #000000\"> size 80</span><span style=\"color: #008080; text-decoration-color: #008080; font-weight: bold\">0x500</span><span style=\"color: #000000; text-decoration-color: #000000\"> with </span><span style=\"color: #008080; text-decoration-color: #008080; font-weight: bold\">1</span><span style=\"color: #000000; text-decoration-color: #000000\"> Axes</span><span style=\"font-weight: bold\">&gt;</span>\n",
       "</pre>\n"
      ],
      "text/plain": [
       "\u001b[1m<\u001b[0m\u001b[1;95mFigure\u001b[0m\u001b[39m size 80\u001b[0m\u001b[1;36m0x500\u001b[0m\u001b[39m with \u001b[0m\u001b[1;36m1\u001b[0m\u001b[39m Axes\u001b[0m\u001b[1m>\u001b[0m\n"
      ]
     },
     "metadata": {},
     "output_type": "display_data"
    },
    {
     "data": {
      "image/png": "[encoded data removed]"
     },
     "metadata": {},
     "output_type": "display_data"
    }
   ],
   "source": [
    "plot_branch_count(train_products_by_branch)"
   ]
  },
  {
   "cell_type": "code",
   "execution_count": 37,
   "id": "b9bc9968-4a1f-45b5-94a5-e2655ed235fb",
   "metadata": {},
   "outputs": [
    {
     "data": {
      "text/html": [
       "<pre style=\"white-space:pre;overflow-x:auto;line-height:normal;font-family:Menlo,'DejaVu Sans Mono',consolas,'Courier New',monospace\"><span style=\"font-weight: bold\">(</span><span style=\"color: #008080; text-decoration-color: #008080; font-weight: bold\">26</span>, <span style=\"color: #008080; text-decoration-color: #008080; font-weight: bold\">17358</span><span style=\"font-weight: bold\">)</span>\n",
       "</pre>\n"
      ],
      "text/plain": [
       "\u001b[1m(\u001b[0m\u001b[1;36m26\u001b[0m, \u001b[1;36m17358\u001b[0m\u001b[1m)\u001b[0m\n"
      ]
     },
     "metadata": {},
     "output_type": "display_data"
    }
   ],
   "source": [
    "train_max_products = train_products_by_branch['count'].max()\n",
    "train_min_products = train_products_by_branch['count'].min()\n",
    "\n",
    "train_min_products, train_max_products"
   ]
  },
  {
   "cell_type": "code",
   "execution_count": 38,
   "id": "c8e94694-d77f-400d-97eb-8d7f242ace38",
   "metadata": {},
   "outputs": [
    {
     "data": {
      "text/html": [
       "<pre style=\"white-space:pre;overflow-x:auto;line-height:normal;font-family:Menlo,'DejaVu Sans Mono',consolas,'Courier New',monospace\"><span style=\"color: #008080; text-decoration-color: #008080; font-weight: bold\">190</span>\n",
       "</pre>\n"
      ],
      "text/plain": [
       "\u001b[1;36m190\u001b[0m\n"
      ]
     },
     "metadata": {},
     "output_type": "display_data"
    }
   ],
   "source": [
    "filtered_train_products.branch.nunique()"
   ]
  },
  {
   "cell_type": "code",
   "execution_count": 39,
   "id": "bec084c4-b90f-4da1-94f6-f84119d6b80f",
   "metadata": {},
   "outputs": [
    {
     "data": {
      "text/html": [
       "<pre style=\"white-space:pre;overflow-x:auto;line-height:normal;font-family:Menlo,'DejaVu Sans Mono',consolas,'Courier New',monospace\"><span style=\"color: #008080; text-decoration-color: #008080; font-weight: bold\">190</span>\n",
       "</pre>\n"
      ],
      "text/plain": [
       "\u001b[1;36m190\u001b[0m\n"
      ]
     },
     "metadata": {},
     "output_type": "display_data"
    }
   ],
   "source": [
    "filtered_test_products.branch.nunique()"
   ]
  },
  {
   "cell_type": "code",
   "execution_count": 40,
   "id": "d9c4b280-89df-469f-aa92-abf0457d7d56",
   "metadata": {},
   "outputs": [
    {
     "data": {
      "text/html": [
       "<pre style=\"white-space:pre;overflow-x:auto;line-height:normal;font-family:Menlo,'DejaVu Sans Mono',consolas,'Courier New',monospace\">\n",
       "clothing~t-shirts &amp; vests~t-shirts             <span style=\"color: #008080; text-decoration-color: #008080; font-weight: bold\">17358</span>\n",
       "clothing~dresses~day dresses                   <span style=\"color: #008080; text-decoration-color: #008080; font-weight: bold\">14824</span>\n",
       "clothing~tops~t-shirts &amp; jerseys               <span style=\"color: #008080; text-decoration-color: #008080; font-weight: bold\">11343</span>\n",
       "bags~tote bags~n/d                             <span style=\"color: #008080; text-decoration-color: #008080; font-weight: bold\">10126</span>\n",
       "clothing~shirts~n/d                             <span style=\"color: #008080; text-decoration-color: #008080; font-weight: bold\">9866</span>\n",
       "                                               <span style=\"color: #808000; text-decoration-color: #808000\">...</span>  \n",
       "demi-fine jewellery~demi-fine necklaces~n/d       <span style=\"color: #008080; text-decoration-color: #008080; font-weight: bold\">45</span>\n",
       "fine jewellery~fine rings~n/d                     <span style=\"color: #008080; text-decoration-color: #008080; font-weight: bold\">44</span>\n",
       "demi-fine jewellery~demi-fine earrings~n/d        <span style=\"color: #008080; text-decoration-color: #008080; font-weight: bold\">44</span>\n",
       "fine jewellery~fine earrings~n/d                  <span style=\"color: #008080; text-decoration-color: #008080; font-weight: bold\">44</span>\n",
       "fine jewellery~fine necklaces~n/d                 <span style=\"color: #008080; text-decoration-color: #008080; font-weight: bold\">26</span>\n",
       "Name: branch, Length: <span style=\"color: #008080; text-decoration-color: #008080; font-weight: bold\">190</span>, dtype: int64\n",
       "</pre>\n"
      ],
      "text/plain": [
       "\n",
       "clothing~t-shirts & vests~t-shirts             \u001b[1;36m17358\u001b[0m\n",
       "clothing~dresses~day dresses                   \u001b[1;36m14824\u001b[0m\n",
       "clothing~tops~t-shirts & jerseys               \u001b[1;36m11343\u001b[0m\n",
       "bags~tote bags~n/d                             \u001b[1;36m10126\u001b[0m\n",
       "clothing~shirts~n/d                             \u001b[1;36m9866\u001b[0m\n",
       "                                               \u001b[33m...\u001b[0m  \n",
       "demi-fine jewellery~demi-fine necklaces~n/d       \u001b[1;36m45\u001b[0m\n",
       "fine jewellery~fine rings~n/d                     \u001b[1;36m44\u001b[0m\n",
       "demi-fine jewellery~demi-fine earrings~n/d        \u001b[1;36m44\u001b[0m\n",
       "fine jewellery~fine earrings~n/d                  \u001b[1;36m44\u001b[0m\n",
       "fine jewellery~fine necklaces~n/d                 \u001b[1;36m26\u001b[0m\n",
       "Name: branch, Length: \u001b[1;36m190\u001b[0m, dtype: int64\n"
      ]
     },
     "metadata": {},
     "output_type": "display_data"
    }
   ],
   "source": [
    "branchs_count = filtered_train_products.branch.value_counts()\n",
    "branchs_count"
   ]
  },
  {
   "cell_type": "code",
   "execution_count": 41,
   "id": "f06870c2-edc7-422e-a97e-3bedfdf09738",
   "metadata": {},
   "outputs": [
    {
     "data": {
      "text/html": [
       "<pre style=\"white-space:pre;overflow-x:auto;line-height:normal;font-family:Menlo,'DejaVu Sans Mono',consolas,'Courier New',monospace\">\n",
       "count      <span style=\"color: #008080; text-decoration-color: #008080; font-weight: bold\">190.000000</span>\n",
       "mean      <span style=\"color: #008080; text-decoration-color: #008080; font-weight: bold\">1397.663158</span>\n",
       "std       <span style=\"color: #008080; text-decoration-color: #008080; font-weight: bold\">2496.592205</span>\n",
       "min         <span style=\"color: #008080; text-decoration-color: #008080; font-weight: bold\">26.000000</span>\n",
       "<span style=\"color: #008080; text-decoration-color: #008080; font-weight: bold\">0</span>%          <span style=\"color: #008080; text-decoration-color: #008080; font-weight: bold\">26.000000</span>\n",
       "<span style=\"color: #008080; text-decoration-color: #008080; font-weight: bold\">10</span>%         <span style=\"color: #008080; text-decoration-color: #008080; font-weight: bold\">91.000000</span>\n",
       "<span style=\"color: #008080; text-decoration-color: #008080; font-weight: bold\">20</span>%        <span style=\"color: #008080; text-decoration-color: #008080; font-weight: bold\">123.800000</span>\n",
       "<span style=\"color: #008080; text-decoration-color: #008080; font-weight: bold\">30</span>%        <span style=\"color: #008080; text-decoration-color: #008080; font-weight: bold\">178.800000</span>\n",
       "<span style=\"color: #008080; text-decoration-color: #008080; font-weight: bold\">40</span>%        <span style=\"color: #008080; text-decoration-color: #008080; font-weight: bold\">290.200000</span>\n",
       "<span style=\"color: #008080; text-decoration-color: #008080; font-weight: bold\">50</span>%        <span style=\"color: #008080; text-decoration-color: #008080; font-weight: bold\">427.500000</span>\n",
       "<span style=\"color: #008080; text-decoration-color: #008080; font-weight: bold\">60</span>%        <span style=\"color: #008080; text-decoration-color: #008080; font-weight: bold\">716.000000</span>\n",
       "<span style=\"color: #008080; text-decoration-color: #008080; font-weight: bold\">70</span>%       <span style=\"color: #008080; text-decoration-color: #008080; font-weight: bold\">1129.500000</span>\n",
       "<span style=\"color: #008080; text-decoration-color: #008080; font-weight: bold\">80</span>%       <span style=\"color: #008080; text-decoration-color: #008080; font-weight: bold\">1680.200000</span>\n",
       "<span style=\"color: #008080; text-decoration-color: #008080; font-weight: bold\">90</span>%       <span style=\"color: #008080; text-decoration-color: #008080; font-weight: bold\">4119.300000</span>\n",
       "max      <span style=\"color: #008080; text-decoration-color: #008080; font-weight: bold\">17358.000000</span>\n",
       "Name: branch, dtype: float64\n",
       "</pre>\n"
      ],
      "text/plain": [
       "\n",
       "count      \u001b[1;36m190.000000\u001b[0m\n",
       "mean      \u001b[1;36m1397.663158\u001b[0m\n",
       "std       \u001b[1;36m2496.592205\u001b[0m\n",
       "min         \u001b[1;36m26.000000\u001b[0m\n",
       "\u001b[1;36m0\u001b[0m%          \u001b[1;36m26.000000\u001b[0m\n",
       "\u001b[1;36m10\u001b[0m%         \u001b[1;36m91.000000\u001b[0m\n",
       "\u001b[1;36m20\u001b[0m%        \u001b[1;36m123.800000\u001b[0m\n",
       "\u001b[1;36m30\u001b[0m%        \u001b[1;36m178.800000\u001b[0m\n",
       "\u001b[1;36m40\u001b[0m%        \u001b[1;36m290.200000\u001b[0m\n",
       "\u001b[1;36m50\u001b[0m%        \u001b[1;36m427.500000\u001b[0m\n",
       "\u001b[1;36m60\u001b[0m%        \u001b[1;36m716.000000\u001b[0m\n",
       "\u001b[1;36m70\u001b[0m%       \u001b[1;36m1129.500000\u001b[0m\n",
       "\u001b[1;36m80\u001b[0m%       \u001b[1;36m1680.200000\u001b[0m\n",
       "\u001b[1;36m90\u001b[0m%       \u001b[1;36m4119.300000\u001b[0m\n",
       "max      \u001b[1;36m17358.000000\u001b[0m\n",
       "Name: branch, dtype: float64\n"
      ]
     },
     "metadata": {},
     "output_type": "display_data"
    }
   ],
   "source": [
    "description = branchs_count.describe(percentiles=list(np.arange(0, 1, 0.1)))\n",
    "description"
   ]
  },
  {
   "cell_type": "markdown",
   "id": "300d72f1-ed6a-4591-9700-3b9d019686ab",
   "metadata": {
    "tags": []
   },
   "source": [
    "se excluyen ramas con menos de 10 productos:"
   ]
  },
  {
   "cell_type": "code",
   "execution_count": 42,
   "id": "2e97fda4-c29c-4a2f-866d-e3b9891b4f03",
   "metadata": {},
   "outputs": [
    {
     "data": {
      "text/html": [
       "<pre style=\"white-space:pre;overflow-x:auto;line-height:normal;font-family:Menlo,'DejaVu Sans Mono',consolas,'Courier New',monospace\"><span style=\"font-weight: bold\">(</span><span style=\"color: #008080; text-decoration-color: #008080; font-weight: bold\">179</span>, <span style=\"color: #008080; text-decoration-color: #008080; font-weight: bold\">1129</span><span style=\"font-weight: bold\">)</span>\n",
       "</pre>\n"
      ],
      "text/plain": [
       "\u001b[1m(\u001b[0m\u001b[1;36m179\u001b[0m, \u001b[1;36m1129\u001b[0m\u001b[1m)\u001b[0m\n"
      ]
     },
     "metadata": {},
     "output_type": "display_data"
    }
   ],
   "source": [
    "MIN_PRODUCTS_BY_BRANCH = round(description[7])\n",
    "MAX_PRODUCTS_BY_BRANCH = round(description[11])\n",
    "\n",
    "MIN_PRODUCTS_BY_BRANCH, MAX_PRODUCTS_BY_BRANCH"
   ]
  },
  {
   "cell_type": "code",
   "execution_count": 43,
   "id": "04936ff3-107b-4a36-9dd6-235cb5917065",
   "metadata": {},
   "outputs": [],
   "source": [
    "data_balancer = dt.DataBalancer(\n",
    "    filtered_train_products,\n",
    "    min_n_instances = MIN_PRODUCTS_BY_BRANCH,\n",
    "    max_n_instances = MAX_PRODUCTS_BY_BRANCH,\n",
    "    class_col       = 'branch'\n",
    ")"
   ]
  },
  {
   "cell_type": "code",
   "execution_count": 44,
   "id": "d59d1d16-b926-4618-afb4-c0f9ad59afb2",
   "metadata": {},
   "outputs": [
    {
     "data": {
      "application/vnd.jupyter.widget-view+json": {
       "model_id": "56bd27331972498b9ffcf8e329e61fed",
       "version_major": 2,
       "version_minor": 0
      },
      "text/plain": [
       "Sampling...:   0%|          | 0/190 [00:00<?, ?it/s]"
      ]
     },
     "metadata": {},
     "output_type": "display_data"
    },
    {
     "data": {
      "text/html": [
       "<div>\n",
       "<style scoped>\n",
       "    .dataframe tbody tr th:only-of-type {\n",
       "        vertical-align: middle;\n",
       "    }\n",
       "\n",
       "    .dataframe tbody tr th {\n",
       "        vertical-align: top;\n",
       "    }\n",
       "\n",
       "    .dataframe thead th {\n",
       "        text-align: right;\n",
       "    }\n",
       "</style>\n",
       "<table border=\"1\" class=\"dataframe\">\n",
       "  <thead>\n",
       "    <tr style=\"text-align: right;\">\n",
       "      <th></th>\n",
       "      <th>id</th>\n",
       "      <th>family</th>\n",
       "      <th>category</th>\n",
       "      <th>sub_category</th>\n",
       "      <th>description</th>\n",
       "      <th>highlights</th>\n",
       "      <th>brand</th>\n",
       "      <th>gender</th>\n",
       "      <th>materials</th>\n",
       "      <th>branch</th>\n",
       "      <th>tokens_count</th>\n",
       "      <th>image_uri</th>\n",
       "    </tr>\n",
       "  </thead>\n",
       "  <tbody>\n",
       "    <tr>\n",
       "      <th>344238</th>\n",
       "      <td>17110732</td>\n",
       "      <td>accessories</td>\n",
       "      <td>belts</td>\n",
       "      <td>n/d</td>\n",
       "      <td>embroidered leather belt</td>\n",
       "      <td>[multicolour, leather/cotton, buckle fastening...</td>\n",
       "      <td>etro</td>\n",
       "      <td>women</td>\n",
       "      <td>[Cotton, Calfskin, viscose]</td>\n",
       "      <td>accessories~belts~n/d</td>\n",
       "      <td>3</td>\n",
       "      <td>17/11/07/32/17110732.jpg</td>\n",
       "    </tr>\n",
       "    <tr>\n",
       "      <th>343890</th>\n",
       "      <td>16805990</td>\n",
       "      <td>accessories</td>\n",
       "      <td>belts</td>\n",
       "      <td>n/d</td>\n",
       "      <td>gilet leather belt</td>\n",
       "      <td>[black, leather, silver-tone hardware, punched...</td>\n",
       "      <td>jil sander</td>\n",
       "      <td>men</td>\n",
       "      <td>[Leather]</td>\n",
       "      <td>accessories~belts~n/d</td>\n",
       "      <td>3</td>\n",
       "      <td>16/80/59/90/16805990.jpg</td>\n",
       "    </tr>\n",
       "    <tr>\n",
       "      <th>343874</th>\n",
       "      <td>17331228</td>\n",
       "      <td>accessories</td>\n",
       "      <td>belts</td>\n",
       "      <td>n/d</td>\n",
       "      <td>monogram pattern belt</td>\n",
       "      <td>[black/white, cotton-blend, monogram pattern, ...</td>\n",
       "      <td>balmain</td>\n",
       "      <td>men</td>\n",
       "      <td>[Polyester, Cotton]</td>\n",
       "      <td>accessories~belts~n/d</td>\n",
       "      <td>3</td>\n",
       "      <td>17/33/12/28/17331228.jpg</td>\n",
       "    </tr>\n",
       "    <tr>\n",
       "      <th>344152</th>\n",
       "      <td>15860819</td>\n",
       "      <td>accessories</td>\n",
       "      <td>belts</td>\n",
       "      <td>n/d</td>\n",
       "      <td>ring adjustable belt</td>\n",
       "      <td>[black, calf leather, ring fastening, adjustab...</td>\n",
       "      <td>fendi</td>\n",
       "      <td>women</td>\n",
       "      <td>[Calf Leather]</td>\n",
       "      <td>accessories~belts~n/d</td>\n",
       "      <td>3</td>\n",
       "      <td>15/86/08/19/15860819.jpg</td>\n",
       "    </tr>\n",
       "    <tr>\n",
       "      <th>343979</th>\n",
       "      <td>17677542</td>\n",
       "      <td>accessories</td>\n",
       "      <td>belts</td>\n",
       "      <td>n/d</td>\n",
       "      <td>reversible check-print belt</td>\n",
       "      <td>[dark birch brown/black, reversible, check pri...</td>\n",
       "      <td>burberry</td>\n",
       "      <td>men</td>\n",
       "      <td>[Thermoplastic Polyurethane (TPU), Leather, Co...</td>\n",
       "      <td>accessories~belts~n/d</td>\n",
       "      <td>3</td>\n",
       "      <td>17/67/75/42/17677542.jpg</td>\n",
       "    </tr>\n",
       "  </tbody>\n",
       "</table>\n",
       "</div>"
      ]
     },
     "execution_count": 44,
     "metadata": {},
     "output_type": "execute_result"
    }
   ],
   "source": [
    "sampled_train_products = data_balancer()\n",
    "sampled_train_products.head()"
   ]
  },
  {
   "cell_type": "code",
   "execution_count": 45,
   "id": "3a4d2099-3669-41bb-b4ea-e823d295115a",
   "metadata": {},
   "outputs": [
    {
     "data": {
      "text/html": [
       "<pre style=\"white-space:pre;overflow-x:auto;line-height:normal;font-family:Menlo,'DejaVu Sans Mono',consolas,'Courier New',monospace\"><span style=\"font-weight: bold\">((</span><span style=\"color: #008080; text-decoration-color: #008080; font-weight: bold\">265556</span>, <span style=\"color: #008080; text-decoration-color: #008080; font-weight: bold\">12</span><span style=\"font-weight: bold\">)</span>, <span style=\"font-weight: bold\">(</span><span style=\"color: #008080; text-decoration-color: #008080; font-weight: bold\">103299</span>, <span style=\"color: #008080; text-decoration-color: #008080; font-weight: bold\">12</span><span style=\"font-weight: bold\">))</span>\n",
       "</pre>\n"
      ],
      "text/plain": [
       "\u001b[1m(\u001b[0m\u001b[1m(\u001b[0m\u001b[1;36m265556\u001b[0m, \u001b[1;36m12\u001b[0m\u001b[1m)\u001b[0m, \u001b[1m(\u001b[0m\u001b[1;36m103299\u001b[0m, \u001b[1;36m12\u001b[0m\u001b[1m)\u001b[0m\u001b[1m)\u001b[0m\n"
      ]
     },
     "metadata": {},
     "output_type": "display_data"
    }
   ],
   "source": [
    "filtered_train_products.shape, sampled_train_products.shape"
   ]
  },
  {
   "cell_type": "code",
   "execution_count": 46,
   "id": "a8c3ee03-d851-4569-8999-e83d6e712f98",
   "metadata": {},
   "outputs": [
    {
     "data": {
      "text/html": [
       "<pre style=\"white-space:pre;overflow-x:auto;line-height:normal;font-family:Menlo,'DejaVu Sans Mono',consolas,'Courier New',monospace\"><span style=\"font-weight: bold\">&lt;</span><span style=\"color: #ff00ff; text-decoration-color: #ff00ff; font-weight: bold\">Figure</span><span style=\"color: #000000; text-decoration-color: #000000\"> size 80</span><span style=\"color: #008080; text-decoration-color: #008080; font-weight: bold\">0x500</span><span style=\"color: #000000; text-decoration-color: #000000\"> with </span><span style=\"color: #008080; text-decoration-color: #008080; font-weight: bold\">1</span><span style=\"color: #000000; text-decoration-color: #000000\"> Axes</span><span style=\"font-weight: bold\">&gt;</span>\n",
       "</pre>\n"
      ],
      "text/plain": [
       "\u001b[1m<\u001b[0m\u001b[1;95mFigure\u001b[0m\u001b[39m size 80\u001b[0m\u001b[1;36m0x500\u001b[0m\u001b[39m with \u001b[0m\u001b[1;36m1\u001b[0m\u001b[39m Axes\u001b[0m\u001b[1m>\u001b[0m\n"
      ]
     },
     "metadata": {},
     "output_type": "display_data"
    },
    {
     "data": {
      "image/png": "[encoded data removed]"
     },
     "metadata": {},
     "output_type": "display_data"
    }
   ],
   "source": [
    "plot_branch_count(ut.group_by_count(sampled_train_products, 'branch', 'id'))"
   ]
  },
  {
   "cell_type": "markdown",
   "id": "e4d36bd0-dabf-4655-a734-7e5e06ea4edc",
   "metadata": {},
   "source": [
    "**Step 7**: Agregamos un número de secuencia que representa univocamente a cada branch:"
   ]
  },
  {
   "cell_type": "code",
   "execution_count": 47,
   "id": "18d6b666-7076-41f7-a7b3-77a83bc3d481",
   "metadata": {},
   "outputs": [
    {
     "data": {
      "text/html": [
       "<div>\n",
       "<style scoped>\n",
       "    .dataframe tbody tr th:only-of-type {\n",
       "        vertical-align: middle;\n",
       "    }\n",
       "\n",
       "    .dataframe tbody tr th {\n",
       "        vertical-align: top;\n",
       "    }\n",
       "\n",
       "    .dataframe thead th {\n",
       "        text-align: right;\n",
       "    }\n",
       "</style>\n",
       "<table border=\"1\" class=\"dataframe\">\n",
       "  <thead>\n",
       "    <tr style=\"text-align: right;\">\n",
       "      <th></th>\n",
       "      <th>id</th>\n",
       "      <th>family</th>\n",
       "      <th>category</th>\n",
       "      <th>sub_category</th>\n",
       "      <th>description</th>\n",
       "      <th>highlights</th>\n",
       "      <th>brand</th>\n",
       "      <th>gender</th>\n",
       "      <th>materials</th>\n",
       "      <th>branch</th>\n",
       "      <th>tokens_count</th>\n",
       "      <th>image_uri</th>\n",
       "      <th>branch_seq</th>\n",
       "    </tr>\n",
       "  </thead>\n",
       "  <tbody>\n",
       "    <tr>\n",
       "      <th>0</th>\n",
       "      <td>17110732</td>\n",
       "      <td>accessories</td>\n",
       "      <td>belts</td>\n",
       "      <td>n/d</td>\n",
       "      <td>embroidered leather belt</td>\n",
       "      <td>[multicolour, leather/cotton, buckle fastening...</td>\n",
       "      <td>etro</td>\n",
       "      <td>women</td>\n",
       "      <td>[Cotton, Calfskin, viscose]</td>\n",
       "      <td>accessories~belts~n/d</td>\n",
       "      <td>3</td>\n",
       "      <td>17/11/07/32/17110732.jpg</td>\n",
       "      <td>0</td>\n",
       "    </tr>\n",
       "    <tr>\n",
       "      <th>1</th>\n",
       "      <td>16805990</td>\n",
       "      <td>accessories</td>\n",
       "      <td>belts</td>\n",
       "      <td>n/d</td>\n",
       "      <td>gilet leather belt</td>\n",
       "      <td>[black, leather, silver-tone hardware, punched...</td>\n",
       "      <td>jil sander</td>\n",
       "      <td>men</td>\n",
       "      <td>[Leather]</td>\n",
       "      <td>accessories~belts~n/d</td>\n",
       "      <td>3</td>\n",
       "      <td>16/80/59/90/16805990.jpg</td>\n",
       "      <td>0</td>\n",
       "    </tr>\n",
       "    <tr>\n",
       "      <th>2</th>\n",
       "      <td>17331228</td>\n",
       "      <td>accessories</td>\n",
       "      <td>belts</td>\n",
       "      <td>n/d</td>\n",
       "      <td>monogram pattern belt</td>\n",
       "      <td>[black/white, cotton-blend, monogram pattern, ...</td>\n",
       "      <td>balmain</td>\n",
       "      <td>men</td>\n",
       "      <td>[Polyester, Cotton]</td>\n",
       "      <td>accessories~belts~n/d</td>\n",
       "      <td>3</td>\n",
       "      <td>17/33/12/28/17331228.jpg</td>\n",
       "      <td>0</td>\n",
       "    </tr>\n",
       "    <tr>\n",
       "      <th>3</th>\n",
       "      <td>15860819</td>\n",
       "      <td>accessories</td>\n",
       "      <td>belts</td>\n",
       "      <td>n/d</td>\n",
       "      <td>ring adjustable belt</td>\n",
       "      <td>[black, calf leather, ring fastening, adjustab...</td>\n",
       "      <td>fendi</td>\n",
       "      <td>women</td>\n",
       "      <td>[Calf Leather]</td>\n",
       "      <td>accessories~belts~n/d</td>\n",
       "      <td>3</td>\n",
       "      <td>15/86/08/19/15860819.jpg</td>\n",
       "      <td>0</td>\n",
       "    </tr>\n",
       "    <tr>\n",
       "      <th>4</th>\n",
       "      <td>17677542</td>\n",
       "      <td>accessories</td>\n",
       "      <td>belts</td>\n",
       "      <td>n/d</td>\n",
       "      <td>reversible check-print belt</td>\n",
       "      <td>[dark birch brown/black, reversible, check pri...</td>\n",
       "      <td>burberry</td>\n",
       "      <td>men</td>\n",
       "      <td>[Thermoplastic Polyurethane (TPU), Leather, Co...</td>\n",
       "      <td>accessories~belts~n/d</td>\n",
       "      <td>3</td>\n",
       "      <td>17/67/75/42/17677542.jpg</td>\n",
       "      <td>0</td>\n",
       "    </tr>\n",
       "  </tbody>\n",
       "</table>\n",
       "</div>"
      ]
     },
     "execution_count": 47,
     "metadata": {},
     "output_type": "execute_result"
    }
   ],
   "source": [
    "sampled_train_products = dt.Sequencer('branch', 'branch_seq').perform(sampled_train_products)\n",
    "sampled_train_products.head()"
   ]
  },
  {
   "cell_type": "markdown",
   "id": "81679aaf-535f-40a2-8ce8-8eed2f51b442",
   "metadata": {},
   "source": [
    "Cual es el numero total de ramas en el dataset luego de los pasos anteriores?"
   ]
  },
  {
   "cell_type": "code",
   "execution_count": 48,
   "id": "57d5ec56-858d-4e44-8984-04a3292a90af",
   "metadata": {},
   "outputs": [
    {
     "data": {
      "text/html": [
       "<pre style=\"white-space:pre;overflow-x:auto;line-height:normal;font-family:Menlo,'DejaVu Sans Mono',consolas,'Courier New',monospace\"><span style=\"color: #008080; text-decoration-color: #008080; font-weight: bold\">132</span>\n",
       "</pre>\n"
      ],
      "text/plain": [
       "\u001b[1;36m132\u001b[0m\n"
      ]
     },
     "metadata": {},
     "output_type": "display_data"
    }
   ],
   "source": [
    "sampled_train_products['branch_seq'].max()"
   ]
  },
  {
   "cell_type": "markdown",
   "id": "222a3a47-c219-4604-8573-1063444a48a8",
   "metadata": {},
   "source": [
    "Nos quedamos con instancias de test tengan ramas qe se encuentren en train:"
   ]
  },
  {
   "cell_type": "code",
   "execution_count": 49,
   "id": "98cd20b9-66cc-47bc-9590-1d4948ddddc2",
   "metadata": {},
   "outputs": [
    {
     "data": {
      "text/html": [
       "<pre style=\"white-space:pre;overflow-x:auto;line-height:normal;font-family:Menlo,'DejaVu Sans Mono',consolas,'Courier New',monospace\"><span style=\"font-weight: bold\">((</span><span style=\"color: #008080; text-decoration-color: #008080; font-weight: bold\">111253</span>, <span style=\"color: #008080; text-decoration-color: #008080; font-weight: bold\">12</span><span style=\"font-weight: bold\">)</span>, <span style=\"font-weight: bold\">(</span><span style=\"color: #008080; text-decoration-color: #008080; font-weight: bold\">113884</span>, <span style=\"color: #008080; text-decoration-color: #008080; font-weight: bold\">12</span><span style=\"font-weight: bold\">))</span>\n",
       "</pre>\n"
      ],
      "text/plain": [
       "\u001b[1m(\u001b[0m\u001b[1m(\u001b[0m\u001b[1;36m111253\u001b[0m, \u001b[1;36m12\u001b[0m\u001b[1m)\u001b[0m, \u001b[1m(\u001b[0m\u001b[1;36m113884\u001b[0m, \u001b[1;36m12\u001b[0m\u001b[1m)\u001b[0m\u001b[1m)\u001b[0m\n"
      ]
     },
     "metadata": {},
     "output_type": "display_data"
    }
   ],
   "source": [
    "selected_test_products = filtered_test_products[filtered_test_products.branch.isin(sampled_train_products.branch.values)]\n",
    "\n",
    "selected_test_products.shape, filtered_test_products.shape"
   ]
  },
  {
   "cell_type": "markdown",
   "id": "62645c98-4f52-415a-8e69-51d4e2c25546",
   "metadata": {},
   "source": [
    "**Step 8**: Agregamos otros features a la descripción como genero, brand, highlights y materias para tratar de mejorar la predición."
   ]
  },
  {
   "cell_type": "code",
   "execution_count": 50,
   "id": "4229ca8f-853a-48fa-81a6-6c26ff0d6e27",
   "metadata": {},
   "outputs": [
    {
     "data": {
      "text/html": [
       "<pre style=\"white-space:pre;overflow-x:auto;line-height:normal;font-family:Menlo,'DejaVu Sans Mono',consolas,'Courier New',monospace\">Max tokens count: <span style=\"color: #008080; text-decoration-color: #008080; font-weight: bold\">26</span>\n",
       "</pre>\n"
      ],
      "text/plain": [
       "Max tokens count: \u001b[1;36m26\u001b[0m\n"
      ]
     },
     "metadata": {},
     "output_type": "display_data"
    },
    {
     "data": {
      "text/html": [
       "<pre style=\"white-space:pre;overflow-x:auto;line-height:normal;font-family:Menlo,'DejaVu Sans Mono',consolas,'Courier New',monospace\"><span style=\"font-weight: bold\">&lt;</span><span style=\"color: #ff00ff; text-decoration-color: #ff00ff; font-weight: bold\">Figure</span><span style=\"color: #000000; text-decoration-color: #000000\"> size 80</span><span style=\"color: #008080; text-decoration-color: #008080; font-weight: bold\">0x500</span><span style=\"color: #000000; text-decoration-color: #000000\"> with </span><span style=\"color: #008080; text-decoration-color: #008080; font-weight: bold\">1</span><span style=\"color: #000000; text-decoration-color: #000000\"> Axes</span><span style=\"font-weight: bold\">&gt;</span>\n",
       "</pre>\n"
      ],
      "text/plain": [
       "\u001b[1m<\u001b[0m\u001b[1;95mFigure\u001b[0m\u001b[39m size 80\u001b[0m\u001b[1;36m0x500\u001b[0m\u001b[39m with \u001b[0m\u001b[1;36m1\u001b[0m\u001b[39m Axes\u001b[0m\u001b[1m>\u001b[0m\n"
      ]
     },
     "metadata": {},
     "output_type": "display_data"
    },
    {
     "data": {
      "image/png": "[encoded data removed]"
     },
     "metadata": {},
     "output_type": "display_data"
    }
   ],
   "source": [
    "plot_tokens_count(sampled_train_products, figsize=(8, 5))"
   ]
  },
  {
   "cell_type": "markdown",
   "id": "d307fd0e-1e1e-46fc-907c-856bc6c3816c",
   "metadata": {},
   "source": [
    "**FeatureColumnBuilder** Se encarga de concatenar y transformar cada columna a una lista de tokens dependiendo de su formato/tipo de datos. De esta forma creamos una nueva columna llamada **features** la cual es una concatenacion de los tokens de cada coluna seleciconada con un label que identifica a la columna. Se espera que el modelo peuda comprander que cada token esta asociada a una columna en particula. Por ejemplo: token que defines manterias estaran tageados con  la columnas **materials**."
   ]
  },
  {
   "cell_type": "code",
   "execution_count": 51,
   "id": "b8561622-5c5a-45a7-b7b4-f26badc15001",
   "metadata": {},
   "outputs": [],
   "source": [
    "builder = FeatureColumnBuilder(target_column='features') \\\n",
    "    .add('description') \\\n",
    "    .add('gender') \\\n",
    "    .add('brand') \\\n",
    "    .add('materials', type='list', max_tokens=6) \\\n",
    "    .add('highlights', type='str_list', max_tokens=10)"
   ]
  },
  {
   "cell_type": "code",
   "execution_count": 52,
   "id": "e4a2725e-5c3e-461f-9b6e-fe8ac43f7cbf",
   "metadata": {},
   "outputs": [
    {
     "data": {
      "text/html": [
       "<pre style=\"white-space:pre;overflow-x:auto;line-height:normal;font-family:Menlo,'DejaVu Sans Mono',consolas,'Courier New',monospace\"><span style=\"color: #008000; text-decoration-color: #008000\">'Description: double-strap leather belt. Gender: women. Brand: bottega veneta. Materials: Leather, metal. Highlights: mallard blue,  leather,  gold-tone hardware,  adjustable fit,  double-strap design. '</span>\n",
       "</pre>\n"
      ],
      "text/plain": [
       "\u001b[32m'Description: double-strap leather belt. Gender: women. Brand: bottega veneta. Materials: Leather, metal. Highlights: mallard blue,  leather,  gold-tone hardware,  adjustable fit,  double-strap design. '\u001b[0m\n"
      ]
     },
     "metadata": {},
     "output_type": "display_data"
    }
   ],
   "source": [
    "sampled_train_products = builder(sampled_train_products)\n",
    "\n",
    "sampled_train_products['features'].values[100]"
   ]
  },
  {
   "cell_type": "code",
   "execution_count": 53,
   "id": "076f55f1-d47a-4419-b144-6ce1ce3eb8f5",
   "metadata": {},
   "outputs": [],
   "source": [
    "builder = FeatureColumnBuilder(target_column='features') \\\n",
    "    .add('description') \\\n",
    "    .add('gender') \\\n",
    "    .add('brand') \\\n",
    "    .add('materials', type='str_list', max_tokens=10)\n",
    "#    .add('highlights', type='str_list', max_tokens=10)"
   ]
  },
  {
   "cell_type": "code",
   "execution_count": 54,
   "id": "94cf0601-1468-4148-bc17-152e3f69c71c",
   "metadata": {},
   "outputs": [
    {
     "data": {
      "text/html": [
       "<pre style=\"white-space:pre;overflow-x:auto;line-height:normal;font-family:Menlo,'DejaVu Sans Mono',consolas,'Courier New',monospace\"><span style=\"color: #008000; text-decoration-color: #008000\">'Description: classic drawstring hoodie. Gender: women. Brand: re/done. Materials: Cotton. '</span>\n",
       "</pre>\n"
      ],
      "text/plain": [
       "\u001b[32m'Description: classic drawstring hoodie. Gender: women. Brand: re/done. Materials: Cotton. '\u001b[0m\n"
      ]
     },
     "metadata": {},
     "output_type": "display_data"
    }
   ],
   "source": [
    "selected_test_products = builder(selected_test_products)\n",
    "\n",
    "selected_test_products['features'].values[102]"
   ]
  },
  {
   "cell_type": "markdown",
   "id": "7d328511-c6bd-4f7d-9d58-f38d6bf6d355",
   "metadata": {},
   "source": [
    "Veamos cuantos token nos queda en promedio luego del proceso anterior:"
   ]
  },
  {
   "cell_type": "code",
   "execution_count": 55,
   "id": "74f8424c-e0b3-409e-bbe9-51d4f064fb11",
   "metadata": {},
   "outputs": [
    {
     "data": {
      "text/html": [
       "<pre style=\"white-space:pre;overflow-x:auto;line-height:normal;font-family:Menlo,'DejaVu Sans Mono',consolas,'Courier New',monospace\">Max tokens count: <span style=\"color: #008080; text-decoration-color: #008080; font-weight: bold\">149</span>\n",
       "</pre>\n"
      ],
      "text/plain": [
       "Max tokens count: \u001b[1;36m149\u001b[0m\n"
      ]
     },
     "metadata": {},
     "output_type": "display_data"
    },
    {
     "data": {
      "text/html": [
       "<pre style=\"white-space:pre;overflow-x:auto;line-height:normal;font-family:Menlo,'DejaVu Sans Mono',consolas,'Courier New',monospace\"><span style=\"font-weight: bold\">&lt;</span><span style=\"color: #ff00ff; text-decoration-color: #ff00ff; font-weight: bold\">Figure</span><span style=\"color: #000000; text-decoration-color: #000000\"> size 200</span><span style=\"color: #008080; text-decoration-color: #008080; font-weight: bold\">0x500</span><span style=\"color: #000000; text-decoration-color: #000000\"> with </span><span style=\"color: #008080; text-decoration-color: #008080; font-weight: bold\">1</span><span style=\"color: #000000; text-decoration-color: #000000\"> Axes</span><span style=\"font-weight: bold\">&gt;</span>\n",
       "</pre>\n"
      ],
      "text/plain": [
       "\u001b[1m<\u001b[0m\u001b[1;95mFigure\u001b[0m\u001b[39m size 200\u001b[0m\u001b[1;36m0x500\u001b[0m\u001b[39m with \u001b[0m\u001b[1;36m1\u001b[0m\u001b[39m Axes\u001b[0m\u001b[1m>\u001b[0m\n"
      ]
     },
     "metadata": {},
     "output_type": "display_data"
    },
    {
     "data": {
      "image/png": "[encoded data removed]"
     },
     "metadata": {},
     "output_type": "display_data"
    }
   ],
   "source": [
    "plot_tokens_count(sampled_train_products, column='features',figsize=(20, 5))"
   ]
  },
  {
   "cell_type": "code",
   "execution_count": 56,
   "id": "8cda6e2b-98d9-4068-afad-48c651fb2486",
   "metadata": {},
   "outputs": [
    {
     "data": {
      "text/html": [
       "<pre style=\"white-space:pre;overflow-x:auto;line-height:normal;font-family:Menlo,'DejaVu Sans Mono',consolas,'Courier New',monospace\">Max tokens count: <span style=\"color: #008080; text-decoration-color: #008080; font-weight: bold\">28</span>\n",
       "</pre>\n"
      ],
      "text/plain": [
       "Max tokens count: \u001b[1;36m28\u001b[0m\n"
      ]
     },
     "metadata": {},
     "output_type": "display_data"
    },
    {
     "data": {
      "text/html": [
       "<pre style=\"white-space:pre;overflow-x:auto;line-height:normal;font-family:Menlo,'DejaVu Sans Mono',consolas,'Courier New',monospace\"><span style=\"font-weight: bold\">&lt;</span><span style=\"color: #ff00ff; text-decoration-color: #ff00ff; font-weight: bold\">Figure</span><span style=\"color: #000000; text-decoration-color: #000000\"> size 200</span><span style=\"color: #008080; text-decoration-color: #008080; font-weight: bold\">0x500</span><span style=\"color: #000000; text-decoration-color: #000000\"> with </span><span style=\"color: #008080; text-decoration-color: #008080; font-weight: bold\">1</span><span style=\"color: #000000; text-decoration-color: #000000\"> Axes</span><span style=\"font-weight: bold\">&gt;</span>\n",
       "</pre>\n"
      ],
      "text/plain": [
       "\u001b[1m<\u001b[0m\u001b[1;95mFigure\u001b[0m\u001b[39m size 200\u001b[0m\u001b[1;36m0x500\u001b[0m\u001b[39m with \u001b[0m\u001b[1;36m1\u001b[0m\u001b[39m Axes\u001b[0m\u001b[1m>\u001b[0m\n"
      ]
     },
     "metadata": {},
     "output_type": "display_data"
    },
    {
     "data": {
      "image/png": "[encoded data removed]"
     },
     "metadata": {},
     "output_type": "display_data"
    }
   ],
   "source": [
    "plot_tokens_count(selected_test_products, column='features',figsize=(20, 5))"
   ]
  },
  {
   "cell_type": "markdown",
   "id": "b4a92570-e0e5-4b0b-8d36-8975b56c7d32",
   "metadata": {},
   "source": [
    "**Step 9**: Partimos el dataset en los conjuntos de entrenamiento, prueba y validación. Ademas se estratifica para minizar el efecto del desbalanceo de productos por branch."
   ]
  },
  {
   "cell_type": "code",
   "execution_count": 57,
   "id": "ecc9c575-bd30-40cc-aca4-057399301f3e",
   "metadata": {},
   "outputs": [],
   "source": [
    "TRAIN_SIZE = 0.97"
   ]
  },
  {
   "cell_type": "code",
   "execution_count": 58,
   "id": "0f811800-64e2-48b3-b59d-7d1e03e3df57",
   "metadata": {},
   "outputs": [],
   "source": [
    "train_set, val_set, _, _= train_test_split(\n",
    "    sampled_train_products,\n",
    "    sampled_train_products['branch_seq'].values,\n",
    "    test_size     = 1 - TRAIN_SIZE,\n",
    "    stratify      = sampled_train_products['branch_seq'].values,\n",
    "    shuffle       = True\n",
    ")"
   ]
  },
  {
   "cell_type": "markdown",
   "id": "5ddc9de6-ce2e-460e-b36c-8bf1b8376417",
   "metadata": {},
   "source": [
    "Realizamos una validacion grafica de balanceo de cada conjunto luego de split:"
   ]
  },
  {
   "cell_type": "code",
   "execution_count": 59,
   "id": "2cc67d4f-cd3d-4ea9-bfb2-554c33ec0414",
   "metadata": {},
   "outputs": [
    {
     "data": {
      "text/html": [
       "<pre style=\"white-space:pre;overflow-x:auto;line-height:normal;font-family:Menlo,'DejaVu Sans Mono',consolas,'Courier New',monospace\"><span style=\"font-weight: bold\">&lt;</span><span style=\"color: #ff00ff; text-decoration-color: #ff00ff; font-weight: bold\">Figure</span><span style=\"color: #000000; text-decoration-color: #000000\"> size 80</span><span style=\"color: #008080; text-decoration-color: #008080; font-weight: bold\">0x500</span><span style=\"color: #000000; text-decoration-color: #000000\"> with </span><span style=\"color: #008080; text-decoration-color: #008080; font-weight: bold\">1</span><span style=\"color: #000000; text-decoration-color: #000000\"> Axes</span><span style=\"font-weight: bold\">&gt;</span>\n",
       "</pre>\n"
      ],
      "text/plain": [
       "\u001b[1m<\u001b[0m\u001b[1;95mFigure\u001b[0m\u001b[39m size 80\u001b[0m\u001b[1;36m0x500\u001b[0m\u001b[39m with \u001b[0m\u001b[1;36m1\u001b[0m\u001b[39m Axes\u001b[0m\u001b[1m>\u001b[0m\n"
      ]
     },
     "metadata": {},
     "output_type": "display_data"
    },
    {
     "data": {
      "image/png": "[encoded data removed]"
     },
     "metadata": {},
     "output_type": "display_data"
    }
   ],
   "source": [
    "plot_branch_count(ut.group_by_count(train_set, 'branch', 'id'))"
   ]
  },
  {
   "cell_type": "code",
   "execution_count": 60,
   "id": "fa16823b-329a-4631-ac35-44a861c3a7d3",
   "metadata": {},
   "outputs": [
    {
     "data": {
      "text/html": [
       "<pre style=\"white-space:pre;overflow-x:auto;line-height:normal;font-family:Menlo,'DejaVu Sans Mono',consolas,'Courier New',monospace\"><span style=\"font-weight: bold\">&lt;</span><span style=\"color: #ff00ff; text-decoration-color: #ff00ff; font-weight: bold\">Figure</span><span style=\"color: #000000; text-decoration-color: #000000\"> size 80</span><span style=\"color: #008080; text-decoration-color: #008080; font-weight: bold\">0x500</span><span style=\"color: #000000; text-decoration-color: #000000\"> with </span><span style=\"color: #008080; text-decoration-color: #008080; font-weight: bold\">1</span><span style=\"color: #000000; text-decoration-color: #000000\"> Axes</span><span style=\"font-weight: bold\">&gt;</span>\n",
       "</pre>\n"
      ],
      "text/plain": [
       "\u001b[1m<\u001b[0m\u001b[1;95mFigure\u001b[0m\u001b[39m size 80\u001b[0m\u001b[1;36m0x500\u001b[0m\u001b[39m with \u001b[0m\u001b[1;36m1\u001b[0m\u001b[39m Axes\u001b[0m\u001b[1m>\u001b[0m\n"
      ]
     },
     "metadata": {},
     "output_type": "display_data"
    },
    {
     "data": {
      "image/png": "[encoded data removed]"
     },
     "metadata": {},
     "output_type": "display_data"
    }
   ],
   "source": [
    "plot_branch_count(ut.group_by_count(val_set, 'branch', 'id'))"
   ]
  },
  {
   "cell_type": "code",
   "execution_count": 61,
   "id": "662d1cbc-0c2b-4f3a-9ebd-5650238e0f74",
   "metadata": {},
   "outputs": [
    {
     "data": {
      "text/html": [
       "<pre style=\"white-space:pre;overflow-x:auto;line-height:normal;font-family:Menlo,'DejaVu Sans Mono',consolas,'Courier New',monospace\"><span style=\"font-weight: bold\">((</span><span style=\"color: #008080; text-decoration-color: #008080; font-weight: bold\">100200</span>, <span style=\"color: #008080; text-decoration-color: #008080; font-weight: bold\">14</span><span style=\"font-weight: bold\">)</span>, <span style=\"font-weight: bold\">(</span><span style=\"color: #008080; text-decoration-color: #008080; font-weight: bold\">3099</span>, <span style=\"color: #008080; text-decoration-color: #008080; font-weight: bold\">14</span><span style=\"font-weight: bold\">))</span>\n",
       "</pre>\n"
      ],
      "text/plain": [
       "\u001b[1m(\u001b[0m\u001b[1m(\u001b[0m\u001b[1;36m100200\u001b[0m, \u001b[1;36m14\u001b[0m\u001b[1m)\u001b[0m, \u001b[1m(\u001b[0m\u001b[1;36m3099\u001b[0m, \u001b[1;36m14\u001b[0m\u001b[1m)\u001b[0m\u001b[1m)\u001b[0m\n"
      ]
     },
     "metadata": {},
     "output_type": "display_data"
    }
   ],
   "source": [
    "train_set.shape, val_set.shape"
   ]
  },
  {
   "cell_type": "markdown",
   "id": "325e595e-d89e-4321-9c2f-c770cfa433d7",
   "metadata": {},
   "source": [
    "**Step 10**: Los sets de validación y test deberian tener solo categorias que existan en el set de entrenamiento, de lo contrario, no es posible hacer la predicción."
   ]
  },
  {
   "cell_type": "code",
   "execution_count": 62,
   "id": "24016c0d-03a5-46bc-bc59-4b43b6adc3b1",
   "metadata": {},
   "outputs": [
    {
     "data": {
      "text/html": [
       "<pre style=\"white-space:pre;overflow-x:auto;line-height:normal;font-family:Menlo,'DejaVu Sans Mono',consolas,'Courier New',monospace\">\n",
       "pre-owned~skirts~n/d               <span style=\"color: #008080; text-decoration-color: #008080; font-weight: bold\">193</span>\n",
       "pre-owned~trousers~n/d             <span style=\"color: #008080; text-decoration-color: #008080; font-weight: bold\">188</span>\n",
       "lingerie &amp; nightwear~bodies~n/d    <span style=\"color: #008080; text-decoration-color: #008080; font-weight: bold\">181</span>\n",
       "activewear~skiwear~ski jackets     <span style=\"color: #008080; text-decoration-color: #008080; font-weight: bold\">180</span>\n",
       "clothing~tops~tunics &amp; kaftans     <span style=\"color: #008080; text-decoration-color: #008080; font-weight: bold\">175</span>\n",
       "Name: branch, dtype: int64\n",
       "</pre>\n"
      ],
      "text/plain": [
       "\n",
       "pre-owned~skirts~n/d               \u001b[1;36m193\u001b[0m\n",
       "pre-owned~trousers~n/d             \u001b[1;36m188\u001b[0m\n",
       "lingerie & nightwear~bodies~n/d    \u001b[1;36m181\u001b[0m\n",
       "activewear~skiwear~ski jackets     \u001b[1;36m180\u001b[0m\n",
       "clothing~tops~tunics & kaftans     \u001b[1;36m175\u001b[0m\n",
       "Name: branch, dtype: int64\n"
      ]
     },
     "metadata": {},
     "output_type": "display_data"
    }
   ],
   "source": [
    "train_set.branch.value_counts().tail()"
   ]
  },
  {
   "cell_type": "code",
   "execution_count": 63,
   "id": "76ab54a6-ad28-42a8-84eb-725928e91bd2",
   "metadata": {},
   "outputs": [
    {
     "data": {
      "text/html": [
       "<pre style=\"white-space:pre;overflow-x:auto;line-height:normal;font-family:Menlo,'DejaVu Sans Mono',consolas,'Courier New',monospace\"><span style=\"font-weight: bold\">(</span><span style=\"color: #008080; text-decoration-color: #008080; font-weight: bold\">3099</span>, <span style=\"color: #008080; text-decoration-color: #008080; font-weight: bold\">14</span><span style=\"font-weight: bold\">)</span>\n",
       "</pre>\n"
      ],
      "text/plain": [
       "\u001b[1m(\u001b[0m\u001b[1;36m3099\u001b[0m, \u001b[1;36m14\u001b[0m\u001b[1m)\u001b[0m\n"
      ]
     },
     "metadata": {},
     "output_type": "display_data"
    }
   ],
   "source": [
    "val_set[val_set['branch_seq'].isin(train_set['branch_seq'].values)].shape"
   ]
  },
  {
   "cell_type": "code",
   "execution_count": 64,
   "id": "a56b31f5-4be4-4372-bd4f-dedf8a309e4b",
   "metadata": {},
   "outputs": [
    {
     "data": {
      "text/html": [
       "<pre style=\"white-space:pre;overflow-x:auto;line-height:normal;font-family:Menlo,'DejaVu Sans Mono',consolas,'Courier New',monospace\"><span style=\"font-weight: bold\">((</span><span style=\"color: #008080; text-decoration-color: #008080; font-weight: bold\">111253</span>, <span style=\"color: #008080; text-decoration-color: #008080; font-weight: bold\">13</span><span style=\"font-weight: bold\">)</span>, <span style=\"font-weight: bold\">(</span><span style=\"color: #008080; text-decoration-color: #008080; font-weight: bold\">111253</span>, <span style=\"color: #008080; text-decoration-color: #008080; font-weight: bold\">13</span><span style=\"font-weight: bold\">))</span>\n",
       "</pre>\n"
      ],
      "text/plain": [
       "\u001b[1m(\u001b[0m\u001b[1m(\u001b[0m\u001b[1;36m111253\u001b[0m, \u001b[1;36m13\u001b[0m\u001b[1m)\u001b[0m, \u001b[1m(\u001b[0m\u001b[1;36m111253\u001b[0m, \u001b[1;36m13\u001b[0m\u001b[1m)\u001b[0m\u001b[1m)\u001b[0m\n"
      ]
     },
     "metadata": {},
     "output_type": "display_data"
    }
   ],
   "source": [
    "selected_test_products.shape, \\\n",
    "selected_test_products[selected_test_products['branch'].isin(train_set['branch'].values)].shape"
   ]
  },
  {
   "cell_type": "markdown",
   "id": "8adf2715-6848-4556-98e4-9c4c5ea28799",
   "metadata": {},
   "source": [
    "**Step 11**: Se agrega la columna **branch_seq** en el conjunto de prueba."
   ]
  },
  {
   "cell_type": "code",
   "execution_count": 65,
   "id": "7c6f93a7-6eed-433c-9497-f06eaeb76468",
   "metadata": {},
   "outputs": [
    {
     "data": {
      "text/html": [
       "<div>\n",
       "<style scoped>\n",
       "    .dataframe tbody tr th:only-of-type {\n",
       "        vertical-align: middle;\n",
       "    }\n",
       "\n",
       "    .dataframe tbody tr th {\n",
       "        vertical-align: top;\n",
       "    }\n",
       "\n",
       "    .dataframe thead th {\n",
       "        text-align: right;\n",
       "    }\n",
       "</style>\n",
       "<table border=\"1\" class=\"dataframe\">\n",
       "  <thead>\n",
       "    <tr style=\"text-align: right;\">\n",
       "      <th></th>\n",
       "      <th>id</th>\n",
       "      <th>family</th>\n",
       "      <th>category</th>\n",
       "      <th>sub_category</th>\n",
       "      <th>description</th>\n",
       "      <th>highlights</th>\n",
       "      <th>brand</th>\n",
       "      <th>gender</th>\n",
       "      <th>materials</th>\n",
       "      <th>branch</th>\n",
       "      <th>tokens_count</th>\n",
       "      <th>image_uri</th>\n",
       "      <th>branch_seq</th>\n",
       "      <th>features</th>\n",
       "    </tr>\n",
       "  </thead>\n",
       "  <tbody>\n",
       "    <tr>\n",
       "      <th>0</th>\n",
       "      <td>17110732</td>\n",
       "      <td>accessories</td>\n",
       "      <td>belts</td>\n",
       "      <td>n/d</td>\n",
       "      <td>embroidered leather belt</td>\n",
       "      <td>[multicolour, leather/cotton, buckle fastening...</td>\n",
       "      <td>etro</td>\n",
       "      <td>women</td>\n",
       "      <td>[Cotton, Calfskin, viscose]</td>\n",
       "      <td>accessories~belts~n/d</td>\n",
       "      <td>27</td>\n",
       "      <td>17/11/07/32/17110732.jpg</td>\n",
       "      <td>0</td>\n",
       "      <td>Description: embroidered leather belt. Gender:...</td>\n",
       "    </tr>\n",
       "    <tr>\n",
       "      <th>1</th>\n",
       "      <td>16805990</td>\n",
       "      <td>accessories</td>\n",
       "      <td>belts</td>\n",
       "      <td>n/d</td>\n",
       "      <td>gilet leather belt</td>\n",
       "      <td>[black, leather, silver-tone hardware, punched...</td>\n",
       "      <td>jil sander</td>\n",
       "      <td>men</td>\n",
       "      <td>[Leather]</td>\n",
       "      <td>accessories~belts~n/d</td>\n",
       "      <td>26</td>\n",
       "      <td>16/80/59/90/16805990.jpg</td>\n",
       "      <td>0</td>\n",
       "      <td>Description: gilet leather belt. Gender: men. ...</td>\n",
       "    </tr>\n",
       "    <tr>\n",
       "      <th>2</th>\n",
       "      <td>17331228</td>\n",
       "      <td>accessories</td>\n",
       "      <td>belts</td>\n",
       "      <td>n/d</td>\n",
       "      <td>monogram pattern belt</td>\n",
       "      <td>[black/white, cotton-blend, monogram pattern, ...</td>\n",
       "      <td>balmain</td>\n",
       "      <td>men</td>\n",
       "      <td>[Polyester, Cotton]</td>\n",
       "      <td>accessories~belts~n/d</td>\n",
       "      <td>26</td>\n",
       "      <td>17/33/12/28/17331228.jpg</td>\n",
       "      <td>0</td>\n",
       "      <td>Description: monogram pattern belt. Gender: me...</td>\n",
       "    </tr>\n",
       "    <tr>\n",
       "      <th>3</th>\n",
       "      <td>15860819</td>\n",
       "      <td>accessories</td>\n",
       "      <td>belts</td>\n",
       "      <td>n/d</td>\n",
       "      <td>ring adjustable belt</td>\n",
       "      <td>[black, calf leather, ring fastening, adjustab...</td>\n",
       "      <td>fendi</td>\n",
       "      <td>women</td>\n",
       "      <td>[Calf Leather]</td>\n",
       "      <td>accessories~belts~n/d</td>\n",
       "      <td>26</td>\n",
       "      <td>15/86/08/19/15860819.jpg</td>\n",
       "      <td>0</td>\n",
       "      <td>Description: ring adjustable belt. Gender: wom...</td>\n",
       "    </tr>\n",
       "    <tr>\n",
       "      <th>4</th>\n",
       "      <td>17677542</td>\n",
       "      <td>accessories</td>\n",
       "      <td>belts</td>\n",
       "      <td>n/d</td>\n",
       "      <td>reversible check-print belt</td>\n",
       "      <td>[dark birch brown/black, reversible, check pri...</td>\n",
       "      <td>burberry</td>\n",
       "      <td>men</td>\n",
       "      <td>[Thermoplastic Polyurethane (TPU), Leather, Co...</td>\n",
       "      <td>accessories~belts~n/d</td>\n",
       "      <td>34</td>\n",
       "      <td>17/67/75/42/17677542.jpg</td>\n",
       "      <td>0</td>\n",
       "      <td>Description: reversible check-print belt. Gend...</td>\n",
       "    </tr>\n",
       "  </tbody>\n",
       "</table>\n",
       "</div>"
      ]
     },
     "execution_count": 65,
     "metadata": {},
     "output_type": "execute_result"
    }
   ],
   "source": [
    "sampled_train_products.head(5)"
   ]
  },
  {
   "cell_type": "code",
   "execution_count": 66,
   "id": "a56dafc1-cc35-4bc5-bf8c-69d658710f8a",
   "metadata": {},
   "outputs": [],
   "source": [
    "branch_to_seq = columns_to_dict(sampled_train_products, key_col='branch_seq', value_col='branch')"
   ]
  },
  {
   "cell_type": "code",
   "execution_count": 67,
   "id": "a11197f1-5294-45b2-a499-2830a7b15b0c",
   "metadata": {},
   "outputs": [],
   "source": [
    "selected_test_products['branch_seq'] = selected_test_products['branch'].apply(lambda x: branch_to_seq[x])"
   ]
  },
  {
   "cell_type": "code",
   "execution_count": 68,
   "id": "1dbd0397-8b6b-40ae-80ee-b01971473a38",
   "metadata": {},
   "outputs": [
    {
     "data": {
      "text/html": [
       "<div>\n",
       "<style scoped>\n",
       "    .dataframe tbody tr th:only-of-type {\n",
       "        vertical-align: middle;\n",
       "    }\n",
       "\n",
       "    .dataframe tbody tr th {\n",
       "        vertical-align: top;\n",
       "    }\n",
       "\n",
       "    .dataframe thead th {\n",
       "        text-align: right;\n",
       "    }\n",
       "</style>\n",
       "<table border=\"1\" class=\"dataframe\">\n",
       "  <thead>\n",
       "    <tr style=\"text-align: right;\">\n",
       "      <th></th>\n",
       "      <th>id</th>\n",
       "      <th>family</th>\n",
       "      <th>category</th>\n",
       "      <th>sub_category</th>\n",
       "      <th>description</th>\n",
       "      <th>highlights</th>\n",
       "      <th>brand</th>\n",
       "      <th>gender</th>\n",
       "      <th>materials</th>\n",
       "      <th>branch</th>\n",
       "      <th>tokens_count</th>\n",
       "      <th>image_uri</th>\n",
       "      <th>features</th>\n",
       "      <th>branch_seq</th>\n",
       "    </tr>\n",
       "  </thead>\n",
       "  <tbody>\n",
       "    <tr>\n",
       "      <th>0</th>\n",
       "      <td>17887434</td>\n",
       "      <td>clothing</td>\n",
       "      <td>sweaters &amp; knitwear</td>\n",
       "      <td>hoodies</td>\n",
       "      <td>Archive 1971 graphic-print hoodie</td>\n",
       "      <td>[white, cotton, jersey knit, graphic print to ...</td>\n",
       "      <td>valentino</td>\n",
       "      <td>men</td>\n",
       "      <td>['Cotton']</td>\n",
       "      <td>clothing~sweaters &amp; knitwear~hoodies</td>\n",
       "      <td>12</td>\n",
       "      <td>17/88/74/34/17887434.jpg</td>\n",
       "      <td>Description: Archive 1971 graphic-print hoodie...</td>\n",
       "      <td>88</td>\n",
       "    </tr>\n",
       "    <tr>\n",
       "      <th>2</th>\n",
       "      <td>17933530</td>\n",
       "      <td>clothing</td>\n",
       "      <td>trousers</td>\n",
       "      <td>track pants</td>\n",
       "      <td>logo-print joggers</td>\n",
       "      <td>[black, cotton, logo print to the side, elasti...</td>\n",
       "      <td>bel-air athletics</td>\n",
       "      <td>men</td>\n",
       "      <td>['Cotton']</td>\n",
       "      <td>clothing~trousers~track pants</td>\n",
       "      <td>11</td>\n",
       "      <td>17/93/35/30/17933530.jpg</td>\n",
       "      <td>Description: logo-print joggers. Gender: men. ...</td>\n",
       "      <td>113</td>\n",
       "    </tr>\n",
       "    <tr>\n",
       "      <th>3</th>\n",
       "      <td>17446156</td>\n",
       "      <td>clothing</td>\n",
       "      <td>tops</td>\n",
       "      <td>t-shirts &amp; jerseys</td>\n",
       "      <td>logo-embroidered mock-neck top</td>\n",
       "      <td>[navy blue, embroidered logo to the front, moc...</td>\n",
       "      <td>courrèges</td>\n",
       "      <td>women</td>\n",
       "      <td>['Polyamide' 'Elastane']</td>\n",
       "      <td>clothing~tops~t-shirts &amp; jerseys</td>\n",
       "      <td>12</td>\n",
       "      <td>17/44/61/56/17446156.jpg</td>\n",
       "      <td>Description: logo-embroidered mock-neck top. G...</td>\n",
       "      <td>98</td>\n",
       "    </tr>\n",
       "    <tr>\n",
       "      <th>5</th>\n",
       "      <td>17472843</td>\n",
       "      <td>clothing</td>\n",
       "      <td>sweaters &amp; knitwear</td>\n",
       "      <td>hoodies</td>\n",
       "      <td>logo-embroidered long-sleeve hoodie</td>\n",
       "      <td>[grey, cotton blend, jersey fleece, embroidere...</td>\n",
       "      <td>ader error</td>\n",
       "      <td>men</td>\n",
       "      <td>['Cotton' 'Polyester']</td>\n",
       "      <td>clothing~sweaters &amp; knitwear~hoodies</td>\n",
       "      <td>13</td>\n",
       "      <td>17/47/28/43/17472843.jpg</td>\n",
       "      <td>Description: logo-embroidered long-sleeve hood...</td>\n",
       "      <td>88</td>\n",
       "    </tr>\n",
       "    <tr>\n",
       "      <th>6</th>\n",
       "      <td>17211487</td>\n",
       "      <td>clothing</td>\n",
       "      <td>dresses</td>\n",
       "      <td>day dresses</td>\n",
       "      <td>Kelvin draped midi dress</td>\n",
       "      <td>[lemon yellow, stretch-design, bodycon design,...</td>\n",
       "      <td>sir.</td>\n",
       "      <td>women</td>\n",
       "      <td>['Lycra' 'Rayon']</td>\n",
       "      <td>clothing~dresses~day dresses</td>\n",
       "      <td>13</td>\n",
       "      <td>17/21/14/87/17211487.jpg</td>\n",
       "      <td>Description: Kelvin draped midi dress. Gender:...</td>\n",
       "      <td>40</td>\n",
       "    </tr>\n",
       "  </tbody>\n",
       "</table>\n",
       "</div>"
      ]
     },
     "execution_count": 68,
     "metadata": {},
     "output_type": "execute_result"
    }
   ],
   "source": [
    "selected_test_products.head(5)"
   ]
  },
  {
   "cell_type": "markdown",
   "id": "1a44ea61-707b-4fc3-8bdc-29617666ab09",
   "metadata": {},
   "source": [
    "**Step 12**: Guardamos todos los conjuntos preprocesados."
   ]
  },
  {
   "cell_type": "code",
   "execution_count": 69,
   "id": "5bc17eab-83c0-4c5c-a19c-f6ba68dae741",
   "metadata": {},
   "outputs": [],
   "source": [
    "sampled_train_products.to_csv(f'{DATASET_PATH}/bert_all_train.csv', index=False)\n",
    "train_set.to_csv(f'{DATASET_PATH}/bert_train.csv', index=False)\n",
    "val_set.to_csv(f'{DATASET_PATH}/bert_val.csv',  index=False)\n",
    "selected_test_products.to_csv(f'{DATASET_PATH}/bert_test.csv',  index=False)"
   ]
  }
 ],
 "metadata": {
  "kernelspec": {
   "display_name": "Python 3 (ipykernel)",
   "language": "python",
   "name": "python3"
  },
  "language_info": {
   "codemirror_mode": {
    "name": "ipython",
    "version": 3
   },
   "file_extension": ".py",
   "mimetype": "text/x-python",
   "name": "python",
   "nbconvert_exporter": "python",
   "pygments_lexer": "ipython3",
   "version": "3.10.4"
  },
  "widgets": {
   "application/vnd.jupyter.widget-state+json": {
    "state": {
     "099331464d2f4444b31f3134628775c3": {
      "model_module": "@jupyter-widgets/controls",
      "model_module_version": "1.5.0",
      "model_name": "HTMLModel",
      "state": {
       "layout": "IPY_MODEL_f14d2117ec8b4064bee0bbc014ac0e4a",
       "style": "IPY_MODEL_cfdd12ffd3384930ae23f1abdf35b594",
       "value": "Sampling...: 100%"
      }
     },
     "20f389a73fc04896bc0b10af1cb71ce7": {
      "model_module": "@jupyter-widgets/controls",
      "model_module_version": "1.5.0",
      "model_name": "ProgressStyleModel",
      "state": {
       "description_width": ""
      }
     },
     "2e9edf58586744eab7879e404d5b35bd": {
      "model_module": "@jupyter-widgets/base",
      "model_module_version": "1.2.0",
      "model_name": "LayoutModel",
      "state": {}
     },
     "48581c52e3e143d0ab50f44b14bfbc14": {
      "model_module": "@jupyter-widgets/controls",
      "model_module_version": "1.5.0",
      "model_name": "FloatProgressModel",
      "state": {
       "bar_style": "success",
       "layout": "IPY_MODEL_2e9edf58586744eab7879e404d5b35bd",
       "max": 190,
       "style": "IPY_MODEL_20f389a73fc04896bc0b10af1cb71ce7",
       "value": 190
      }
     },
     "51b7d8d3e7a5428ebca910b5eb7a13e7": {
      "model_module": "@jupyter-widgets/controls",
      "model_module_version": "1.5.0",
      "model_name": "HTMLModel",
      "state": {
       "layout": "IPY_MODEL_d63db7f39da54153b58ac0988064d829",
       "style": "IPY_MODEL_f915e0a7fe5f4605be74c4ff24aa9dad",
       "value": " 190/190 [00:03&lt;00:00, 48.62it/s]"
      }
     },
     "56bd27331972498b9ffcf8e329e61fed": {
      "model_module": "@jupyter-widgets/controls",
      "model_module_version": "1.5.0",
      "model_name": "HBoxModel",
      "state": {
       "children": [
        "IPY_MODEL_099331464d2f4444b31f3134628775c3",
        "IPY_MODEL_48581c52e3e143d0ab50f44b14bfbc14",
        "IPY_MODEL_51b7d8d3e7a5428ebca910b5eb7a13e7"
       ],
       "layout": "IPY_MODEL_e9951e60d6c54ccdb1818e41d000386f"
      }
     },
     "cfdd12ffd3384930ae23f1abdf35b594": {
      "model_module": "@jupyter-widgets/controls",
      "model_module_version": "1.5.0",
      "model_name": "DescriptionStyleModel",
      "state": {
       "description_width": ""
      }
     },
     "d63db7f39da54153b58ac0988064d829": {
      "model_module": "@jupyter-widgets/base",
      "model_module_version": "1.2.0",
      "model_name": "LayoutModel",
      "state": {}
     },
     "e9951e60d6c54ccdb1818e41d000386f": {
      "model_module": "@jupyter-widgets/base",
      "model_module_version": "1.2.0",
      "model_name": "LayoutModel",
      "state": {}
     },
     "f14d2117ec8b4064bee0bbc014ac0e4a": {
      "model_module": "@jupyter-widgets/base",
      "model_module_version": "1.2.0",
      "model_name": "LayoutModel",
      "state": {}
     },
     "f915e0a7fe5f4605be74c4ff24aa9dad": {
      "model_module": "@jupyter-widgets/controls",
      "model_module_version": "1.5.0",
      "model_name": "DescriptionStyleModel",
      "state": {
       "description_width": ""
      }
     }
    },
    "version_major": 2,
    "version_minor": 0
   }
  }
 },
 "nbformat": 4,
 "nbformat_minor": 5
}
