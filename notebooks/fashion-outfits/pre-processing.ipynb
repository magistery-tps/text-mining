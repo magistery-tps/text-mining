{
 "cells": [
  {
   "cell_type": "markdown",
   "id": "d333fe0e-7516-4910-ae0a-ce72b20d500b",
   "metadata": {},
   "source": [
    "# Pre-procesamiento"
   ]
  },
  {
   "cell_type": "code",
   "execution_count": 1,
   "id": "8dde5e70-5b86-460f-8791-20fcb554c378",
   "metadata": {},
   "outputs": [],
   "source": [
    "%load_ext autoreload\n",
    "%autoreload 2"
   ]
  },
  {
   "cell_type": "code",
   "execution_count": 2,
   "id": "f98e7bf4-f41a-43f6-b7b7-a991d00f82de",
   "metadata": {
    "tags": []
   },
   "outputs": [],
   "source": [
    "import sys\n",
    "sys.path.append('../../src')\n",
    "\n",
    "from matplotlib import pyplot as plt\n",
    "import seaborn  as sns\n",
    "\n",
    "import numpy  as np\n",
    "import pandas as pd\n",
    "import torch\n",
    "\n",
    "import logging\n",
    "import random\n",
    "\n",
    "import data  as dt\n",
    "import model as ml\n",
    "import util  as ut\n",
    "import pytorch_common.util as pu\n",
    "\n",
    "from sklearn.model_selection import train_test_split"
   ]
  },
  {
   "cell_type": "markdown",
   "id": "40c1da33-a8da-47c9-b174-0b0885b05b50",
   "metadata": {},
   "source": [
    "## Setup"
   ]
  },
  {
   "cell_type": "markdown",
   "id": "64f1bc81-6e88-4dca-aba1-3a2514022aa3",
   "metadata": {},
   "source": [
    "Se configura el default logger para que la consola sea el output y loguee mensajes a partir del nivel INFO."
   ]
  },
  {
   "cell_type": "code",
   "execution_count": 3,
   "id": "f7ba9eb4-2b32-4152-9453-fac1d3737ee2",
   "metadata": {},
   "outputs": [
    {
     "data": {
      "text/html": [
       "<pre style=\"white-space:pre;overflow-x:auto;line-height:normal;font-family:Menlo,'DejaVu Sans Mono',consolas,'Courier New',monospace\"><span style=\"font-weight: bold\">&lt;</span><span style=\"color: #ff00ff; text-decoration-color: #ff00ff; font-weight: bold\">RootLogger</span><span style=\"color: #000000; text-decoration-color: #000000\"> root </span><span style=\"color: #000000; text-decoration-color: #000000; font-weight: bold\">(</span><span style=\"color: #000000; text-decoration-color: #000000\">INFO</span><span style=\"color: #000000; text-decoration-color: #000000; font-weight: bold\">)</span><span style=\"font-weight: bold\">&gt;</span>\n",
       "</pre>\n"
      ],
      "text/plain": [
       "\u001b[1m<\u001b[0m\u001b[1;95mRootLogger\u001b[0m\u001b[39m root \u001b[0m\u001b[1;39m(\u001b[0m\u001b[39mINFO\u001b[0m\u001b[1;39m)\u001b[0m\u001b[1m>\u001b[0m\n"
      ]
     },
     "metadata": {},
     "output_type": "display_data"
    }
   ],
   "source": [
    "pu.LoggerBuilder().on_console().build()"
   ]
  },
  {
   "cell_type": "markdown",
   "id": "88d4de55-5291-4217-b9cb-333f7a47abb1",
   "metadata": {},
   "source": [
    "Chequeamos si se detecta la GPU:"
   ]
  },
  {
   "cell_type": "code",
   "execution_count": 4,
   "id": "d1ba7b0b-b5d8-47ec-8995-642b7b21e6d2",
   "metadata": {},
   "outputs": [
    {
     "data": {
      "text/html": [
       "<pre style=\"white-space:pre;overflow-x:auto;line-height:normal;font-family:Menlo,'DejaVu Sans Mono',consolas,'Courier New',monospace\"><span style=\"color: #00ff00; text-decoration-color: #00ff00; font-style: italic\">True</span>\n",
       "</pre>\n"
      ],
      "text/plain": [
       "\u001b[3;92mTrue\u001b[0m\n"
      ]
     },
     "metadata": {},
     "output_type": "display_data"
    }
   ],
   "source": [
    "torch.cuda.is_available()"
   ]
  },
  {
   "cell_type": "code",
   "execution_count": 5,
   "id": "21fa4041-5682-4332-b139-6aca63d05ea0",
   "metadata": {},
   "outputs": [
    {
     "data": {
      "text/html": [
       "<pre style=\"white-space:pre;overflow-x:auto;line-height:normal;font-family:Menlo,'DejaVu Sans Mono',consolas,'Courier New',monospace\"><span style=\"color: #008000; text-decoration-color: #008000\">'1.12.1+cu116'</span>\n",
       "</pre>\n"
      ],
      "text/plain": [
       "\u001b[32m'1.12.1+cu116'\u001b[0m\n"
      ]
     },
     "metadata": {},
     "output_type": "display_data"
    }
   ],
   "source": [
    "torch.__version__"
   ]
  },
  {
   "cell_type": "markdown",
   "id": "94744d45-183c-487c-b196-0c21420bed5f",
   "metadata": {},
   "source": [
    "Por defecto usamos GPU. De no existir este hardware, el fallback es CPU:"
   ]
  },
  {
   "cell_type": "code",
   "execution_count": 6,
   "id": "f96b8a74-f2d1-4137-9991-b5dbd9d21b0b",
   "metadata": {},
   "outputs": [
    {
     "name": "stderr",
     "output_type": "stream",
     "text": [
      "2022-09-21 13:42:07,839 - INFO - cuda:0\n"
     ]
    }
   ],
   "source": [
    "pu.set_device_name('gpu')\n",
    "\n",
    "logging.info(pu.get_device())"
   ]
  },
  {
   "cell_type": "code",
   "execution_count": 7,
   "id": "5729b694-b723-4ac9-aebf-11d21a78ac94",
   "metadata": {},
   "outputs": [
    {
     "data": {
      "text/html": [
       "<pre style=\"white-space:pre;overflow-x:auto;line-height:normal;font-family:Menlo,'DejaVu Sans Mono',consolas,'Courier New',monospace\"><span style=\"font-weight: bold\">[</span><span style=\"color: #008000; text-decoration-color: #008000\">'sm_37'</span>, <span style=\"color: #008000; text-decoration-color: #008000\">'sm_50'</span>, <span style=\"color: #008000; text-decoration-color: #008000\">'sm_60'</span>, <span style=\"color: #008000; text-decoration-color: #008000\">'sm_70'</span>, <span style=\"color: #008000; text-decoration-color: #008000\">'sm_75'</span>, <span style=\"color: #008000; text-decoration-color: #008000\">'sm_80'</span>, <span style=\"color: #008000; text-decoration-color: #008000\">'sm_86'</span><span style=\"font-weight: bold\">]</span>\n",
       "</pre>\n"
      ],
      "text/plain": [
       "\u001b[1m[\u001b[0m\u001b[32m'sm_37'\u001b[0m, \u001b[32m'sm_50'\u001b[0m, \u001b[32m'sm_60'\u001b[0m, \u001b[32m'sm_70'\u001b[0m, \u001b[32m'sm_75'\u001b[0m, \u001b[32m'sm_80'\u001b[0m, \u001b[32m'sm_86'\u001b[0m\u001b[1m]\u001b[0m\n"
      ]
     },
     "metadata": {},
     "output_type": "display_data"
    }
   ],
   "source": [
    "torch.cuda.get_arch_list()"
   ]
  },
  {
   "cell_type": "markdown",
   "id": "8305823e-dcef-496a-9877-4c0e8aa8cc0b",
   "metadata": {},
   "source": [
    "Fijamos la semilla:"
   ]
  },
  {
   "cell_type": "code",
   "execution_count": 8,
   "id": "b5fb890c-e080-4efc-9fc1-08921ae2465f",
   "metadata": {},
   "outputs": [],
   "source": [
    "def set_seed(value):\n",
    "    random.seed(value)\n",
    "    np.random.seed(value)\n",
    "    torch.manual_seed(value)"
   ]
  },
  {
   "cell_type": "code",
   "execution_count": 9,
   "id": "72f9d948-5300-4141-8fbc-4423669b2c58",
   "metadata": {},
   "outputs": [],
   "source": [
    "set_seed(42)"
   ]
  },
  {
   "cell_type": "markdown",
   "id": "c0a47b78-5866-4daf-ac9f-5611bfe14c7a",
   "metadata": {},
   "source": [
    "Parametros de la notebook:"
   ]
  },
  {
   "cell_type": "code",
   "execution_count": 10,
   "id": "d2af7ab1-a7b4-4efa-9422-3077db231f90",
   "metadata": {},
   "outputs": [],
   "source": [
    "DATASET_PATH = '../../datasets/fashion-outfits'"
   ]
  },
  {
   "cell_type": "markdown",
   "id": "274d032d-8489-48fa-a11b-e8d39214301a",
   "metadata": {},
   "source": [
    "se excluyen ramas con menos de 10 productos:"
   ]
  },
  {
   "cell_type": "code",
   "execution_count": 11,
   "id": "623945e5-3af5-40f2-ae8a-43a63e8d926d",
   "metadata": {},
   "outputs": [],
   "source": [
    "MIN_PRODUCTS_BY_BRANCH = 500\n",
    "MAX_PRODUCTS_BY_BRANCH = 1000"
   ]
  },
  {
   "cell_type": "markdown",
   "id": "8a8de912-7283-44fb-9bbf-97f3ab812e18",
   "metadata": {},
   "source": [
    "Se excluyen productos con un title de mas de 20 tokens para bajar los tiempos den entrenamiento:"
   ]
  },
  {
   "cell_type": "code",
   "execution_count": 12,
   "id": "99887a52-9133-4fd5-8c8b-343d2da023c3",
   "metadata": {},
   "outputs": [],
   "source": [
    "MAX_TOKENS = 100"
   ]
  },
  {
   "cell_type": "markdown",
   "id": "93173100-0e07-49ef-b0c5-8b491da605f1",
   "metadata": {},
   "source": [
    "Tamaño de los conjuntos de entrenamiento valizacion y test:"
   ]
  },
  {
   "cell_type": "code",
   "execution_count": 13,
   "id": "18ef0a49-0bc1-4d1a-8aec-fd46854eb3c4",
   "metadata": {},
   "outputs": [],
   "source": [
    "TRAIN_SIZE = 0.9\n",
    "VAL_SIZE   = 0.5 # Cantidad a tomar luego de quitar el conjunto de train. El restante pertene de al conjunto de test."
   ]
  },
  {
   "cell_type": "markdown",
   "id": "7ba21a5d-af9b-4609-90a2-544da97f4c7f",
   "metadata": {},
   "source": [
    "### Funciones helper"
   ]
  },
  {
   "cell_type": "code",
   "execution_count": 14,
   "id": "b46f8560-2d67-447c-8b68-853d2aaa60d2",
   "metadata": {},
   "outputs": [],
   "source": [
    "def plot_columns(df, x_col, y_col, title):\n",
    "    plt.figure(figsize=(8,5))\n",
    "    ax = sns.barplot(x=x_col, y=y_col, data=df,  orient = 'h', order = df[y_col].values)\n",
    "    ax.set(xlabel=x_col)\n",
    "    ax.set(ylabel=y_col)\n",
    "    ax.set(yticklabels=[])\n",
    "    ax.set_title(title)\n",
    "    plt.show()\n",
    "\n",
    "    \n",
    "def plot_branch_count(df):\n",
    "    plot_columns(\n",
    "        df, \n",
    "        y_col = 'branch', \n",
    "        x_col = 'count', \n",
    "        title = 'Cantidad de productos por rama del arbol de categorias'\n",
    "    )\n",
    "    \n",
    "    \n",
    "def plot_tokens_count(df):\n",
    "    df['description'] \\\n",
    "        .apply(lambda x: len(x.split(' '))) \\\n",
    "        .value_counts() \\\n",
    "        .plot(\n",
    "            kind   = 'bar', \n",
    "            rot    = 45,\n",
    "            xlabel = 'Cant. Tokens',\n",
    "            ylabel = 'Cant. Productos',\n",
    "            title  = 'Cantidad de tokens en la descripción de un producto' \n",
    "        )"
   ]
  },
  {
   "cell_type": "markdown",
   "id": "84f449bb-0cd5-4846-937f-4bcf4c59e27e",
   "metadata": {},
   "source": [
    "## Preparar dataset"
   ]
  },
  {
   "cell_type": "markdown",
   "id": "80f78056-c6cb-4342-9dbc-04c1973a1728",
   "metadata": {},
   "source": [
    "**Step 1**: Cargamos eld ataset original."
   ]
  },
  {
   "cell_type": "code",
   "execution_count": 15,
   "id": "304006bc-0205-42ee-a33a-2071ffb2c602",
   "metadata": {},
   "outputs": [
    {
     "name": "stdout",
     "output_type": "stream",
     "text": [
      "<class 'pandas.core.frame.DataFrame'>\n",
      "RangeIndex: 398670 entries, 0 to 398669\n",
      "Data columns (total 13 columns):\n",
      " #   Column                     Non-Null Count   Dtype \n",
      "---  ------                     --------------   ----- \n",
      " 0   product_id                 398670 non-null  int32 \n",
      " 1   product_family             398670 non-null  object\n",
      " 2   product_category           398670 non-null  object\n",
      " 3   product_sub_category       398670 non-null  object\n",
      " 4   product_gender             398670 non-null  object\n",
      " 5   product_main_colour        398670 non-null  object\n",
      " 6   product_second_color       398658 non-null  object\n",
      " 7   product_brand              398670 non-null  object\n",
      " 8   product_materials          398504 non-null  object\n",
      " 9   product_short_description  398670 non-null  object\n",
      " 10  product_attributes         234250 non-null  object\n",
      " 11  product_image_path         398670 non-null  object\n",
      " 12  product_highlights         383316 non-null  object\n",
      "dtypes: int32(1), object(12)\n",
      "memory usage: 38.0+ MB\n"
     ]
    }
   ],
   "source": [
    "dataset = pd.read_parquet(f'{DATASET_PATH}/products.parquet')\n",
    "dataset.info()"
   ]
  },
  {
   "cell_type": "code",
   "execution_count": 16,
   "id": "7080d7d2-5d5c-49d7-b168-fa975b1c4d9c",
   "metadata": {},
   "outputs": [
    {
     "data": {
      "text/html": [
       "<div>\n",
       "<style scoped>\n",
       "    .dataframe tbody tr th:only-of-type {\n",
       "        vertical-align: middle;\n",
       "    }\n",
       "\n",
       "    .dataframe tbody tr th {\n",
       "        vertical-align: top;\n",
       "    }\n",
       "\n",
       "    .dataframe thead th {\n",
       "        text-align: right;\n",
       "    }\n",
       "</style>\n",
       "<table border=\"1\" class=\"dataframe\">\n",
       "  <thead>\n",
       "    <tr style=\"text-align: right;\">\n",
       "      <th></th>\n",
       "      <th>product_id</th>\n",
       "      <th>product_family</th>\n",
       "      <th>product_category</th>\n",
       "      <th>product_sub_category</th>\n",
       "      <th>product_gender</th>\n",
       "      <th>product_main_colour</th>\n",
       "      <th>product_second_color</th>\n",
       "      <th>product_brand</th>\n",
       "      <th>product_materials</th>\n",
       "      <th>product_short_description</th>\n",
       "      <th>product_attributes</th>\n",
       "      <th>product_image_path</th>\n",
       "      <th>product_highlights</th>\n",
       "    </tr>\n",
       "  </thead>\n",
       "  <tbody>\n",
       "    <tr>\n",
       "      <th>0</th>\n",
       "      <td>17073270</td>\n",
       "      <td>Clothing</td>\n",
       "      <td>Knitwear</td>\n",
       "      <td>Cardi-Coats</td>\n",
       "      <td>UNISEX</td>\n",
       "      <td>BLACK</td>\n",
       "      <td>WHITE</td>\n",
       "      <td>STELLA MCCARTNEY</td>\n",
       "      <td>[Cotton]</td>\n",
       "      <td>x The Beatles intarsia-knit coat</td>\n",
       "      <td>[{\"attribute_name\":\"Knit Neckline\",\"attribute_...</td>\n",
       "      <td>17/07/32/70/17073270.jpg</td>\n",
       "      <td>[black/white, organic cotton, mix print, intar...</td>\n",
       "    </tr>\n",
       "    <tr>\n",
       "      <th>1</th>\n",
       "      <td>17674562</td>\n",
       "      <td>Clothing</td>\n",
       "      <td>Knitwear</td>\n",
       "      <td>Cardi-Coats</td>\n",
       "      <td>UNISEX</td>\n",
       "      <td>PURPLE</td>\n",
       "      <td>N/D</td>\n",
       "      <td>extreme cashmere</td>\n",
       "      <td>[Spandex/Elastane, Nylon, Cashmere]</td>\n",
       "      <td>cashmere-blend long belted cardigan</td>\n",
       "      <td>[{\"attribute_name\":\"Knit Neckline\",\"attribute_...</td>\n",
       "      <td>17/67/45/62/17674562.jpg</td>\n",
       "      <td>[plum purple, cashmere blend, wrap design, sle...</td>\n",
       "    </tr>\n",
       "    <tr>\n",
       "      <th>2</th>\n",
       "      <td>17678603</td>\n",
       "      <td>Clothing</td>\n",
       "      <td>Knitwear</td>\n",
       "      <td>Cardi-Coats</td>\n",
       "      <td>UNISEX</td>\n",
       "      <td>BLUE</td>\n",
       "      <td>N/D</td>\n",
       "      <td>extreme cashmere</td>\n",
       "      <td>[Spandex/Elastane, Cashmere, Nylon]</td>\n",
       "      <td>cashmere-blend long belted cardigan</td>\n",
       "      <td>[{\"attribute_name\":\"Knit Neckline\",\"attribute_...</td>\n",
       "      <td>17/67/86/03/17678603.jpg</td>\n",
       "      <td>[blue, cashmere blend, wrap design, sleeveless...</td>\n",
       "    </tr>\n",
       "    <tr>\n",
       "      <th>3</th>\n",
       "      <td>17179699</td>\n",
       "      <td>Clothing</td>\n",
       "      <td>Knitwear</td>\n",
       "      <td>Cardi-Coats</td>\n",
       "      <td>UNISEX</td>\n",
       "      <td>PINK</td>\n",
       "      <td>N/D</td>\n",
       "      <td>extreme cashmere</td>\n",
       "      <td>[Nylon, Spandex/Elastane, Cashmere]</td>\n",
       "      <td>long cashmere cardigan</td>\n",
       "      <td>[{\"attribute_name\":\"Knit Neckline\",\"attribute_...</td>\n",
       "      <td>17/17/96/99/17179699.jpg</td>\n",
       "      <td>[light pink, stretch-cashmere blend, fine knit...</td>\n",
       "    </tr>\n",
       "    <tr>\n",
       "      <th>4</th>\n",
       "      <td>15907453</td>\n",
       "      <td>Clothing</td>\n",
       "      <td>Sweaters &amp; Knitwear</td>\n",
       "      <td>Cardigans</td>\n",
       "      <td>MEN</td>\n",
       "      <td>NEUTRALS</td>\n",
       "      <td>N/D</td>\n",
       "      <td>THE ELDER STATESMAN</td>\n",
       "      <td>[Cashmere]</td>\n",
       "      <td>tie-dye print cashmere cardigan</td>\n",
       "      <td>None</td>\n",
       "      <td>15/90/74/53/15907453.jpg</td>\n",
       "      <td>[multicolour, cashmere, tie-dye print, knitted...</td>\n",
       "    </tr>\n",
       "  </tbody>\n",
       "</table>\n",
       "</div>"
      ]
     },
     "execution_count": 16,
     "metadata": {},
     "output_type": "execute_result"
    }
   ],
   "source": [
    "dataset.head()"
   ]
  },
  {
   "cell_type": "markdown",
   "id": "b3534fb7-43dc-4295-9304-7294ec36d468",
   "metadata": {},
   "source": [
    "**Step 2**: normalizamos nombres de colimnas y las variable categoricas. Tambien borramos columnnas y folas con nulos."
   ]
  },
  {
   "cell_type": "code",
   "execution_count": 17,
   "id": "f55f991c-3544-434e-abdf-b07db364a2eb",
   "metadata": {},
   "outputs": [
    {
     "data": {
      "text/html": [
       "<div>\n",
       "<style scoped>\n",
       "    .dataframe tbody tr th:only-of-type {\n",
       "        vertical-align: middle;\n",
       "    }\n",
       "\n",
       "    .dataframe tbody tr th {\n",
       "        vertical-align: top;\n",
       "    }\n",
       "\n",
       "    .dataframe thead th {\n",
       "        text-align: right;\n",
       "    }\n",
       "</style>\n",
       "<table border=\"1\" class=\"dataframe\">\n",
       "  <thead>\n",
       "    <tr style=\"text-align: right;\">\n",
       "      <th></th>\n",
       "      <th>id</th>\n",
       "      <th>family</th>\n",
       "      <th>category</th>\n",
       "      <th>sub_category</th>\n",
       "      <th>description</th>\n",
       "      <th>highlights</th>\n",
       "      <th>brand</th>\n",
       "      <th>gender</th>\n",
       "      <th>materials</th>\n",
       "      <th>image_uri</th>\n",
       "      <th>branch</th>\n",
       "    </tr>\n",
       "  </thead>\n",
       "  <tbody>\n",
       "    <tr>\n",
       "      <th>0</th>\n",
       "      <td>17073270</td>\n",
       "      <td>clothing</td>\n",
       "      <td>knitwear</td>\n",
       "      <td>cardi-coats</td>\n",
       "      <td>x The Beatles intarsia-knit coat</td>\n",
       "      <td>[black/white, organic cotton, mix print, intar...</td>\n",
       "      <td>stella mccartney</td>\n",
       "      <td>unisex</td>\n",
       "      <td>[Cotton]</td>\n",
       "      <td>17/07/32/70/17073270.jpg</td>\n",
       "      <td>clothing~knitwear~cardi-coats</td>\n",
       "    </tr>\n",
       "    <tr>\n",
       "      <th>1</th>\n",
       "      <td>17674562</td>\n",
       "      <td>clothing</td>\n",
       "      <td>knitwear</td>\n",
       "      <td>cardi-coats</td>\n",
       "      <td>cashmere-blend long belted cardigan</td>\n",
       "      <td>[plum purple, cashmere blend, wrap design, sle...</td>\n",
       "      <td>extreme cashmere</td>\n",
       "      <td>unisex</td>\n",
       "      <td>[Spandex/Elastane, Nylon, Cashmere]</td>\n",
       "      <td>17/67/45/62/17674562.jpg</td>\n",
       "      <td>clothing~knitwear~cardi-coats</td>\n",
       "    </tr>\n",
       "    <tr>\n",
       "      <th>2</th>\n",
       "      <td>17678603</td>\n",
       "      <td>clothing</td>\n",
       "      <td>knitwear</td>\n",
       "      <td>cardi-coats</td>\n",
       "      <td>cashmere-blend long belted cardigan</td>\n",
       "      <td>[blue, cashmere blend, wrap design, sleeveless...</td>\n",
       "      <td>extreme cashmere</td>\n",
       "      <td>unisex</td>\n",
       "      <td>[Spandex/Elastane, Cashmere, Nylon]</td>\n",
       "      <td>17/67/86/03/17678603.jpg</td>\n",
       "      <td>clothing~knitwear~cardi-coats</td>\n",
       "    </tr>\n",
       "    <tr>\n",
       "      <th>3</th>\n",
       "      <td>17179699</td>\n",
       "      <td>clothing</td>\n",
       "      <td>knitwear</td>\n",
       "      <td>cardi-coats</td>\n",
       "      <td>long cashmere cardigan</td>\n",
       "      <td>[light pink, stretch-cashmere blend, fine knit...</td>\n",
       "      <td>extreme cashmere</td>\n",
       "      <td>unisex</td>\n",
       "      <td>[Nylon, Spandex/Elastane, Cashmere]</td>\n",
       "      <td>17/17/96/99/17179699.jpg</td>\n",
       "      <td>clothing~knitwear~cardi-coats</td>\n",
       "    </tr>\n",
       "    <tr>\n",
       "      <th>4</th>\n",
       "      <td>15907453</td>\n",
       "      <td>clothing</td>\n",
       "      <td>sweaters &amp; knitwear</td>\n",
       "      <td>cardigans</td>\n",
       "      <td>tie-dye print cashmere cardigan</td>\n",
       "      <td>[multicolour, cashmere, tie-dye print, knitted...</td>\n",
       "      <td>the elder statesman</td>\n",
       "      <td>men</td>\n",
       "      <td>[Cashmere]</td>\n",
       "      <td>15/90/74/53/15907453.jpg</td>\n",
       "      <td>clothing~sweaters &amp; knitwear~cardigans</td>\n",
       "    </tr>\n",
       "  </tbody>\n",
       "</table>\n",
       "</div>"
      ]
     },
     "execution_count": 17,
     "metadata": {},
     "output_type": "execute_result"
    }
   ],
   "source": [
    "def norm_text(df, columns):\n",
    "    for col in columns:\n",
    "        df[col] = df[col].apply(lambda x: x.lower().strip())\n",
    "\n",
    "TEXT_COLS = ['product_family', 'product_category', 'product_sub_category', 'product_brand', 'product_gender']\n",
    "        \n",
    "norm_text(dataset, TEXT_COLS)\n",
    "\n",
    "\n",
    "dataset = dataset.rename(columns={\n",
    "    'product_id'               : 'id',\n",
    "    'product_gender'           : 'gender',    \n",
    "    'product_short_description': 'description', \n",
    "    'product_highlights'       : 'highlights',\n",
    "    'product_image_path'       : 'image',\n",
    "    'product_materials'        : 'materials',\n",
    "    'product_family'           : 'family',\n",
    "    'product_category'         : 'category',\n",
    "    'product_sub_category'     : 'sub_category', \n",
    "    'product_brand'            : 'brand',\n",
    "    'product_main_colour'      : 'main_colour', \n",
    "    'product_second_color'     : 'second_color',\n",
    "    'product_image_path'       : 'image_uri'\n",
    "})\n",
    "\n",
    "\n",
    "products = dataset[['id', 'family', 'category', 'sub_category', 'description', 'highlights', 'brand', 'gender', 'materials', 'image_uri']]\n",
    "products['branch'] = products['family'] + '~' + products['category'] + '~' + products['sub_category']\n",
    "\n",
    "products.dropna(how='all', axis=1).dropna(axis=0)\n",
    "products.head()"
   ]
  },
  {
   "cell_type": "markdown",
   "id": "c9546218-1491-4449-a155-348c45d1a373",
   "metadata": {},
   "source": [
    "**Step 3**:  Filtramos productos con mas de MAX_TOKENS tokens en la descripcion, para disminiur el tiempo de entrenamiento."
   ]
  },
  {
   "cell_type": "code",
   "execution_count": 18,
   "id": "4d273a20-5982-49e6-a4c0-76118403e32a",
   "metadata": {},
   "outputs": [],
   "source": [
    "products['desc_tokens']  = products['description'].apply(lambda x: x.split(' '))\n",
    "products['tokens_count'] = products['desc_tokens'].apply(len)"
   ]
  },
  {
   "cell_type": "code",
   "execution_count": 19,
   "id": "2f1c8d71-62d7-4e54-a3f7-51b9aee36959",
   "metadata": {},
   "outputs": [
    {
     "data": {
      "text/html": [
       "<pre style=\"white-space:pre;overflow-x:auto;line-height:normal;font-family:Menlo,'DejaVu Sans Mono',consolas,'Courier New',monospace\"><span style=\"font-weight: bold\">(</span><span style=\"color: #008080; text-decoration-color: #008080; font-weight: bold\">1</span>, <span style=\"color: #008080; text-decoration-color: #008080; font-weight: bold\">40</span><span style=\"font-weight: bold\">)</span>\n",
       "</pre>\n"
      ],
      "text/plain": [
       "\u001b[1m(\u001b[0m\u001b[1;36m1\u001b[0m, \u001b[1;36m40\u001b[0m\u001b[1m)\u001b[0m\n"
      ]
     },
     "metadata": {},
     "output_type": "display_data"
    }
   ],
   "source": [
    "products['tokens_count'].min(), products['tokens_count'].max()"
   ]
  },
  {
   "cell_type": "code",
   "execution_count": 20,
   "id": "0f1c8023-bb9c-4a0e-95cb-981c6fec8035",
   "metadata": {},
   "outputs": [],
   "source": [
    "# plot_columns(\n",
    "#    products,\n",
    "#    x_col = 'tokens_count',\n",
    "#    y_col = 'description',\n",
    "#    title = 'Product description: Cantidad de tokens'\n",
    "#)"
   ]
  },
  {
   "cell_type": "code",
   "execution_count": 21,
   "id": "1ad342b7-f1a5-4137-b960-460cc5f76ac8",
   "metadata": {},
   "outputs": [],
   "source": [
    "filtered_products = products[products['tokens_count'] < MAX_TOKENS]"
   ]
  },
  {
   "cell_type": "code",
   "execution_count": 22,
   "id": "3bb11705-4f23-489a-8d47-535d576375ed",
   "metadata": {},
   "outputs": [
    {
     "data": {
      "text/html": [
       "<pre style=\"white-space:pre;overflow-x:auto;line-height:normal;font-family:Menlo,'DejaVu Sans Mono',consolas,'Courier New',monospace\"><span style=\"font-weight: bold\">(</span><span style=\"color: #008080; text-decoration-color: #008080; font-weight: bold\">1</span>, <span style=\"color: #008080; text-decoration-color: #008080; font-weight: bold\">40</span><span style=\"font-weight: bold\">)</span>\n",
       "</pre>\n"
      ],
      "text/plain": [
       "\u001b[1m(\u001b[0m\u001b[1;36m1\u001b[0m, \u001b[1;36m40\u001b[0m\u001b[1m)\u001b[0m\n"
      ]
     },
     "metadata": {},
     "output_type": "display_data"
    }
   ],
   "source": [
    "filtered_products['tokens_count'].min(), filtered_products['tokens_count'].max()"
   ]
  },
  {
   "cell_type": "code",
   "execution_count": 23,
   "id": "58a24ad8-17a6-4e2f-8caf-c53b2334a811",
   "metadata": {},
   "outputs": [],
   "source": [
    "# plot_columns(\n",
    "#    filtered_products,\n",
    "#    x_col = 'tokens_count',\n",
    "#    y_col = 'description',\n",
    "#    title = 'Product description: Cantidad de tokens'from sklearn.utils import resample\n",
    "#)"
   ]
  },
  {
   "cell_type": "markdown",
   "id": "ab37db9d-a9f2-4938-aa06-81a6595ea046",
   "metadata": {},
   "source": [
    "**Step 4**: seleccionamos las columnas y tipos de datos finales."
   ]
  },
  {
   "cell_type": "code",
   "execution_count": 24,
   "id": "2b41193e-6576-4fa3-91e9-b733246ed16a",
   "metadata": {},
   "outputs": [
    {
     "data": {
      "text/html": [
       "<div>\n",
       "<style scoped>\n",
       "    .dataframe tbody tr th:only-of-type {\n",
       "        vertical-align: middle;\n",
       "    }\n",
       "\n",
       "    .dataframe tbody tr th {\n",
       "        vertical-align: top;\n",
       "    }\n",
       "\n",
       "    .dataframe thead th {\n",
       "        text-align: right;\n",
       "    }\n",
       "</style>\n",
       "<table border=\"1\" class=\"dataframe\">\n",
       "  <thead>\n",
       "    <tr style=\"text-align: right;\">\n",
       "      <th></th>\n",
       "      <th>id</th>\n",
       "      <th>family</th>\n",
       "      <th>category</th>\n",
       "      <th>sub_category</th>\n",
       "      <th>description</th>\n",
       "      <th>highlights</th>\n",
       "      <th>brand</th>\n",
       "      <th>gender</th>\n",
       "      <th>materials</th>\n",
       "      <th>branch</th>\n",
       "      <th>tokens_count</th>\n",
       "      <th>image_uri</th>\n",
       "    </tr>\n",
       "  </thead>\n",
       "  <tbody>\n",
       "    <tr>\n",
       "      <th>0</th>\n",
       "      <td>17073270</td>\n",
       "      <td>clothing</td>\n",
       "      <td>knitwear</td>\n",
       "      <td>cardi-coats</td>\n",
       "      <td>x The Beatles intarsia-knit coat</td>\n",
       "      <td>[black/white, organic cotton, mix print, intar...</td>\n",
       "      <td>stella mccartney</td>\n",
       "      <td>unisex</td>\n",
       "      <td>[Cotton]</td>\n",
       "      <td>clothing~knitwear~cardi-coats</td>\n",
       "      <td>5</td>\n",
       "      <td>17/07/32/70/17073270.jpg</td>\n",
       "    </tr>\n",
       "    <tr>\n",
       "      <th>1</th>\n",
       "      <td>17674562</td>\n",
       "      <td>clothing</td>\n",
       "      <td>knitwear</td>\n",
       "      <td>cardi-coats</td>\n",
       "      <td>cashmere-blend long belted cardigan</td>\n",
       "      <td>[plum purple, cashmere blend, wrap design, sle...</td>\n",
       "      <td>extreme cashmere</td>\n",
       "      <td>unisex</td>\n",
       "      <td>[Spandex/Elastane, Nylon, Cashmere]</td>\n",
       "      <td>clothing~knitwear~cardi-coats</td>\n",
       "      <td>4</td>\n",
       "      <td>17/67/45/62/17674562.jpg</td>\n",
       "    </tr>\n",
       "    <tr>\n",
       "      <th>2</th>\n",
       "      <td>17678603</td>\n",
       "      <td>clothing</td>\n",
       "      <td>knitwear</td>\n",
       "      <td>cardi-coats</td>\n",
       "      <td>cashmere-blend long belted cardigan</td>\n",
       "      <td>[blue, cashmere blend, wrap design, sleeveless...</td>\n",
       "      <td>extreme cashmere</td>\n",
       "      <td>unisex</td>\n",
       "      <td>[Spandex/Elastane, Cashmere, Nylon]</td>\n",
       "      <td>clothing~knitwear~cardi-coats</td>\n",
       "      <td>4</td>\n",
       "      <td>17/67/86/03/17678603.jpg</td>\n",
       "    </tr>\n",
       "    <tr>\n",
       "      <th>3</th>\n",
       "      <td>17179699</td>\n",
       "      <td>clothing</td>\n",
       "      <td>knitwear</td>\n",
       "      <td>cardi-coats</td>\n",
       "      <td>long cashmere cardigan</td>\n",
       "      <td>[light pink, stretch-cashmere blend, fine knit...</td>\n",
       "      <td>extreme cashmere</td>\n",
       "      <td>unisex</td>\n",
       "      <td>[Nylon, Spandex/Elastane, Cashmere]</td>\n",
       "      <td>clothing~knitwear~cardi-coats</td>\n",
       "      <td>3</td>\n",
       "      <td>17/17/96/99/17179699.jpg</td>\n",
       "    </tr>\n",
       "    <tr>\n",
       "      <th>4</th>\n",
       "      <td>15907453</td>\n",
       "      <td>clothing</td>\n",
       "      <td>sweaters &amp; knitwear</td>\n",
       "      <td>cardigans</td>\n",
       "      <td>tie-dye print cashmere cardigan</td>\n",
       "      <td>[multicolour, cashmere, tie-dye print, knitted...</td>\n",
       "      <td>the elder statesman</td>\n",
       "      <td>men</td>\n",
       "      <td>[Cashmere]</td>\n",
       "      <td>clothing~sweaters &amp; knitwear~cardigans</td>\n",
       "      <td>4</td>\n",
       "      <td>15/90/74/53/15907453.jpg</td>\n",
       "    </tr>\n",
       "  </tbody>\n",
       "</table>\n",
       "</div>"
      ]
     },
     "execution_count": 24,
     "metadata": {},
     "output_type": "execute_result"
    }
   ],
   "source": [
    "filtered_products = filtered_products[\n",
    "    ['id', 'family', 'category', 'sub_category', 'description', 'highlights', 'brand', 'gender', 'materials', 'branch',  'tokens_count', 'image_uri']\n",
    "]\n",
    "\n",
    "filtered_products.dropna(how='all', axis=1).dropna(axis=0)\n",
    "\n",
    "filtered_products = filtered_products.astype({    \n",
    "    'id': int,\n",
    "    'family': str,\n",
    "    'category': str,\n",
    "    'sub_category': str,\n",
    "    'brand': str,\n",
    "    'gender': str,\n",
    "    'branch': str,\n",
    "    'description': str\n",
    "})\n",
    "\n",
    "filtered_products.head()"
   ]
  },
  {
   "cell_type": "code",
   "execution_count": 25,
   "id": "ba97508d-4f8d-496f-85d8-8529b9709b9e",
   "metadata": {},
   "outputs": [
    {
     "name": "stdout",
     "output_type": "stream",
     "text": [
      "<class 'pandas.core.frame.DataFrame'>\n",
      "Int64Index: 398670 entries, 0 to 398669\n",
      "Data columns (total 12 columns):\n",
      " #   Column        Non-Null Count   Dtype \n",
      "---  ------        --------------   ----- \n",
      " 0   id            398670 non-null  int64 \n",
      " 1   family        398670 non-null  object\n",
      " 2   category      398670 non-null  object\n",
      " 3   sub_category  398670 non-null  object\n",
      " 4   description   398670 non-null  object\n",
      " 5   highlights    383316 non-null  object\n",
      " 6   brand         398670 non-null  object\n",
      " 7   gender        398670 non-null  object\n",
      " 8   materials     398504 non-null  object\n",
      " 9   branch        398670 non-null  object\n",
      " 10  tokens_count  398670 non-null  int64 \n",
      " 11  image_uri     398670 non-null  object\n",
      "dtypes: int64(2), object(10)\n",
      "memory usage: 39.5+ MB\n"
     ]
    }
   ],
   "source": [
    "filtered_products.info()"
   ]
  },
  {
   "cell_type": "markdown",
   "id": "414feec8-7c7f-4385-a7d3-7b66bcb2f553",
   "metadata": {},
   "source": [
    "**Step 5**: Juntamos las categorias que conjunde el modelo y ademas son miy similares entre si."
   ]
  },
  {
   "cell_type": "code",
   "execution_count": 26,
   "id": "c9a45ec8-0605-4371-ac1d-38dcda61b9b3",
   "metadata": {},
   "outputs": [
    {
     "data": {
      "text/html": [
       "<pre style=\"white-space:pre;overflow-x:auto;line-height:normal;font-family:Menlo,'DejaVu Sans Mono',consolas,'Courier New',monospace\"><span style=\"font-weight: bold\">(</span><span style=\"color: #008080; text-decoration-color: #008080; font-weight: bold\">338</span>,<span style=\"font-weight: bold\">)</span>\n",
       "</pre>\n"
      ],
      "text/plain": [
       "\u001b[1m(\u001b[0m\u001b[1;36m338\u001b[0m,\u001b[1m)\u001b[0m\n"
      ]
     },
     "metadata": {},
     "output_type": "display_data"
    }
   ],
   "source": [
    "filtered_products['branch'].unique().shape"
   ]
  },
  {
   "cell_type": "code",
   "execution_count": 27,
   "id": "9e26d942-9678-4519-bf70-cf0bd0076729",
   "metadata": {},
   "outputs": [],
   "source": [
    "similar_categories = {\n",
    "  'clothing~coats~oversized coats'       : 'clothing~coats~single breasted coats',\n",
    "  'clothing~jackets~cropped jackets'     : 'clothing~jackets~fitted jackets',\n",
    "  'clothing~jackets~lightweight jackets' : 'clothing~jackets~sport jackets & windbreakers',\n",
    "  'clothing~trousers~skinny trousers'    : 'clothing~trousers~slim-fit trousers'\n",
    "}\n",
    "filtered_products['branch'] = filtered_products['branch'].apply(lambda x: similar_categories[x] if x in similar_categories else x)"
   ]
  },
  {
   "cell_type": "code",
   "execution_count": 28,
   "id": "370c6121-e5fd-41df-8440-9b9c69bccb70",
   "metadata": {},
   "outputs": [
    {
     "data": {
      "text/html": [
       "<pre style=\"white-space:pre;overflow-x:auto;line-height:normal;font-family:Menlo,'DejaVu Sans Mono',consolas,'Courier New',monospace\"><span style=\"font-weight: bold\">(</span><span style=\"color: #008080; text-decoration-color: #008080; font-weight: bold\">334</span>,<span style=\"font-weight: bold\">)</span>\n",
       "</pre>\n"
      ],
      "text/plain": [
       "\u001b[1m(\u001b[0m\u001b[1;36m334\u001b[0m,\u001b[1m)\u001b[0m\n"
      ]
     },
     "metadata": {},
     "output_type": "display_data"
    }
   ],
   "source": [
    "filtered_products['branch'].unique().shape"
   ]
  },
  {
   "cell_type": "markdown",
   "id": "67a74b60-00a5-4090-b74b-b2db13985a11",
   "metadata": {},
   "source": [
    "**Step 6**: Dowsampling de clases mayoritarias. Data que tenemo un gran nivel de desbalance de las clase, se realizara un downsampling, es decir tomar un maximo de ejemplo para las cases mayoritarias. De esta foram se intenta aumentar el balance de clases en el dataset."
   ]
  },
  {
   "cell_type": "code",
   "execution_count": 29,
   "id": "c4638e2c-f7e9-4737-9792-aac673f84e4e",
   "metadata": {},
   "outputs": [
    {
     "data": {
      "text/html": [
       "<div>\n",
       "<style scoped>\n",
       "    .dataframe tbody tr th:only-of-type {\n",
       "        vertical-align: middle;\n",
       "    }\n",
       "\n",
       "    .dataframe tbody tr th {\n",
       "        vertical-align: top;\n",
       "    }\n",
       "\n",
       "    .dataframe thead th {\n",
       "        text-align: right;\n",
       "    }\n",
       "</style>\n",
       "<table border=\"1\" class=\"dataframe\">\n",
       "  <thead>\n",
       "    <tr style=\"text-align: right;\">\n",
       "      <th></th>\n",
       "      <th>branch</th>\n",
       "      <th>count</th>\n",
       "    </tr>\n",
       "  </thead>\n",
       "  <tbody>\n",
       "    <tr>\n",
       "      <th>200</th>\n",
       "      <td>clothing~t-shirts &amp; vests~t-shirts</td>\n",
       "      <td>25484</td>\n",
       "    </tr>\n",
       "    <tr>\n",
       "      <th>133</th>\n",
       "      <td>clothing~dresses~day dresses</td>\n",
       "      <td>21663</td>\n",
       "    </tr>\n",
       "    <tr>\n",
       "      <th>214</th>\n",
       "      <td>clothing~tops~t-shirts &amp; jerseys</td>\n",
       "      <td>16717</td>\n",
       "    </tr>\n",
       "    <tr>\n",
       "      <th>82</th>\n",
       "      <td>bags~tote bags~n/d</td>\n",
       "      <td>14910</td>\n",
       "    </tr>\n",
       "    <tr>\n",
       "      <th>166</th>\n",
       "      <td>clothing~shirts~n/d</td>\n",
       "      <td>14602</td>\n",
       "    </tr>\n",
       "  </tbody>\n",
       "</table>\n",
       "</div>"
      ]
     },
     "execution_count": 29,
     "metadata": {},
     "output_type": "execute_result"
    }
   ],
   "source": [
    "products_by_branch = ut.group_by_count(filtered_products, 'branch', 'id')\n",
    "products_by_branch.head()"
   ]
  },
  {
   "cell_type": "code",
   "execution_count": 30,
   "id": "450fd362-2e73-48b5-9507-6f9b4fbaa4f7",
   "metadata": {},
   "outputs": [
    {
     "data": {
      "text/html": [
       "<pre style=\"white-space:pre;overflow-x:auto;line-height:normal;font-family:Menlo,'DejaVu Sans Mono',consolas,'Courier New',monospace\"><span style=\"font-weight: bold\">&lt;</span><span style=\"color: #ff00ff; text-decoration-color: #ff00ff; font-weight: bold\">Figure</span><span style=\"color: #000000; text-decoration-color: #000000\"> size 80</span><span style=\"color: #008080; text-decoration-color: #008080; font-weight: bold\">0x500</span><span style=\"color: #000000; text-decoration-color: #000000\"> with </span><span style=\"color: #008080; text-decoration-color: #008080; font-weight: bold\">1</span><span style=\"color: #000000; text-decoration-color: #000000\"> Axes</span><span style=\"font-weight: bold\">&gt;</span>\n",
       "</pre>\n"
      ],
      "text/plain": [
       "\u001b[1m<\u001b[0m\u001b[1;95mFigure\u001b[0m\u001b[39m size 80\u001b[0m\u001b[1;36m0x500\u001b[0m\u001b[39m with \u001b[0m\u001b[1;36m1\u001b[0m\u001b[39m Axes\u001b[0m\u001b[1m>\u001b[0m\n"
      ]
     },
     "metadata": {},
     "output_type": "display_data"
    },
    {
     "data": {
      "image/png": "[encoded data removed]"
     },
     "metadata": {},
     "output_type": "display_data"
    }
   ],
   "source": [
    "plot_branch_count(products_by_branch)"
   ]
  },
  {
   "cell_type": "code",
   "execution_count": 31,
   "id": "b9bc9968-4a1f-45b5-94a5-e2655ed235fb",
   "metadata": {},
   "outputs": [
    {
     "data": {
      "text/html": [
       "<pre style=\"white-space:pre;overflow-x:auto;line-height:normal;font-family:Menlo,'DejaVu Sans Mono',consolas,'Courier New',monospace\"><span style=\"font-weight: bold\">(</span><span style=\"color: #008080; text-decoration-color: #008080; font-weight: bold\">1</span>, <span style=\"color: #008080; text-decoration-color: #008080; font-weight: bold\">25484</span><span style=\"font-weight: bold\">)</span>\n",
       "</pre>\n"
      ],
      "text/plain": [
       "\u001b[1m(\u001b[0m\u001b[1;36m1\u001b[0m, \u001b[1;36m25484\u001b[0m\u001b[1m)\u001b[0m\n"
      ]
     },
     "metadata": {},
     "output_type": "display_data"
    }
   ],
   "source": [
    "max_products = products_by_branch['count'].max()\n",
    "min_products = products_by_branch['count'].min()\n",
    "\n",
    "min_products, max_products"
   ]
  },
  {
   "cell_type": "code",
   "execution_count": 32,
   "id": "04936ff3-107b-4a36-9dd6-235cb5917065",
   "metadata": {},
   "outputs": [],
   "source": [
    "sampler = dt.Sampler(\n",
    "    filtered_products,\n",
    "    min_n_samples = MIN_PRODUCTS_BY_BRANCH,\n",
    "    max_n_samples = MAX_PRODUCTS_BY_BRANCH,\n",
    "    class_col     = 'branch'\n",
    ")"
   ]
  },
  {
   "cell_type": "code",
   "execution_count": 33,
   "id": "d59d1d16-b926-4618-afb4-c0f9ad59afb2",
   "metadata": {},
   "outputs": [
    {
     "data": {
      "application/vnd.jupyter.widget-view+json": {
       "model_id": "62ac247d377f4040a5d0b049cacf6066",
       "version_major": 2,
       "version_minor": 0
      },
      "text/plain": [
       "Sampling...:   0%|          | 0/334 [00:00<?, ?it/s]"
      ]
     },
     "metadata": {},
     "output_type": "display_data"
    },
    {
     "data": {
      "text/html": [
       "<div>\n",
       "<style scoped>\n",
       "    .dataframe tbody tr th:only-of-type {\n",
       "        vertical-align: middle;\n",
       "    }\n",
       "\n",
       "    .dataframe tbody tr th {\n",
       "        vertical-align: top;\n",
       "    }\n",
       "\n",
       "    .dataframe thead th {\n",
       "        text-align: right;\n",
       "    }\n",
       "</style>\n",
       "<table border=\"1\" class=\"dataframe\">\n",
       "  <thead>\n",
       "    <tr style=\"text-align: right;\">\n",
       "      <th></th>\n",
       "      <th>id</th>\n",
       "      <th>family</th>\n",
       "      <th>category</th>\n",
       "      <th>sub_category</th>\n",
       "      <th>description</th>\n",
       "      <th>highlights</th>\n",
       "      <th>brand</th>\n",
       "      <th>gender</th>\n",
       "      <th>materials</th>\n",
       "      <th>branch</th>\n",
       "      <th>tokens_count</th>\n",
       "      <th>image_uri</th>\n",
       "    </tr>\n",
       "  </thead>\n",
       "  <tbody>\n",
       "    <tr>\n",
       "      <th>221924</th>\n",
       "      <td>12407831</td>\n",
       "      <td>accessories</td>\n",
       "      <td>belts</td>\n",
       "      <td>n/d</td>\n",
       "      <td>Monogram Roller croc embossed belt</td>\n",
       "      <td>None</td>\n",
       "      <td>saint laurent</td>\n",
       "      <td>men</td>\n",
       "      <td>[Calf Leather]</td>\n",
       "      <td>accessories~belts~n/d</td>\n",
       "      <td>5</td>\n",
       "      <td>12/40/78/31/12407831.jpg</td>\n",
       "    </tr>\n",
       "    <tr>\n",
       "      <th>221925</th>\n",
       "      <td>14461213</td>\n",
       "      <td>accessories</td>\n",
       "      <td>belts</td>\n",
       "      <td>n/d</td>\n",
       "      <td>woven belt</td>\n",
       "      <td>None</td>\n",
       "      <td>nicholas daley</td>\n",
       "      <td>men</td>\n",
       "      <td>[Cotton, Jute]</td>\n",
       "      <td>accessories~belts~n/d</td>\n",
       "      <td>2</td>\n",
       "      <td>14/46/12/13/14461213.jpg</td>\n",
       "    </tr>\n",
       "    <tr>\n",
       "      <th>221926</th>\n",
       "      <td>14698816</td>\n",
       "      <td>accessories</td>\n",
       "      <td>belts</td>\n",
       "      <td>n/d</td>\n",
       "      <td>reversible Vintage Check belt</td>\n",
       "      <td>None</td>\n",
       "      <td>burberry</td>\n",
       "      <td>men</td>\n",
       "      <td>[Thermoplastic Polyurethane (TPU), Leather, Co...</td>\n",
       "      <td>accessories~belts~n/d</td>\n",
       "      <td>4</td>\n",
       "      <td>14/69/88/16/14698816.jpg</td>\n",
       "    </tr>\n",
       "    <tr>\n",
       "      <th>221927</th>\n",
       "      <td>16201702</td>\n",
       "      <td>accessories</td>\n",
       "      <td>belts</td>\n",
       "      <td>n/d</td>\n",
       "      <td>4G Padlock belt</td>\n",
       "      <td>[black, calf leather, signature 4G motif, padl...</td>\n",
       "      <td>givenchy</td>\n",
       "      <td>men</td>\n",
       "      <td>[zamac, Calf Leather]</td>\n",
       "      <td>accessories~belts~n/d</td>\n",
       "      <td>3</td>\n",
       "      <td>16/20/17/02/16201702.jpg</td>\n",
       "    </tr>\n",
       "    <tr>\n",
       "      <th>221928</th>\n",
       "      <td>16618890</td>\n",
       "      <td>accessories</td>\n",
       "      <td>belts</td>\n",
       "      <td>n/d</td>\n",
       "      <td>Greca pattern print belt</td>\n",
       "      <td>[black, gold-tone buckle fastening, engraved l...</td>\n",
       "      <td>versace</td>\n",
       "      <td>men</td>\n",
       "      <td>[Leather, Fabric]</td>\n",
       "      <td>accessories~belts~n/d</td>\n",
       "      <td>4</td>\n",
       "      <td>16/61/88/90/16618890.jpg</td>\n",
       "    </tr>\n",
       "  </tbody>\n",
       "</table>\n",
       "</div>"
      ]
     },
     "execution_count": 33,
     "metadata": {},
     "output_type": "execute_result"
    }
   ],
   "source": [
    "sampled_products = sampler()\n",
    "sampled_products.head()"
   ]
  },
  {
   "cell_type": "code",
   "execution_count": 34,
   "id": "3a4d2099-3669-41bb-b4ea-e823d295115a",
   "metadata": {},
   "outputs": [
    {
     "data": {
      "text/html": [
       "<pre style=\"white-space:pre;overflow-x:auto;line-height:normal;font-family:Menlo,'DejaVu Sans Mono',consolas,'Courier New',monospace\"><span style=\"font-weight: bold\">((</span><span style=\"color: #008080; text-decoration-color: #008080; font-weight: bold\">398670</span>, <span style=\"color: #008080; text-decoration-color: #008080; font-weight: bold\">12</span><span style=\"font-weight: bold\">)</span>, <span style=\"font-weight: bold\">(</span><span style=\"color: #008080; text-decoration-color: #008080; font-weight: bold\">98873</span>, <span style=\"color: #008080; text-decoration-color: #008080; font-weight: bold\">12</span><span style=\"font-weight: bold\">))</span>\n",
       "</pre>\n"
      ],
      "text/plain": [
       "\u001b[1m(\u001b[0m\u001b[1m(\u001b[0m\u001b[1;36m398670\u001b[0m, \u001b[1;36m12\u001b[0m\u001b[1m)\u001b[0m, \u001b[1m(\u001b[0m\u001b[1;36m98873\u001b[0m, \u001b[1;36m12\u001b[0m\u001b[1m)\u001b[0m\u001b[1m)\u001b[0m\n"
      ]
     },
     "metadata": {},
     "output_type": "display_data"
    }
   ],
   "source": [
    "filtered_products.shape, sampled_products.shape"
   ]
  },
  {
   "cell_type": "code",
   "execution_count": 35,
   "id": "a8c3ee03-d851-4569-8999-e83d6e712f98",
   "metadata": {},
   "outputs": [
    {
     "data": {
      "text/html": [
       "<pre style=\"white-space:pre;overflow-x:auto;line-height:normal;font-family:Menlo,'DejaVu Sans Mono',consolas,'Courier New',monospace\"><span style=\"font-weight: bold\">&lt;</span><span style=\"color: #ff00ff; text-decoration-color: #ff00ff; font-weight: bold\">Figure</span><span style=\"color: #000000; text-decoration-color: #000000\"> size 80</span><span style=\"color: #008080; text-decoration-color: #008080; font-weight: bold\">0x500</span><span style=\"color: #000000; text-decoration-color: #000000\"> with </span><span style=\"color: #008080; text-decoration-color: #008080; font-weight: bold\">1</span><span style=\"color: #000000; text-decoration-color: #000000\"> Axes</span><span style=\"font-weight: bold\">&gt;</span>\n",
       "</pre>\n"
      ],
      "text/plain": [
       "\u001b[1m<\u001b[0m\u001b[1;95mFigure\u001b[0m\u001b[39m size 80\u001b[0m\u001b[1;36m0x500\u001b[0m\u001b[39m with \u001b[0m\u001b[1;36m1\u001b[0m\u001b[39m Axes\u001b[0m\u001b[1m>\u001b[0m\n"
      ]
     },
     "metadata": {},
     "output_type": "display_data"
    },
    {
     "data": {
      "image/png": "[encoded data removed]"
     },
     "metadata": {},
     "output_type": "display_data"
    }
   ],
   "source": [
    "plot_branch_count(ut.group_by_count(sampled_products, 'branch', 'id'))"
   ]
  },
  {
   "cell_type": "markdown",
   "id": "e4d36bd0-dabf-4655-a734-7e5e06ea4edc",
   "metadata": {},
   "source": [
    "**Step 7**: Agregamos un número de secuencia que representa univocamente a cada branch:"
   ]
  },
  {
   "cell_type": "code",
   "execution_count": 36,
   "id": "18d6b666-7076-41f7-a7b3-77a83bc3d481",
   "metadata": {},
   "outputs": [
    {
     "data": {
      "text/html": [
       "<div>\n",
       "<style scoped>\n",
       "    .dataframe tbody tr th:only-of-type {\n",
       "        vertical-align: middle;\n",
       "    }\n",
       "\n",
       "    .dataframe tbody tr th {\n",
       "        vertical-align: top;\n",
       "    }\n",
       "\n",
       "    .dataframe thead th {\n",
       "        text-align: right;\n",
       "    }\n",
       "</style>\n",
       "<table border=\"1\" class=\"dataframe\">\n",
       "  <thead>\n",
       "    <tr style=\"text-align: right;\">\n",
       "      <th></th>\n",
       "      <th>id</th>\n",
       "      <th>family</th>\n",
       "      <th>category</th>\n",
       "      <th>sub_category</th>\n",
       "      <th>description</th>\n",
       "      <th>highlights</th>\n",
       "      <th>brand</th>\n",
       "      <th>gender</th>\n",
       "      <th>materials</th>\n",
       "      <th>branch</th>\n",
       "      <th>tokens_count</th>\n",
       "      <th>image_uri</th>\n",
       "      <th>branch_seq</th>\n",
       "    </tr>\n",
       "  </thead>\n",
       "  <tbody>\n",
       "    <tr>\n",
       "      <th>0</th>\n",
       "      <td>12407831</td>\n",
       "      <td>accessories</td>\n",
       "      <td>belts</td>\n",
       "      <td>n/d</td>\n",
       "      <td>Monogram Roller croc embossed belt</td>\n",
       "      <td>None</td>\n",
       "      <td>saint laurent</td>\n",
       "      <td>men</td>\n",
       "      <td>[Calf Leather]</td>\n",
       "      <td>accessories~belts~n/d</td>\n",
       "      <td>5</td>\n",
       "      <td>12/40/78/31/12407831.jpg</td>\n",
       "      <td>0</td>\n",
       "    </tr>\n",
       "    <tr>\n",
       "      <th>1</th>\n",
       "      <td>14461213</td>\n",
       "      <td>accessories</td>\n",
       "      <td>belts</td>\n",
       "      <td>n/d</td>\n",
       "      <td>woven belt</td>\n",
       "      <td>None</td>\n",
       "      <td>nicholas daley</td>\n",
       "      <td>men</td>\n",
       "      <td>[Cotton, Jute]</td>\n",
       "      <td>accessories~belts~n/d</td>\n",
       "      <td>2</td>\n",
       "      <td>14/46/12/13/14461213.jpg</td>\n",
       "      <td>0</td>\n",
       "    </tr>\n",
       "    <tr>\n",
       "      <th>2</th>\n",
       "      <td>14698816</td>\n",
       "      <td>accessories</td>\n",
       "      <td>belts</td>\n",
       "      <td>n/d</td>\n",
       "      <td>reversible Vintage Check belt</td>\n",
       "      <td>None</td>\n",
       "      <td>burberry</td>\n",
       "      <td>men</td>\n",
       "      <td>[Thermoplastic Polyurethane (TPU), Leather, Co...</td>\n",
       "      <td>accessories~belts~n/d</td>\n",
       "      <td>4</td>\n",
       "      <td>14/69/88/16/14698816.jpg</td>\n",
       "      <td>0</td>\n",
       "    </tr>\n",
       "    <tr>\n",
       "      <th>3</th>\n",
       "      <td>16201702</td>\n",
       "      <td>accessories</td>\n",
       "      <td>belts</td>\n",
       "      <td>n/d</td>\n",
       "      <td>4G Padlock belt</td>\n",
       "      <td>[black, calf leather, signature 4G motif, padl...</td>\n",
       "      <td>givenchy</td>\n",
       "      <td>men</td>\n",
       "      <td>[zamac, Calf Leather]</td>\n",
       "      <td>accessories~belts~n/d</td>\n",
       "      <td>3</td>\n",
       "      <td>16/20/17/02/16201702.jpg</td>\n",
       "      <td>0</td>\n",
       "    </tr>\n",
       "    <tr>\n",
       "      <th>4</th>\n",
       "      <td>16618890</td>\n",
       "      <td>accessories</td>\n",
       "      <td>belts</td>\n",
       "      <td>n/d</td>\n",
       "      <td>Greca pattern print belt</td>\n",
       "      <td>[black, gold-tone buckle fastening, engraved l...</td>\n",
       "      <td>versace</td>\n",
       "      <td>men</td>\n",
       "      <td>[Leather, Fabric]</td>\n",
       "      <td>accessories~belts~n/d</td>\n",
       "      <td>4</td>\n",
       "      <td>16/61/88/90/16618890.jpg</td>\n",
       "      <td>0</td>\n",
       "    </tr>\n",
       "  </tbody>\n",
       "</table>\n",
       "</div>"
      ]
     },
     "execution_count": 36,
     "metadata": {},
     "output_type": "execute_result"
    }
   ],
   "source": [
    "sampled_products = dt.Sequencer('branch', 'branch_seq').perform(sampled_products)\n",
    "sampled_products.head()"
   ]
  },
  {
   "cell_type": "markdown",
   "id": "81679aaf-535f-40a2-8ce8-8eed2f51b442",
   "metadata": {},
   "source": [
    "Cual es el numero total de categorias en el dataset luego de los pasos anteriores?"
   ]
  },
  {
   "cell_type": "code",
   "execution_count": 37,
   "id": "57d5ec56-858d-4e44-8984-04a3292a90af",
   "metadata": {},
   "outputs": [
    {
     "data": {
      "text/html": [
       "<pre style=\"white-space:pre;overflow-x:auto;line-height:normal;font-family:Menlo,'DejaVu Sans Mono',consolas,'Courier New',monospace\"><span style=\"color: #008080; text-decoration-color: #008080; font-weight: bold\">106</span>\n",
       "</pre>\n"
      ],
      "text/plain": [
       "\u001b[1;36m106\u001b[0m\n"
      ]
     },
     "metadata": {},
     "output_type": "display_data"
    }
   ],
   "source": [
    "sampled_products['branch_seq'].max()"
   ]
  },
  {
   "cell_type": "markdown",
   "id": "62645c98-4f52-415a-8e69-51d4e2c25546",
   "metadata": {},
   "source": [
    "**Step 8**: Agregamos otros features a la descriptcon como genero highlight y materias para tratar de mejorar la predición."
   ]
  },
  {
   "cell_type": "code",
   "execution_count": 38,
   "id": "4229ca8f-853a-48fa-81a6-6c26ff0d6e27",
   "metadata": {},
   "outputs": [
    {
     "data": {
      "text/html": [
       "<pre style=\"white-space:pre;overflow-x:auto;line-height:normal;font-family:Menlo,'DejaVu Sans Mono',consolas,'Courier New',monospace\"><span style=\"font-weight: bold\">&lt;</span><span style=\"color: #ff00ff; text-decoration-color: #ff00ff; font-weight: bold\">Figure</span><span style=\"color: #000000; text-decoration-color: #000000\"> size 64</span><span style=\"color: #008080; text-decoration-color: #008080; font-weight: bold\">0x480</span><span style=\"color: #000000; text-decoration-color: #000000\"> with </span><span style=\"color: #008080; text-decoration-color: #008080; font-weight: bold\">1</span><span style=\"color: #000000; text-decoration-color: #000000\"> Axes</span><span style=\"font-weight: bold\">&gt;</span>\n",
       "</pre>\n"
      ],
      "text/plain": [
       "\u001b[1m<\u001b[0m\u001b[1;95mFigure\u001b[0m\u001b[39m size 64\u001b[0m\u001b[1;36m0x480\u001b[0m\u001b[39m with \u001b[0m\u001b[1;36m1\u001b[0m\u001b[39m Axes\u001b[0m\u001b[1m>\u001b[0m\n"
      ]
     },
     "metadata": {},
     "output_type": "display_data"
    },
    {
     "data": {
      "image/png": "[encoded data removed]"
     },
     "metadata": {},
     "output_type": "display_data"
    }
   ],
   "source": [
    "plot_tokens_count(sampled_products)"
   ]
  },
  {
   "cell_type": "code",
   "execution_count": 39,
   "id": "d9aa00f1-ad10-4da6-9d5c-d86e4e6fa4e4",
   "metadata": {},
   "outputs": [],
   "source": [
    "def preprocess_highlights(v):\n",
    "    return '' if v is None else', '.join(v.replace('[', '').replace(']', '').strip(',').strip())\n",
    "\n",
    "MAX_TAGS = 6"
   ]
  },
  {
   "cell_type": "code",
   "execution_count": 40,
   "id": "9e9d9f76-3abb-447e-9ca9-f42934f57cc5",
   "metadata": {},
   "outputs": [
    {
     "data": {
      "text/html": [
       "<div>\n",
       "<style scoped>\n",
       "    .dataframe tbody tr th:only-of-type {\n",
       "        vertical-align: middle;\n",
       "    }\n",
       "\n",
       "    .dataframe tbody tr th {\n",
       "        vertical-align: top;\n",
       "    }\n",
       "\n",
       "    .dataframe thead th {\n",
       "        text-align: right;\n",
       "    }\n",
       "</style>\n",
       "<table border=\"1\" class=\"dataframe\">\n",
       "  <thead>\n",
       "    <tr style=\"text-align: right;\">\n",
       "      <th></th>\n",
       "      <th>id</th>\n",
       "      <th>family</th>\n",
       "      <th>category</th>\n",
       "      <th>sub_category</th>\n",
       "      <th>description</th>\n",
       "      <th>highlights</th>\n",
       "      <th>brand</th>\n",
       "      <th>gender</th>\n",
       "      <th>materials</th>\n",
       "      <th>branch</th>\n",
       "      <th>tokens_count</th>\n",
       "      <th>image_uri</th>\n",
       "      <th>branch_seq</th>\n",
       "    </tr>\n",
       "  </thead>\n",
       "  <tbody>\n",
       "    <tr>\n",
       "      <th>0</th>\n",
       "      <td>12407831</td>\n",
       "      <td>accessories</td>\n",
       "      <td>belts</td>\n",
       "      <td>n/d</td>\n",
       "      <td>Monogram Roller croc embossed belt men . Calf ...</td>\n",
       "      <td>None</td>\n",
       "      <td>saint laurent</td>\n",
       "      <td>men</td>\n",
       "      <td>[Calf Leather]</td>\n",
       "      <td>accessories~belts~n/d</td>\n",
       "      <td>11</td>\n",
       "      <td>12/40/78/31/12407831.jpg</td>\n",
       "      <td>0</td>\n",
       "    </tr>\n",
       "    <tr>\n",
       "      <th>1</th>\n",
       "      <td>14461213</td>\n",
       "      <td>accessories</td>\n",
       "      <td>belts</td>\n",
       "      <td>n/d</td>\n",
       "      <td>woven belt men . Cotton, Jute .</td>\n",
       "      <td>None</td>\n",
       "      <td>nicholas daley</td>\n",
       "      <td>men</td>\n",
       "      <td>[Cotton, Jute]</td>\n",
       "      <td>accessories~belts~n/d</td>\n",
       "      <td>8</td>\n",
       "      <td>14/46/12/13/14461213.jpg</td>\n",
       "      <td>0</td>\n",
       "    </tr>\n",
       "    <tr>\n",
       "      <th>2</th>\n",
       "      <td>14698816</td>\n",
       "      <td>accessories</td>\n",
       "      <td>belts</td>\n",
       "      <td>n/d</td>\n",
       "      <td>reversible Vintage Check belt men . Thermoplas...</td>\n",
       "      <td>None</td>\n",
       "      <td>burberry</td>\n",
       "      <td>men</td>\n",
       "      <td>[Thermoplastic Polyurethane (TPU), Leather, Co...</td>\n",
       "      <td>accessories~belts~n/d</td>\n",
       "      <td>14</td>\n",
       "      <td>14/69/88/16/14698816.jpg</td>\n",
       "      <td>0</td>\n",
       "    </tr>\n",
       "    <tr>\n",
       "      <th>3</th>\n",
       "      <td>16201702</td>\n",
       "      <td>accessories</td>\n",
       "      <td>belts</td>\n",
       "      <td>n/d</td>\n",
       "      <td>4G Padlock belt men . zamac, Calf Leather . b,...</td>\n",
       "      <td>[black, calf leather, signature 4G motif, padl...</td>\n",
       "      <td>givenchy</td>\n",
       "      <td>men</td>\n",
       "      <td>[zamac, Calf Leather]</td>\n",
       "      <td>accessories~belts~n/d</td>\n",
       "      <td>12</td>\n",
       "      <td>16/20/17/02/16201702.jpg</td>\n",
       "      <td>0</td>\n",
       "    </tr>\n",
       "    <tr>\n",
       "      <th>4</th>\n",
       "      <td>16618890</td>\n",
       "      <td>accessories</td>\n",
       "      <td>belts</td>\n",
       "      <td>n/d</td>\n",
       "      <td>Greca pattern print belt men . Leather, Fabric...</td>\n",
       "      <td>[black, gold-tone buckle fastening, engraved l...</td>\n",
       "      <td>versace</td>\n",
       "      <td>men</td>\n",
       "      <td>[Leather, Fabric]</td>\n",
       "      <td>accessories~belts~n/d</td>\n",
       "      <td>12</td>\n",
       "      <td>16/61/88/90/16618890.jpg</td>\n",
       "      <td>0</td>\n",
       "    </tr>\n",
       "  </tbody>\n",
       "</table>\n",
       "</div>"
      ]
     },
     "execution_count": 40,
     "metadata": {},
     "output_type": "execute_result"
    }
   ],
   "source": [
    "sampled_products = sampled_products[sampled_products['tokens_count'] < MAX_TOKENS]\n",
    "\n",
    "highlights = sampled_products['highlights'].apply(lambda x: '. ' + preprocess_highlights(x)[:MAX_TAGS])\n",
    "\n",
    "materials  = sampled_products['materials'].apply(lambda x: '. ' + ', '.join( ([] if x is None else x.tolist())[:MAX_TAGS]))\n",
    "\n",
    "sampled_products['description']  = sampled_products['description'] + ' ' + sampled_products['gender'] +  ' ' + materials + ' ' + highlights\n",
    "\n",
    "sampled_products['tokens_count'] = sampled_products['description'].apply(lambda x: len(x.split(' ')))\n",
    "\n",
    "\n",
    "sampled_products.head()"
   ]
  },
  {
   "cell_type": "code",
   "execution_count": 41,
   "id": "74f8424c-e0b3-409e-bbe9-51d4f064fb11",
   "metadata": {},
   "outputs": [
    {
     "data": {
      "text/html": [
       "<pre style=\"white-space:pre;overflow-x:auto;line-height:normal;font-family:Menlo,'DejaVu Sans Mono',consolas,'Courier New',monospace\"><span style=\"font-weight: bold\">&lt;</span><span style=\"color: #ff00ff; text-decoration-color: #ff00ff; font-weight: bold\">Figure</span><span style=\"color: #000000; text-decoration-color: #000000\"> size 64</span><span style=\"color: #008080; text-decoration-color: #008080; font-weight: bold\">0x480</span><span style=\"color: #000000; text-decoration-color: #000000\"> with </span><span style=\"color: #008080; text-decoration-color: #008080; font-weight: bold\">1</span><span style=\"color: #000000; text-decoration-color: #000000\"> Axes</span><span style=\"font-weight: bold\">&gt;</span>\n",
       "</pre>\n"
      ],
      "text/plain": [
       "\u001b[1m<\u001b[0m\u001b[1;95mFigure\u001b[0m\u001b[39m size 64\u001b[0m\u001b[1;36m0x480\u001b[0m\u001b[39m with \u001b[0m\u001b[1;36m1\u001b[0m\u001b[39m Axes\u001b[0m\u001b[1m>\u001b[0m\n"
      ]
     },
     "metadata": {},
     "output_type": "display_data"
    },
    {
     "data": {
      "image/png": "[encoded data removed]"
     },
     "metadata": {},
     "output_type": "display_data"
    }
   ],
   "source": [
    "plot_tokens_count(sampled_products)"
   ]
  },
  {
   "cell_type": "markdown",
   "id": "b4a92570-e0e5-4b0b-8d36-8975b56c7d32",
   "metadata": {},
   "source": [
    "**Step 9**: Partimos el dataset en los conjuntos de entrenamiento, prueba y validación. Ademas se estratifica para minizar el efecto del desbalanceo de productos por branch."
   ]
  },
  {
   "cell_type": "code",
   "execution_count": 42,
   "id": "0f811800-64e2-48b3-b59d-7d1e03e3df57",
   "metadata": {},
   "outputs": [],
   "source": [
    "train_set, test_set, _, _= train_test_split(\n",
    "    sampled_products,\n",
    "    sampled_products['branch_seq'].values,\n",
    "    test_size     = 1 - TRAIN_SIZE,\n",
    "    stratify      = sampled_products['branch_seq'].values,\n",
    "    shuffle       = True\n",
    ")"
   ]
  },
  {
   "cell_type": "code",
   "execution_count": 43,
   "id": "86a8e639-59c5-4d41-a29c-32d9791ca3c2",
   "metadata": {},
   "outputs": [],
   "source": [
    "test_set, val_set, _, _= train_test_split(\n",
    "    test_set,\n",
    "    test_set['branch_seq'].values,\n",
    "    test_size     = VAL_SIZE,\n",
    "    shuffle       = False\n",
    ")"
   ]
  },
  {
   "cell_type": "markdown",
   "id": "5ddc9de6-ce2e-460e-b36c-8bf1b8376417",
   "metadata": {},
   "source": [
    "**Step 10**: Chequeamos que en test y evaliacion existan las misma categorias que existe en train."
   ]
  },
  {
   "cell_type": "code",
   "execution_count": 44,
   "id": "2cc67d4f-cd3d-4ea9-bfb2-554c33ec0414",
   "metadata": {},
   "outputs": [
    {
     "data": {
      "text/html": [
       "<pre style=\"white-space:pre;overflow-x:auto;line-height:normal;font-family:Menlo,'DejaVu Sans Mono',consolas,'Courier New',monospace\"><span style=\"font-weight: bold\">&lt;</span><span style=\"color: #ff00ff; text-decoration-color: #ff00ff; font-weight: bold\">Figure</span><span style=\"color: #000000; text-decoration-color: #000000\"> size 80</span><span style=\"color: #008080; text-decoration-color: #008080; font-weight: bold\">0x500</span><span style=\"color: #000000; text-decoration-color: #000000\"> with </span><span style=\"color: #008080; text-decoration-color: #008080; font-weight: bold\">1</span><span style=\"color: #000000; text-decoration-color: #000000\"> Axes</span><span style=\"font-weight: bold\">&gt;</span>\n",
       "</pre>\n"
      ],
      "text/plain": [
       "\u001b[1m<\u001b[0m\u001b[1;95mFigure\u001b[0m\u001b[39m size 80\u001b[0m\u001b[1;36m0x500\u001b[0m\u001b[39m with \u001b[0m\u001b[1;36m1\u001b[0m\u001b[39m Axes\u001b[0m\u001b[1m>\u001b[0m\n"
      ]
     },
     "metadata": {},
     "output_type": "display_data"
    },
    {
     "data": {
      "image/png": "[encoded data removed]"
     },
     "metadata": {},
     "output_type": "display_data"
    }
   ],
   "source": [
    "plot_branch_count(ut.group_by_count(train_set, 'branch', 'id'))"
   ]
  },
  {
   "cell_type": "code",
   "execution_count": 45,
   "id": "1aea7a4f-315a-4107-9d6d-6d157bb09d0e",
   "metadata": {},
   "outputs": [
    {
     "data": {
      "text/html": [
       "<pre style=\"white-space:pre;overflow-x:auto;line-height:normal;font-family:Menlo,'DejaVu Sans Mono',consolas,'Courier New',monospace\"><span style=\"font-weight: bold\">&lt;</span><span style=\"color: #ff00ff; text-decoration-color: #ff00ff; font-weight: bold\">Figure</span><span style=\"color: #000000; text-decoration-color: #000000\"> size 80</span><span style=\"color: #008080; text-decoration-color: #008080; font-weight: bold\">0x500</span><span style=\"color: #000000; text-decoration-color: #000000\"> with </span><span style=\"color: #008080; text-decoration-color: #008080; font-weight: bold\">1</span><span style=\"color: #000000; text-decoration-color: #000000\"> Axes</span><span style=\"font-weight: bold\">&gt;</span>\n",
       "</pre>\n"
      ],
      "text/plain": [
       "\u001b[1m<\u001b[0m\u001b[1;95mFigure\u001b[0m\u001b[39m size 80\u001b[0m\u001b[1;36m0x500\u001b[0m\u001b[39m with \u001b[0m\u001b[1;36m1\u001b[0m\u001b[39m Axes\u001b[0m\u001b[1m>\u001b[0m\n"
      ]
     },
     "metadata": {},
     "output_type": "display_data"
    },
    {
     "data": {
      "image/png": "[encoded data removed]"
     },
     "metadata": {},
     "output_type": "display_data"
    }
   ],
   "source": [
    "plot_branch_count(ut.group_by_count(val_set, 'branch', 'id'))"
   ]
  },
  {
   "cell_type": "code",
   "execution_count": 46,
   "id": "fa16823b-329a-4631-ac35-44a861c3a7d3",
   "metadata": {},
   "outputs": [
    {
     "data": {
      "text/html": [
       "<pre style=\"white-space:pre;overflow-x:auto;line-height:normal;font-family:Menlo,'DejaVu Sans Mono',consolas,'Courier New',monospace\"><span style=\"font-weight: bold\">&lt;</span><span style=\"color: #ff00ff; text-decoration-color: #ff00ff; font-weight: bold\">Figure</span><span style=\"color: #000000; text-decoration-color: #000000\"> size 80</span><span style=\"color: #008080; text-decoration-color: #008080; font-weight: bold\">0x500</span><span style=\"color: #000000; text-decoration-color: #000000\"> with </span><span style=\"color: #008080; text-decoration-color: #008080; font-weight: bold\">1</span><span style=\"color: #000000; text-decoration-color: #000000\"> Axes</span><span style=\"font-weight: bold\">&gt;</span>\n",
       "</pre>\n"
      ],
      "text/plain": [
       "\u001b[1m<\u001b[0m\u001b[1;95mFigure\u001b[0m\u001b[39m size 80\u001b[0m\u001b[1;36m0x500\u001b[0m\u001b[39m with \u001b[0m\u001b[1;36m1\u001b[0m\u001b[39m Axes\u001b[0m\u001b[1m>\u001b[0m\n"
      ]
     },
     "metadata": {},
     "output_type": "display_data"
    },
    {
     "data": {
      "image/png": "[encoded data removed]"
     },
     "metadata": {},
     "output_type": "display_data"
    }
   ],
   "source": [
    "plot_branch_count(ut.group_by_count(test_set, 'branch', 'id'))"
   ]
  },
  {
   "cell_type": "code",
   "execution_count": 47,
   "id": "662d1cbc-0c2b-4f3a-9ebd-5650238e0f74",
   "metadata": {},
   "outputs": [
    {
     "data": {
      "text/html": [
       "<pre style=\"white-space:pre;overflow-x:auto;line-height:normal;font-family:Menlo,'DejaVu Sans Mono',consolas,'Courier New',monospace\"><span style=\"font-weight: bold\">((</span><span style=\"color: #008080; text-decoration-color: #008080; font-weight: bold\">88985</span>, <span style=\"color: #008080; text-decoration-color: #008080; font-weight: bold\">13</span><span style=\"font-weight: bold\">)</span>, <span style=\"font-weight: bold\">(</span><span style=\"color: #008080; text-decoration-color: #008080; font-weight: bold\">4944</span>, <span style=\"color: #008080; text-decoration-color: #008080; font-weight: bold\">13</span><span style=\"font-weight: bold\">)</span>, <span style=\"font-weight: bold\">(</span><span style=\"color: #008080; text-decoration-color: #008080; font-weight: bold\">4944</span>, <span style=\"color: #008080; text-decoration-color: #008080; font-weight: bold\">13</span><span style=\"font-weight: bold\">))</span>\n",
       "</pre>\n"
      ],
      "text/plain": [
       "\u001b[1m(\u001b[0m\u001b[1m(\u001b[0m\u001b[1;36m88985\u001b[0m, \u001b[1;36m13\u001b[0m\u001b[1m)\u001b[0m, \u001b[1m(\u001b[0m\u001b[1;36m4944\u001b[0m, \u001b[1;36m13\u001b[0m\u001b[1m)\u001b[0m, \u001b[1m(\u001b[0m\u001b[1;36m4944\u001b[0m, \u001b[1;36m13\u001b[0m\u001b[1m)\u001b[0m\u001b[1m)\u001b[0m\n"
      ]
     },
     "metadata": {},
     "output_type": "display_data"
    }
   ],
   "source": [
    "train_set.shape, val_set.shape, test_set.shape"
   ]
  },
  {
   "cell_type": "markdown",
   "id": "325e595e-d89e-4321-9c2f-c770cfa433d7",
   "metadata": {},
   "source": [
    "**Step 11**: Los sets de validación y test deberian tener solo categorias que existan en el set de entrenamiento, de lo contrario, no es posible hacer la predicción."
   ]
  },
  {
   "cell_type": "code",
   "execution_count": 48,
   "id": "82fd78ee-bb05-4666-9e0b-f1d2ee49579e",
   "metadata": {},
   "outputs": [
    {
     "data": {
      "text/html": [
       "<pre style=\"white-space:pre;overflow-x:auto;line-height:normal;font-family:Menlo,'DejaVu Sans Mono',consolas,'Courier New',monospace\"><span style=\"font-weight: bold\">(</span><span style=\"color: #008080; text-decoration-color: #008080; font-weight: bold\">4944</span>, <span style=\"color: #008080; text-decoration-color: #008080; font-weight: bold\">13</span><span style=\"font-weight: bold\">)</span>\n",
       "</pre>\n"
      ],
      "text/plain": [
       "\u001b[1m(\u001b[0m\u001b[1;36m4944\u001b[0m, \u001b[1;36m13\u001b[0m\u001b[1m)\u001b[0m\n"
      ]
     },
     "metadata": {},
     "output_type": "display_data"
    }
   ],
   "source": [
    "val_set[val_set['branch_seq'].isin(train_set['branch_seq'].values)].shape"
   ]
  },
  {
   "cell_type": "code",
   "execution_count": 49,
   "id": "76ab54a6-ad28-42a8-84eb-725928e91bd2",
   "metadata": {},
   "outputs": [
    {
     "data": {
      "text/html": [
       "<pre style=\"white-space:pre;overflow-x:auto;line-height:normal;font-family:Menlo,'DejaVu Sans Mono',consolas,'Courier New',monospace\"><span style=\"font-weight: bold\">(</span><span style=\"color: #008080; text-decoration-color: #008080; font-weight: bold\">4944</span>, <span style=\"color: #008080; text-decoration-color: #008080; font-weight: bold\">13</span><span style=\"font-weight: bold\">)</span>\n",
       "</pre>\n"
      ],
      "text/plain": [
       "\u001b[1m(\u001b[0m\u001b[1;36m4944\u001b[0m, \u001b[1;36m13\u001b[0m\u001b[1m)\u001b[0m\n"
      ]
     },
     "metadata": {},
     "output_type": "display_data"
    }
   ],
   "source": [
    "test_set[test_set['branch_seq'].isin(train_set['branch_seq'].values)].shape"
   ]
  },
  {
   "cell_type": "markdown",
   "id": "1a44ea61-707b-4fc3-8bdc-29617666ab09",
   "metadata": {},
   "source": [
    "**Step 12**: Guardamos todos los conjuntos preprocesados."
   ]
  },
  {
   "cell_type": "code",
   "execution_count": 50,
   "id": "55db358d-7be0-45ca-a3b1-885598fc17a8",
   "metadata": {},
   "outputs": [],
   "source": [
    "filtered_products.to_csv(f'{DATASET_PATH}/all.csv',   index=False)"
   ]
  },
  {
   "cell_type": "code",
   "execution_count": 51,
   "id": "5bc17eab-83c0-4c5c-a19c-f6ba68dae741",
   "metadata": {},
   "outputs": [],
   "source": [
    "train_set        .to_csv(f'{DATASET_PATH}/train.csv', index=False)\n",
    "val_set          .to_csv(f'{DATASET_PATH}/val.csv',   index=False)\n",
    "test_set         .to_csv(f'{DATASET_PATH}/test.csv',  index=False)"
   ]
  }
 ],
 "metadata": {
  "kernelspec": {
   "display_name": "Python 3 (ipykernel)",
   "language": "python",
   "name": "python3"
  },
  "language_info": {
   "codemirror_mode": {
    "name": "ipython",
    "version": 3
   },
   "file_extension": ".py",
   "mimetype": "text/x-python",
   "name": "python",
   "nbconvert_exporter": "python",
   "pygments_lexer": "ipython3",
   "version": "3.10.4"
  },
  "widgets": {
   "application/vnd.jupyter.widget-state+json": {
    "state": {},
    "version_major": 2,
    "version_minor": 0
   }
  }
 },
 "nbformat": 4,
 "nbformat_minor": 5
}
