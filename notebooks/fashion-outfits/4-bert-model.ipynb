{
 "cells": [
  {
   "cell_type": "markdown",
   "id": "e9d02f34-abc0-472a-9e8e-8f4c08fe947a",
   "metadata": {},
   "source": [
    "# 4. Modelo: Clasificador BERT\n",
    "\n",
    "Se busca predecir la rama del arbol de categorias(familia, categoria y sub-categoria) en la que se encuentra un producto dado.\n",
    "\n",
    "### Enlaces\n",
    "\n",
    "- [The Illustrated BERT, ELMo, and co. (How NLP Cracked Transfer Learning)](http://jalammar.github.io/illustrated-bert/)\n",
    "- [Text Classification with BERT in PyTorch](https://towardsdatascience.com/text-classification-with-bert-in-pytorch-887965e5820f)\n",
    "- [Tutorial: Fine tuning BERT for Sentiment Analysis](https://skimai.com/fine-tuning-bert-for-sentiment-analysis/)\n",
    "- [BERT models](https://huggingface.co/models)"
   ]
  },
  {
   "cell_type": "code",
   "execution_count": 1,
   "id": "8dde5e70-5b86-460f-8791-20fcb554c378",
   "metadata": {},
   "outputs": [],
   "source": [
    "%load_ext autoreload\n",
    "%autoreload 2"
   ]
  },
  {
   "cell_type": "code",
   "execution_count": 2,
   "id": "f98e7bf4-f41a-43f6-b7b7-a991d00f82de",
   "metadata": {
    "tags": []
   },
   "outputs": [],
   "source": [
    "import sys\n",
    "sys.path.append('../../src')\n",
    "\n",
    "from matplotlib import pyplot as plt\n",
    "import seaborn as sns\n",
    "\n",
    "import numpy  as np\n",
    "import pandas as pd\n",
    "\n",
    "import torch\n",
    "import transformers\n",
    "from   torch import nn\n",
    "from   torch.optim import Adam\n",
    "    \n",
    "import logging\n",
    "\n",
    "from data.fashion import load_datasets\n",
    "import data  as dt\n",
    "import model as ml\n",
    "\n",
    "import util  as ut\n",
    "import pytorch_common.util as pu"
   ]
  },
  {
   "cell_type": "markdown",
   "id": "40c1da33-a8da-47c9-b174-0b0885b05b50",
   "metadata": {},
   "source": [
    "## Setup"
   ]
  },
  {
   "cell_type": "markdown",
   "id": "377cb992-05ee-4a22-90c1-34e508d76f49",
   "metadata": {},
   "source": [
    "Se configura el default logger para que la consola sea el output y loguee mensajes a partir del nivel INFO."
   ]
  },
  {
   "cell_type": "code",
   "execution_count": 3,
   "id": "f7ba9eb4-2b32-4152-9453-fac1d3737ee2",
   "metadata": {},
   "outputs": [
    {
     "data": {
      "text/html": [
       "<pre style=\"white-space:pre;overflow-x:auto;line-height:normal;font-family:Menlo,'DejaVu Sans Mono',consolas,'Courier New',monospace\"><span style=\"font-weight: bold\">&lt;</span><span style=\"color: #ff00ff; text-decoration-color: #ff00ff; font-weight: bold\">RootLogger</span><span style=\"color: #000000; text-decoration-color: #000000\"> root </span><span style=\"color: #000000; text-decoration-color: #000000; font-weight: bold\">(</span><span style=\"color: #000000; text-decoration-color: #000000\">INFO</span><span style=\"color: #000000; text-decoration-color: #000000; font-weight: bold\">)</span><span style=\"font-weight: bold\">&gt;</span>\n",
       "</pre>\n"
      ],
      "text/plain": [
       "\u001b[1m<\u001b[0m\u001b[1;95mRootLogger\u001b[0m\u001b[39m root \u001b[0m\u001b[1;39m(\u001b[0m\u001b[39mINFO\u001b[0m\u001b[1;39m)\u001b[0m\u001b[1m>\u001b[0m\n"
      ]
     },
     "metadata": {},
     "output_type": "display_data"
    }
   ],
   "source": [
    "pu.LoggerBuilder().on_console().build()"
   ]
  },
  {
   "cell_type": "markdown",
   "id": "7482cd3f-25df-4de1-9f09-01c630019019",
   "metadata": {},
   "source": [
    "Por defecto usamos GPU. De no existir este hardware, el fallback es CPU:"
   ]
  },
  {
   "cell_type": "code",
   "execution_count": 4,
   "id": "d1ba7b0b-b5d8-47ec-8995-642b7b21e6d2",
   "metadata": {},
   "outputs": [
    {
     "data": {
      "text/html": [
       "<pre style=\"white-space:pre;overflow-x:auto;line-height:normal;font-family:Menlo,'DejaVu Sans Mono',consolas,'Courier New',monospace\"><span style=\"color: #00ff00; text-decoration-color: #00ff00; font-style: italic\">True</span>\n",
       "</pre>\n"
      ],
      "text/plain": [
       "\u001b[3;92mTrue\u001b[0m\n"
      ]
     },
     "metadata": {},
     "output_type": "display_data"
    }
   ],
   "source": [
    "torch.cuda.is_available()"
   ]
  },
  {
   "cell_type": "code",
   "execution_count": 5,
   "id": "21fa4041-5682-4332-b139-6aca63d05ea0",
   "metadata": {},
   "outputs": [
    {
     "data": {
      "text/html": [
       "<pre style=\"white-space:pre;overflow-x:auto;line-height:normal;font-family:Menlo,'DejaVu Sans Mono',consolas,'Courier New',monospace\"><span style=\"color: #008000; text-decoration-color: #008000\">'1.12.1+cu116'</span>\n",
       "</pre>\n"
      ],
      "text/plain": [
       "\u001b[32m'1.12.1+cu116'\u001b[0m\n"
      ]
     },
     "metadata": {},
     "output_type": "display_data"
    }
   ],
   "source": [
    "torch.__version__"
   ]
  },
  {
   "cell_type": "code",
   "execution_count": 6,
   "id": "f96b8a74-f2d1-4137-9991-b5dbd9d21b0b",
   "metadata": {},
   "outputs": [
    {
     "name": "stderr",
     "output_type": "stream",
     "text": [
      "2022-10-05 20:07:56,474 - INFO - cuda:0\n"
     ]
    }
   ],
   "source": [
    "pu.set_device_name('gpu')\n",
    "\n",
    "logging.info(pu.get_device())"
   ]
  },
  {
   "cell_type": "code",
   "execution_count": 7,
   "id": "5729b694-b723-4ac9-aebf-11d21a78ac94",
   "metadata": {},
   "outputs": [
    {
     "data": {
      "text/html": [
       "<pre style=\"white-space:pre;overflow-x:auto;line-height:normal;font-family:Menlo,'DejaVu Sans Mono',consolas,'Courier New',monospace\"><span style=\"font-weight: bold\">[</span><span style=\"color: #008000; text-decoration-color: #008000\">'sm_37'</span>, <span style=\"color: #008000; text-decoration-color: #008000\">'sm_50'</span>, <span style=\"color: #008000; text-decoration-color: #008000\">'sm_60'</span>, <span style=\"color: #008000; text-decoration-color: #008000\">'sm_70'</span>, <span style=\"color: #008000; text-decoration-color: #008000\">'sm_75'</span>, <span style=\"color: #008000; text-decoration-color: #008000\">'sm_80'</span>, <span style=\"color: #008000; text-decoration-color: #008000\">'sm_86'</span><span style=\"font-weight: bold\">]</span>\n",
       "</pre>\n"
      ],
      "text/plain": [
       "\u001b[1m[\u001b[0m\u001b[32m'sm_37'\u001b[0m, \u001b[32m'sm_50'\u001b[0m, \u001b[32m'sm_60'\u001b[0m, \u001b[32m'sm_70'\u001b[0m, \u001b[32m'sm_75'\u001b[0m, \u001b[32m'sm_80'\u001b[0m, \u001b[32m'sm_86'\u001b[0m\u001b[1m]\u001b[0m\n"
      ]
     },
     "metadata": {},
     "output_type": "display_data"
    }
   ],
   "source": [
    "torch.cuda.get_arch_list()"
   ]
  },
  {
   "cell_type": "markdown",
   "id": "ca7f0583-03ea-4d12-abf8-d91fa8b4249d",
   "metadata": {},
   "source": [
    "## Funciones Helper"
   ]
  },
  {
   "cell_type": "code",
   "execution_count": 8,
   "id": "b5fb890c-e080-4efc-9fc1-08921ae2465f",
   "metadata": {},
   "outputs": [],
   "source": [
    "label_by_class = lambda df: {row['branch_seq']: row['branch'] for _, row in df[['branch_seq', 'branch']].drop_duplicates().iterrows() }"
   ]
  },
  {
   "cell_type": "markdown",
   "id": "9d4ed79e-a213-40cf-ac76-79acb1ee6696",
   "metadata": {},
   "source": [
    "## Parametros"
   ]
  },
  {
   "cell_type": "markdown",
   "id": "32d6629b-25a6-4d17-8294-8c7a64e70bdb",
   "metadata": {},
   "source": [
    "Fijamos la semilla para todas las librerias:"
   ]
  },
  {
   "cell_type": "code",
   "execution_count": 9,
   "id": "72f9d948-5300-4141-8fbc-4423669b2c58",
   "metadata": {},
   "outputs": [],
   "source": [
    "ut.set_seed(42)"
   ]
  },
  {
   "cell_type": "markdown",
   "id": "26bc9d5e-b719-4b3d-b294-d2cf4e09b4f8",
   "metadata": {},
   "source": [
    "Definimos el modelo preentrenado a utilizar. Este es una capa/module mas de nuestro modelo."
   ]
  },
  {
   "cell_type": "code",
   "execution_count": 10,
   "id": "6e7c3e27-2f3b-4190-96b6-8588d5c16335",
   "metadata": {},
   "outputs": [],
   "source": [
    "# MODEL_NAME ='bert-base-cased'\n",
    "MODEL_NAME ='bert-base-uncased'\n",
    "# MODEL_NAME = 'bert-large-uncased'\n",
    "# MODEL_NAME ='distilbert-base-uncased'"
   ]
  },
  {
   "cell_type": "markdown",
   "id": "bb49a0c0-d3f7-4a28-8a45-07e5413614da",
   "metadata": {},
   "source": [
    "Definimos los paths del dataset y pesos del modelo:"
   ]
  },
  {
   "cell_type": "code",
   "execution_count": 11,
   "id": "d2af7ab1-a7b4-4efa-9422-3077db231f90",
   "metadata": {},
   "outputs": [],
   "source": [
    "DATASET_PATH       = '../../datasets/fashion-outfits'\n",
    "IMAGES_PATH        = '../../datasets/fashion-outfits/images'\n",
    "WEIGHTS_PATH       = '../../weights'\n",
    "CACHE_PATH         = '../../cache'\n",
    "MODEL_WEIGHTS_PATH = f'{WEIGHTS_PATH}/{MODEL_NAME}.h5'"
   ]
  },
  {
   "cell_type": "code",
   "execution_count": 12,
   "id": "8e3ce88a-ec7a-4257-9440-5a1f2faf3ca4",
   "metadata": {},
   "outputs": [],
   "source": [
    "TRAIN = False"
   ]
  },
  {
   "cell_type": "code",
   "execution_count": 13,
   "id": "d6b685d5-9a4e-4590-957a-e468c03e2f1f",
   "metadata": {},
   "outputs": [],
   "source": [
    "!mkdir -p {WEIGHTS_PATH}"
   ]
  },
  {
   "cell_type": "markdown",
   "id": "0c9e4629-8696-4871-9fba-7fb7c95d95ef",
   "metadata": {},
   "source": [
    "## Cargar dataset"
   ]
  },
  {
   "cell_type": "code",
   "execution_count": 14,
   "id": "6481b324-b143-43bf-aa71-5edc12982bcc",
   "metadata": {},
   "outputs": [],
   "source": [
    "train_set, val_set, test_set = load_datasets(DATASET_PATH)"
   ]
  },
  {
   "cell_type": "markdown",
   "id": "be10e8b1-377b-4ac9-8f95-1332fc830d83",
   "metadata": {},
   "source": [
    "Tamaño máximo de la secuencia de entrada:"
   ]
  },
  {
   "cell_type": "code",
   "execution_count": 15,
   "id": "a369af2b-b1ec-47fb-9360-16cce34e790b",
   "metadata": {},
   "outputs": [
    {
     "data": {
      "text/html": [
       "<pre style=\"white-space:pre;overflow-x:auto;line-height:normal;font-family:Menlo,'DejaVu Sans Mono',consolas,'Courier New',monospace\"><span style=\"color: #008080; text-decoration-color: #008080; font-weight: bold\">140</span>\n",
       "</pre>\n"
      ],
      "text/plain": [
       "\u001b[1;36m140\u001b[0m\n"
      ]
     },
     "metadata": {},
     "output_type": "display_data"
    }
   ],
   "source": [
    "tokens_count = 2 + train_set['tokens_count'].max()\n",
    "tokens_count"
   ]
  },
  {
   "cell_type": "markdown",
   "id": "1b42d28f-69a5-41b8-aca9-5be3bc26237d",
   "metadata": {},
   "source": [
    "Definimos el tokenizer y los dataset para tran, validation y test:"
   ]
  },
  {
   "cell_type": "code",
   "execution_count": 16,
   "id": "21f35909-cf0e-4369-a3b6-0e9e2355561d",
   "metadata": {},
   "outputs": [],
   "source": [
    "tokenizer = ml.Tokenizer(\n",
    "    tokenizer  = transformers.BertTokenizer.from_pretrained(MODEL_NAME), \n",
    "    padding    = 'max_length',\n",
    "    max_length = tokens_count\n",
    ")"
   ]
  },
  {
   "cell_type": "code",
   "execution_count": 17,
   "id": "695c5922-4b8b-45eb-be1b-507c72a50bc1",
   "metadata": {},
   "outputs": [],
   "source": [
    "train_dataset = dt.Dataset(train_set, feature_col = 'features', target_col = 'branch_seq', tokenizer = tokenizer)\n",
    "val_dataset   = dt.Dataset(val_set,   feature_col = 'features', target_col = 'branch_seq', tokenizer = tokenizer)\n",
    "test_dataset  = dt.Dataset(test_set,  feature_col = 'features', target_col = 'branch_seq', tokenizer = tokenizer)"
   ]
  },
  {
   "cell_type": "markdown",
   "id": "40c36ef0-8933-45f4-b358-074222b5511e",
   "metadata": {},
   "source": [
    "## Preparando el modelo"
   ]
  },
  {
   "cell_type": "markdown",
   "id": "77408547-2400-43c0-911c-dd474feea294",
   "metadata": {},
   "source": [
    "Cantidad de clases a predecir:"
   ]
  },
  {
   "cell_type": "code",
   "execution_count": 18,
   "id": "08863948-afe6-4d63-bad4-b20a82a423df",
   "metadata": {},
   "outputs": [
    {
     "data": {
      "text/html": [
       "<pre style=\"white-space:pre;overflow-x:auto;line-height:normal;font-family:Menlo,'DejaVu Sans Mono',consolas,'Courier New',monospace\"><span style=\"color: #008080; text-decoration-color: #008080; font-weight: bold\">107</span>\n",
       "</pre>\n"
      ],
      "text/plain": [
       "\u001b[1;36m107\u001b[0m\n"
      ]
     },
     "metadata": {},
     "output_type": "display_data"
    }
   ],
   "source": [
    "len(train_set['branch_seq'].unique())"
   ]
  },
  {
   "cell_type": "code",
   "execution_count": 19,
   "id": "0f257b37-2208-4e03-8ffd-fef177230e16",
   "metadata": {},
   "outputs": [
    {
     "data": {
      "text/html": [
       "<pre style=\"white-space:pre;overflow-x:auto;line-height:normal;font-family:Menlo,'DejaVu Sans Mono',consolas,'Courier New',monospace\"><span style=\"color: #008080; text-decoration-color: #008080; font-weight: bold\">107</span>\n",
       "</pre>\n"
      ],
      "text/plain": [
       "\u001b[1;36m107\u001b[0m\n"
      ]
     },
     "metadata": {},
     "output_type": "display_data"
    }
   ],
   "source": [
    "n_classes = train_set['branch_seq'].max() + 1\n",
    "n_classes"
   ]
  },
  {
   "cell_type": "code",
   "execution_count": 20,
   "id": "e5d92c27-55a5-4331-af7b-04a1cf5a964c",
   "metadata": {},
   "outputs": [],
   "source": [
    "classifier = ml.Classifier(\n",
    "    transformer     = transformers.BertModel.from_pretrained(\n",
    "        MODEL_NAME, \n",
    "        use_cache = True, \n",
    "        cache_dir = CACHE_PATH\n",
    "    ),\n",
    "    output_dim      = n_classes,\n",
    "    dropout         = 0,\n",
    "    hiden_state_dim = 768\n",
    ")"
   ]
  },
  {
   "cell_type": "markdown",
   "id": "687475f3-bdea-47f9-9c29-4e193a03e10d",
   "metadata": {},
   "source": [
    "## Entrenamiento"
   ]
  },
  {
   "cell_type": "code",
   "execution_count": 21,
   "id": "569c3ed4-38a9-42a7-b4be-de7097101e69",
   "metadata": {},
   "outputs": [],
   "source": [
    "model = ml.ModelTrainer(classifier, batch_size = 50, criterion = nn.CrossEntropyLoss())"
   ]
  },
  {
   "cell_type": "code",
   "execution_count": 22,
   "id": "e913f070-d85c-43f5-8c2b-979da1c53028",
   "metadata": {},
   "outputs": [],
   "source": [
    "LR     = 0.00001\n",
    "EPOCHS = 6\n",
    "\n",
    "if TRAIN:\n",
    "    model.fit(\n",
    "        train_dataset, \n",
    "        val_dataset = val_dataset,\n",
    "        optimizer   = Adam(classifier.parameters(), lr = LR),\n",
    "        epochs      = EPOCHS\n",
    "    )"
   ]
  },
  {
   "cell_type": "code",
   "execution_count": 23,
   "id": "198900ca-913a-4405-9634-97aafbc7c0de",
   "metadata": {},
   "outputs": [],
   "source": [
    "if TRAIN:\n",
    "    classifier.save(MODEL_WEIGHTS_PATH)"
   ]
  },
  {
   "cell_type": "markdown",
   "id": "4c90e480-fc25-4a06-95a7-131d8a816a8a",
   "metadata": {},
   "source": [
    "## Evaluación"
   ]
  },
  {
   "cell_type": "code",
   "execution_count": 24,
   "id": "7f4aab2c-a0b2-497c-a905-4e81e7e40cc9",
   "metadata": {},
   "outputs": [],
   "source": [
    "classifier.load(MODEL_WEIGHTS_PATH)"
   ]
  },
  {
   "cell_type": "code",
   "execution_count": 25,
   "id": "d59e213f-f799-4cc2-9653-df2f07c5fdec",
   "metadata": {},
   "outputs": [
    {
     "ename": "KeyboardInterrupt",
     "evalue": "",
     "output_type": "error",
     "traceback": [
      "\u001b[0;31m---------------------------------------------------------------------------\u001b[0m",
      "\u001b[0;31mKeyboardInterrupt\u001b[0m                         Traceback (most recent call last)",
      "Input \u001b[0;32mIn [25]\u001b[0m, in \u001b[0;36m<cell line: 1>\u001b[0;34m()\u001b[0m\n\u001b[0;32m----> 1\u001b[0m summary \u001b[38;5;241m=\u001b[39m \u001b[43mmodel\u001b[49m\u001b[38;5;241;43m.\u001b[39;49m\u001b[43mvalidate\u001b[49m\u001b[43m(\u001b[49m\u001b[43mtest_dataset\u001b[49m\u001b[43m)\u001b[49m\n\u001b[1;32m      2\u001b[0m summary\u001b[38;5;241m.\u001b[39mshow()\n",
      "File \u001b[0;32m~/development/personal/maestria/text-minning/notebooks/fashion-outfits/../../src/model/model_trainer.py:107\u001b[0m, in \u001b[0;36mModelTrainer.validate\u001b[0;34m(self, dataset)\u001b[0m\n\u001b[1;32m    104\u001b[0m input_id, mask \u001b[38;5;241m=\u001b[39m \u001b[38;5;28mself\u001b[39m\u001b[38;5;241m.\u001b[39m__get_input(features)\n\u001b[1;32m    106\u001b[0m output \u001b[38;5;241m=\u001b[39m \u001b[38;5;28mself\u001b[39m\u001b[38;5;241m.\u001b[39mclassifier(input_id, mask)\n\u001b[0;32m--> 107\u001b[0m predictions\u001b[38;5;241m.\u001b[39mappend(\u001b[43moutput\u001b[49m\u001b[38;5;241;43m.\u001b[39;49m\u001b[43margmax\u001b[49m\u001b[43m(\u001b[49m\u001b[43mdim\u001b[49m\u001b[38;5;241;43m=\u001b[39;49m\u001b[38;5;241;43m1\u001b[39;49m\u001b[43m)\u001b[49m\u001b[38;5;241;43m.\u001b[39;49m\u001b[43mcpu\u001b[49m\u001b[43m(\u001b[49m\u001b[43m)\u001b[49m\u001b[38;5;241m.\u001b[39mnumpy())\n\u001b[1;32m    109\u001b[0m \u001b[38;5;66;03m# compute loss and accuracy\u001b[39;00m\n\u001b[1;32m    110\u001b[0m loss_sum \u001b[38;5;241m+\u001b[39m\u001b[38;5;241m=\u001b[39m \u001b[38;5;28mself\u001b[39m\u001b[38;5;241m.\u001b[39mcriterion(output, target\u001b[38;5;241m.\u001b[39mlong())\u001b[38;5;241m.\u001b[39mitem()\n",
      "\u001b[0;31mKeyboardInterrupt\u001b[0m: "
     ]
    }
   ],
   "source": [
    "summary = model.validate(test_dataset)\n",
    "summary.show()"
   ]
  },
  {
   "cell_type": "code",
   "execution_count": null,
   "id": "6211e935-6246-4034-a677-3be364be69e6",
   "metadata": {},
   "outputs": [],
   "source": [
    "df = pd.DataFrame({\n",
    "    'predictions': np.concatenate(summary.predictions),\n",
    "    'target': np.concatenate(summary.targets)\n",
    "}).head()\n",
    "df.to_csv(f'{DATASET_PATH}/bert-pred-target.csv')"
   ]
  },
  {
   "cell_type": "code",
   "execution_count": null,
   "id": "0095508d-dd4a-449b-a15b-36d91e0c1333",
   "metadata": {},
   "outputs": [],
   "source": [
    "from sklearn.metrics import classification_report\n",
    "\n",
    "classification_report(\n",
    "    np.concatenate(summary.targets), \n",
    "    np.concatenate(summary.predictions),\n",
    "    output_dict=True\n",
    ")"
   ]
  },
  {
   "cell_type": "code",
   "execution_count": null,
   "id": "1542d437-2dfc-48bc-b5b1-c8f7cb413004",
   "metadata": {},
   "outputs": [],
   "source": [
    "np.array(summary.targets).shape"
   ]
  },
  {
   "cell_type": "code",
   "execution_count": null,
   "id": "75c8b31a-b03a-497f-a5f4-c0a03ad66a7e",
   "metadata": {},
   "outputs": [],
   "source": [
    "summary.plot_metrics(label_by_class = label_by_class(train_set))"
   ]
  },
  {
   "cell_type": "code",
   "execution_count": null,
   "id": "6423ad83-4c0b-4e52-81a9-1a66b3bc68ac",
   "metadata": {},
   "outputs": [],
   "source": [
    "report_generator = ml.FailReportGenerator(\n",
    "    tokenizer, \n",
    "    test_set, \n",
    "    test_dataset, \n",
    "    summary.targets, \n",
    "    summary.predictions,\n",
    "    IMAGES_PATH\n",
    ")\n",
    "\n",
    "report = report_generator()\n",
    "\n",
    "report.to_csv(f'{DATASET_PATH}/bet-model-fail-report.csv', index=False)"
   ]
  },
  {
   "cell_type": "markdown",
   "id": "49815c63-53d5-4201-b42f-2152ccd0031e",
   "metadata": {},
   "source": [
    "Ahora filtramos el reporte solo para aquellas clases que tiene un F1Score menor al 69%:"
   ]
  },
  {
   "cell_type": "code",
   "execution_count": null,
   "id": "66da5f66-c965-4166-aeb3-0c00f9ebf0dd",
   "metadata": {},
   "outputs": [],
   "source": [
    "worts_classes = [\n",
    "    'clothing~coats~oversized coats',\n",
    "    'clothing~coats~single breasted coats',\n",
    "    'clothing~dresses~cocktail & party dresses',\n",
    "    'clothing~dresses~day dresses',\n",
    "    'clothing~dresses~evening dresses',\n",
    "    'clothing~jackets~cropped jackets',\n",
    "    'clothing~jackets~fitted jackets',\n",
    "    'clothing~jackets~lightweight jackets',\n",
    "    'clothing~jackets~oversized jackets',\n",
    "    'clothing~jackets~sport jackets & windbreakers',\n",
    "    'clothing~knitwear~knitted skirts',\n",
    "    'clothing~shorts~knee-length shorts',\n",
    "    'clothing~shorts~tailored shorts',\n",
    "    'clothing~skirts~asymmetric & draped skirts',\n",
    "    'clothing~skirts~fitted skirts',\n",
    "    'clothing~skirts~full skirts',\n",
    "    'clothing~skirts~high-waisted skirts',\n",
    "    'clothing~skirts~pencil skirts',\n",
    "    'clothing~skirts~straight skirts',\n",
    "    'clothing~trousers~flared trousers',\n",
    "    'clothing~trousers~high-waisted trousers',\n",
    "    'clothing~trousers~regular & straight-leg trousers',\n",
    "    'clothing~trousers~skinny trousers',\n",
    "    'clothing~trousers~slim-fit trousers',\n",
    "    'clothing~trousers~straight trousers'\n",
    "]\n",
    "\n",
    "report = report[report['true_class'].isin(worts_classes)].reset_index(drop=True)"
   ]
  },
  {
   "cell_type": "code",
   "execution_count": null,
   "id": "766d5f00-278b-45fe-a72a-9532ecf5e7d9",
   "metadata": {},
   "outputs": [],
   "source": [
    "report.shape, test_set.shape"
   ]
  },
  {
   "cell_type": "code",
   "execution_count": null,
   "id": "b984d5d0-d353-4fac-a4e5-4c5662446b05",
   "metadata": {},
   "outputs": [],
   "source": [
    "ut.display_html(report.sample(frac=1).head(5))"
   ]
  },
  {
   "cell_type": "code",
   "execution_count": null,
   "id": "e6eeb3a5-8089-4ebc-8525-46e7f86a15b0",
   "metadata": {},
   "outputs": [],
   "source": [
    "branch_by_seq = {r['branch_seq']: r['branch'] for _, r in train_set[['branch_seq', 'branch']].drop_duplicates().iterrows()}\n",
    "\n",
    "branch_predictions = [branch_by_seq[e] for e in np.concatenate(summary.predictions)]\n",
    "branch_targets     = [branch_by_seq[e] for e in np.concatenate(summary.targets)]\n",
    "\n",
    "family_predictions = [e.split('~')[0] for e in branch_predictions]\n",
    "family_targets     = [e.split('~')[0] for e in branch_targets]\n",
    "\n",
    "category_predictions = [e.split('~')[1] for e in branch_predictions]\n",
    "category_targets     = [e.split('~')[1] for e in branch_targets]\n",
    "\n",
    "subcategory_predictions = [e.split('~')[2] for e in branch_predictions]\n",
    "subcategory_targets     = [e.split('~')[2] for e in branch_targets]"
   ]
  },
  {
   "cell_type": "code",
   "execution_count": null,
   "id": "a9960b47-d96e-490c-8d82-5ed410300dfa",
   "metadata": {},
   "outputs": [],
   "source": [
    "ml.plot_metrics(family_targets, family_predictions, figuresize=(4, 4))"
   ]
  },
  {
   "cell_type": "code",
   "execution_count": null,
   "id": "c97b7258-64ad-49e7-a033-4e8f5f68f377",
   "metadata": {},
   "outputs": [],
   "source": [
    "ml.plot_metrics(category_targets, category_predictions, figuresize=(15, 15))"
   ]
  },
  {
   "cell_type": "code",
   "execution_count": null,
   "id": "9a99a946-f36c-47a9-b11d-e629b065ee55",
   "metadata": {},
   "outputs": [],
   "source": [
    "ml.plot_metrics(subcategory_targets, subcategory_predictions, figuresize=(24, 24))"
   ]
  }
 ],
 "metadata": {
  "kernelspec": {
   "display_name": "Python 3 (ipykernel)",
   "language": "python",
   "name": "python3"
  },
  "language_info": {
   "codemirror_mode": {
    "name": "ipython",
    "version": 3
   },
   "file_extension": ".py",
   "mimetype": "text/x-python",
   "name": "python",
   "nbconvert_exporter": "python",
   "pygments_lexer": "ipython3",
   "version": "3.10.4"
  },
  "widgets": {
   "application/vnd.jupyter.widget-state+json": {
    "state": {},
    "version_major": 2,
    "version_minor": 0
   }
  }
 },
 "nbformat": 4,
 "nbformat_minor": 5
}
