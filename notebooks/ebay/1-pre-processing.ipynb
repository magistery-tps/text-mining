{
 "cells": [
  {
   "cell_type": "markdown",
   "id": "2c2fa9de-e16e-495e-93d1-6eb5f84f74df",
   "metadata": {},
   "source": [
    "# 1. Pre-Procesamiento"
   ]
  },
  {
   "cell_type": "code",
   "execution_count": 22,
   "id": "8dde5e70-5b86-460f-8791-20fcb554c378",
   "metadata": {},
   "outputs": [
    {
     "name": "stdout",
     "output_type": "stream",
     "text": [
      "The autoreload extension is already loaded. To reload it, use:\n",
      "  %reload_ext autoreload\n"
     ]
    }
   ],
   "source": [
    "%load_ext autoreload\n",
    "%autoreload 2"
   ]
  },
  {
   "cell_type": "code",
   "execution_count": 23,
   "id": "f98e7bf4-f41a-43f6-b7b7-a991d00f82de",
   "metadata": {
    "tags": []
   },
   "outputs": [],
   "source": [
    "import sys\n",
    "sys.path.append('../../src')\n",
    "\n",
    "from matplotlib import pyplot as plt\n",
    "import seaborn as sns\n",
    "\n",
    "import numpy  as np\n",
    "import pandas as pd\n",
    "import torch\n",
    "import logging\n",
    "import random\n",
    "\n",
    "import data  as dt\n",
    "import model as ml\n",
    "import util  as ut\n",
    "import pytorch_common.util as pu\n",
    "\n",
    "from sklearn.model_selection import train_test_split"
   ]
  },
  {
   "cell_type": "markdown",
   "id": "40c1da33-a8da-47c9-b174-0b0885b05b50",
   "metadata": {},
   "source": [
    "## Setup"
   ]
  },
  {
   "cell_type": "markdown",
   "id": "c11e6bf7-b45e-4a49-985e-e0ef2780a1bc",
   "metadata": {},
   "source": [
    "Se configura el default logger para que la consola sea el output y loguee mensajes a partir del nivel INFO."
   ]
  },
  {
   "cell_type": "code",
   "execution_count": 24,
   "id": "f7ba9eb4-2b32-4152-9453-fac1d3737ee2",
   "metadata": {},
   "outputs": [
    {
     "data": {
      "text/html": [
       "<pre style=\"white-space:pre;overflow-x:auto;line-height:normal;font-family:Menlo,'DejaVu Sans Mono',consolas,'Courier New',monospace\"><span style=\"font-weight: bold\">&lt;</span><span style=\"color: #ff00ff; text-decoration-color: #ff00ff; font-weight: bold\">RootLogger</span><span style=\"color: #000000; text-decoration-color: #000000\"> root </span><span style=\"color: #000000; text-decoration-color: #000000; font-weight: bold\">(</span><span style=\"color: #000000; text-decoration-color: #000000\">INFO</span><span style=\"color: #000000; text-decoration-color: #000000; font-weight: bold\">)</span><span style=\"font-weight: bold\">&gt;</span>\n",
       "</pre>\n"
      ],
      "text/plain": [
       "\u001b[1m<\u001b[0m\u001b[1;95mRootLogger\u001b[0m\u001b[39m root \u001b[0m\u001b[1;39m(\u001b[0m\u001b[39mINFO\u001b[0m\u001b[1;39m)\u001b[0m\u001b[1m>\u001b[0m\n"
      ]
     },
     "metadata": {},
     "output_type": "display_data"
    }
   ],
   "source": [
    "pu.LoggerBuilder().on_console().build()"
   ]
  },
  {
   "cell_type": "markdown",
   "id": "d38adffb-0dad-43d2-8f29-348353d56189",
   "metadata": {},
   "source": [
    "Fijamos la semilla:"
   ]
  },
  {
   "cell_type": "code",
   "execution_count": 25,
   "id": "72f9d948-5300-4141-8fbc-4423669b2c58",
   "metadata": {},
   "outputs": [],
   "source": [
    "ut.set_seed(42)"
   ]
  },
  {
   "cell_type": "markdown",
   "id": "3360c54d-8fde-4207-9644-61df5b1c6651",
   "metadata": {},
   "source": [
    "Parametros de la notebook:"
   ]
  },
  {
   "cell_type": "code",
   "execution_count": 26,
   "id": "d2af7ab1-a7b4-4efa-9422-3077db231f90",
   "metadata": {},
   "outputs": [],
   "source": [
    "DATASET_PATH = '../../datasets/ebay'\n",
    "\n",
    "!mkdir -p {DATASET_PATH}"
   ]
  },
  {
   "cell_type": "code",
   "execution_count": 27,
   "id": "a7a1afff-afcd-455a-9156-acdc79d4f757",
   "metadata": {},
   "outputs": [],
   "source": [
    "# Se excluyen categorias con menos de 5 productos.\n",
    "MIN_PRODUCT_BY_CATEGORY = 5\n",
    "\n",
    "# Se excluyen prodcutos con un title de mas de 150 caracteres.\n",
    "MAX_TITLE_TOKENS  = 150"
   ]
  },
  {
   "cell_type": "markdown",
   "id": "45efbadd-9e39-4f2e-b080-96c0daf34634",
   "metadata": {},
   "source": [
    "### Funciones helper"
   ]
  },
  {
   "cell_type": "code",
   "execution_count": 108,
   "id": "6c7ff853-4e0c-439e-8316-2f0d58643b3b",
   "metadata": {},
   "outputs": [],
   "source": [
    "def plot_categories(groups, figsize=(10,5)):\n",
    "    sns.set_theme(style=\"whitegrid\")\n",
    "    sns.set(rc={\"figure.figsize\":figsize})\n",
    "        \n",
    "    ax = sns.barplot(x='category', y='count', data=groups)\n",
    "    ax.set(xlabel='')\n",
    "    ax.set(xticklabels=[])\n",
    "    plt.show()\n",
    "    \n",
    "def plot_title(df, column, title, figsize=(8,4)):\n",
    "    sns.set_theme(style=\"whitegrid\")\n",
    "    sns.set(rc={\"figure.figsize\":figsize})\n",
    "    \n",
    "    df = df.sort_values([column], ascending=False)\n",
    "    ax = sns.barplot(x=column, y='title', data=df)\n",
    "    \n",
    "    ax.set(yticklabels=[])\n",
    "    dt.plot_defaults(ylabel=None, title='')"
   ]
  },
  {
   "cell_type": "markdown",
   "id": "0c9e4629-8696-4871-9fba-7fb7c95d95ef",
   "metadata": {},
   "source": [
    "## Procedimiento"
   ]
  },
  {
   "cell_type": "markdown",
   "id": "3aef0ffb-55f0-4544-a20f-49e503a47965",
   "metadata": {},
   "source": [
    "**Step 1**: Cargamos el dataset."
   ]
  },
  {
   "cell_type": "code",
   "execution_count": 87,
   "id": "dac9c7d4-ac86-4da3-9d89-a0e36fa1afea",
   "metadata": {},
   "outputs": [],
   "source": [
    "raw_dataset = pd.read_csv(f'{DATASET_PATH}/dataset.csv')"
   ]
  },
  {
   "cell_type": "markdown",
   "id": "e5f8d727-a840-4639-9de9-b0aa276531d8",
   "metadata": {},
   "source": [
    "**Step 2**: Renombramos las columnas a title y category."
   ]
  },
  {
   "cell_type": "code",
   "execution_count": 88,
   "id": "fe3a74a4-b1e0-4998-83e5-857863d85279",
   "metadata": {},
   "outputs": [
    {
     "data": {
      "text/html": [
       "<div>\n",
       "<style scoped>\n",
       "    .dataframe tbody tr th:only-of-type {\n",
       "        vertical-align: middle;\n",
       "    }\n",
       "\n",
       "    .dataframe tbody tr th {\n",
       "        vertical-align: top;\n",
       "    }\n",
       "\n",
       "    .dataframe thead th {\n",
       "        text-align: right;\n",
       "    }\n",
       "</style>\n",
       "<table border=\"1\" class=\"dataframe\">\n",
       "  <thead>\n",
       "    <tr style=\"text-align: right;\">\n",
       "      <th></th>\n",
       "      <th>title</th>\n",
       "      <th>category</th>\n",
       "    </tr>\n",
       "  </thead>\n",
       "  <tbody>\n",
       "    <tr>\n",
       "      <th>0</th>\n",
       "      <td>2x Ultra-thin LCD Digital Display Vehicle Car ...</td>\n",
       "      <td>eBay ~ Home, Furniture &amp; DIY ~ Clocks ~ Alarm ...</td>\n",
       "    </tr>\n",
       "    <tr>\n",
       "      <th>1</th>\n",
       "      <td>MERCEDES VANEO 414 1.6 Pollen / Cabin Filter 0...</td>\n",
       "      <td>eBay ~ Vehicle Parts &amp; Accessories ~ Car Parts...</td>\n",
       "    </tr>\n",
       "    <tr>\n",
       "      <th>2</th>\n",
       "      <td>Windscreen Kappa Transparent 58x45cm for April...</td>\n",
       "      <td>eBay ~ Vehicle Parts &amp; Accessories ~ Motorcycl...</td>\n",
       "    </tr>\n",
       "    <tr>\n",
       "      <th>3</th>\n",
       "      <td>HP LaserJet Enterprise M552DN Colour 1200 X 12...</td>\n",
       "      <td>eBay ~ Computers/Tablets &amp; Networking ~ Printe...</td>\n",
       "    </tr>\n",
       "    <tr>\n",
       "      <th>4</th>\n",
       "      <td>Honda RS 250 R 1991-1994 DP Brakes Street Sint...</td>\n",
       "      <td>eBay ~ Vehicle Parts &amp; Accessories ~ Motorcycl...</td>\n",
       "    </tr>\n",
       "  </tbody>\n",
       "</table>\n",
       "</div>"
      ]
     },
     "execution_count": 88,
     "metadata": {},
     "output_type": "execute_result"
    }
   ],
   "source": [
    "raw_dataset = raw_dataset[['name', 'breadcrumbs']]\n",
    "raw_dataset = raw_dataset.rename(columns={'name':'title', 'breadcrumbs': 'category'})\n",
    "raw_dataset.head()"
   ]
  },
  {
   "cell_type": "code",
   "execution_count": 89,
   "id": "3af187e8-f3d9-4657-a7fc-68f77e7d4dec",
   "metadata": {},
   "outputs": [
    {
     "data": {
      "text/html": [
       "<pre style=\"white-space:pre;overflow-x:auto;line-height:normal;font-family:Menlo,'DejaVu Sans Mono',consolas,'Courier New',monospace\"><span style=\"font-weight: bold\">(</span><span style=\"color: #008080; text-decoration-color: #008080; font-weight: bold\">3003</span>, <span style=\"color: #008080; text-decoration-color: #008080; font-weight: bold\">2</span><span style=\"font-weight: bold\">)</span>\n",
       "</pre>\n"
      ],
      "text/plain": [
       "\u001b[1m(\u001b[0m\u001b[1;36m3003\u001b[0m, \u001b[1;36m2\u001b[0m\u001b[1m)\u001b[0m\n"
      ]
     },
     "metadata": {},
     "output_type": "display_data"
    }
   ],
   "source": [
    "raw_dataset.shape"
   ]
  },
  {
   "cell_type": "markdown",
   "id": "015c4515-5f25-4339-a131-4209def94503",
   "metadata": {},
   "source": [
    "**Step 3**: Nos quedamos con las categorias que tienen como mínimo MIN_PRODUCT_BY_CATEGORY."
   ]
  },
  {
   "cell_type": "code",
   "execution_count": 90,
   "id": "d1861061-2fa9-44d9-b3ea-6b9b620e39b6",
   "metadata": {},
   "outputs": [
    {
     "data": {
      "text/html": [
       "<div>\n",
       "<style scoped>\n",
       "    .dataframe tbody tr th:only-of-type {\n",
       "        vertical-align: middle;\n",
       "    }\n",
       "\n",
       "    .dataframe tbody tr th {\n",
       "        vertical-align: top;\n",
       "    }\n",
       "\n",
       "    .dataframe thead th {\n",
       "        text-align: right;\n",
       "    }\n",
       "</style>\n",
       "<table border=\"1\" class=\"dataframe\">\n",
       "  <thead>\n",
       "    <tr style=\"text-align: right;\">\n",
       "      <th></th>\n",
       "      <th>category</th>\n",
       "      <th>count</th>\n",
       "    </tr>\n",
       "  </thead>\n",
       "  <tbody>\n",
       "    <tr>\n",
       "      <th>692</th>\n",
       "      <td>eBay ~ Vehicle Parts &amp; Accessories ~ Car Parts...</td>\n",
       "      <td>5</td>\n",
       "    </tr>\n",
       "    <tr>\n",
       "      <th>817</th>\n",
       "      <td>eBay ~ Vehicle Parts &amp; Accessories ~ Motorcycl...</td>\n",
       "      <td>5</td>\n",
       "    </tr>\n",
       "    <tr>\n",
       "      <th>773</th>\n",
       "      <td>eBay ~ Vehicle Parts &amp; Accessories ~ Motorcycl...</td>\n",
       "      <td>5</td>\n",
       "    </tr>\n",
       "    <tr>\n",
       "      <th>820</th>\n",
       "      <td>eBay ~ Vehicle Parts &amp; Accessories ~ Motorcycl...</td>\n",
       "      <td>5</td>\n",
       "    </tr>\n",
       "    <tr>\n",
       "      <th>631</th>\n",
       "      <td>eBay ~ Vehicle Parts &amp; Accessories ~ Car Parts...</td>\n",
       "      <td>5</td>\n",
       "    </tr>\n",
       "  </tbody>\n",
       "</table>\n",
       "</div>"
      ]
     },
     "execution_count": 90,
     "metadata": {},
     "output_type": "execute_result"
    }
   ],
   "source": [
    "groups = ut.group_by_count(raw_dataset, ['category'], 'title')\n",
    "groups = groups[groups['count'] >= MIN_PRODUCT_BY_CATEGORY ]\n",
    "groups.tail()"
   ]
  },
  {
   "cell_type": "code",
   "execution_count": 91,
   "id": "b96ad6d4-c21c-45bf-a9f3-81fd9dd71250",
   "metadata": {},
   "outputs": [
    {
     "data": {
      "text/html": [
       "<pre style=\"white-space:pre;overflow-x:auto;line-height:normal;font-family:Menlo,'DejaVu Sans Mono',consolas,'Courier New',monospace\"><span style=\"font-weight: bold\">(</span><span style=\"color: #008080; text-decoration-color: #008080; font-weight: bold\">122</span>, <span style=\"color: #008080; text-decoration-color: #008080; font-weight: bold\">2</span><span style=\"font-weight: bold\">)</span>\n",
       "</pre>\n"
      ],
      "text/plain": [
       "\u001b[1m(\u001b[0m\u001b[1;36m122\u001b[0m, \u001b[1;36m2\u001b[0m\u001b[1m)\u001b[0m\n"
      ]
     },
     "metadata": {},
     "output_type": "display_data"
    }
   ],
   "source": [
    "groups.shape"
   ]
  },
  {
   "cell_type": "code",
   "execution_count": 92,
   "id": "e9250ba9-555d-4a15-ad11-563e186153db",
   "metadata": {},
   "outputs": [],
   "source": [
    "categories = list(set(ut.flatten(raw_dataset['category'].apply(lambda x: x.split('~')).values)))"
   ]
  },
  {
   "cell_type": "code",
   "execution_count": 93,
   "id": "9578492d-abad-405f-bfe0-5dbefd1b93fc",
   "metadata": {},
   "outputs": [
    {
     "data": {
      "text/html": [
       "<pre style=\"white-space:pre;overflow-x:auto;line-height:normal;font-family:Menlo,'DejaVu Sans Mono',consolas,'Courier New',monospace\"><span style=\"color: #008080; text-decoration-color: #008080; font-weight: bold\">1275</span>\n",
       "</pre>\n"
      ],
      "text/plain": [
       "\u001b[1;36m1275\u001b[0m\n"
      ]
     },
     "metadata": {},
     "output_type": "display_data"
    }
   ],
   "source": [
    "len(categories)"
   ]
  },
  {
   "cell_type": "code",
   "execution_count": 94,
   "id": "fcba75a0-e55f-4072-94bb-68e86c3534ad",
   "metadata": {},
   "outputs": [
    {
     "data": {
      "text/html": [
       "<div>\n",
       "<style scoped>\n",
       "    .dataframe tbody tr th:only-of-type {\n",
       "        vertical-align: middle;\n",
       "    }\n",
       "\n",
       "    .dataframe tbody tr th {\n",
       "        vertical-align: top;\n",
       "    }\n",
       "\n",
       "    .dataframe thead th {\n",
       "        text-align: right;\n",
       "    }\n",
       "</style>\n",
       "<table border=\"1\" class=\"dataframe\">\n",
       "  <thead>\n",
       "    <tr style=\"text-align: right;\">\n",
       "      <th></th>\n",
       "      <th>title</th>\n",
       "      <th>category</th>\n",
       "    </tr>\n",
       "  </thead>\n",
       "  <tbody>\n",
       "    <tr>\n",
       "      <th>1</th>\n",
       "      <td>MERCEDES VANEO 414 1.6 Pollen / Cabin Filter 0...</td>\n",
       "      <td>eBay ~ Vehicle Parts &amp; Accessories ~ Car Parts...</td>\n",
       "    </tr>\n",
       "    <tr>\n",
       "      <th>2</th>\n",
       "      <td>Windscreen Kappa Transparent 58x45cm for April...</td>\n",
       "      <td>eBay ~ Vehicle Parts &amp; Accessories ~ Motorcycl...</td>\n",
       "    </tr>\n",
       "    <tr>\n",
       "      <th>4</th>\n",
       "      <td>Honda RS 250 R 1991-1994 DP Brakes Street Sint...</td>\n",
       "      <td>eBay ~ Vehicle Parts &amp; Accessories ~ Motorcycl...</td>\n",
       "    </tr>\n",
       "    <tr>\n",
       "      <th>5</th>\n",
       "      <td>JMT X-ring 530x2 Gold 104 Open Chain With Rive...</td>\n",
       "      <td>eBay ~ Vehicle Parts &amp; Accessories ~ Motorcycl...</td>\n",
       "    </tr>\n",
       "    <tr>\n",
       "      <th>7</th>\n",
       "      <td>1x Summer Tyre Michelin Pilot Sport 4 255/40zr...</td>\n",
       "      <td>eBay ~ Vehicle Parts &amp; Accessories ~ Car Wheel...</td>\n",
       "    </tr>\n",
       "  </tbody>\n",
       "</table>\n",
       "</div>"
      ]
     },
     "execution_count": 94,
     "metadata": {},
     "output_type": "execute_result"
    }
   ],
   "source": [
    "filtered_dataset = raw_dataset[raw_dataset['category'].isin(groups['category'])]\n",
    "filtered_dataset.head()"
   ]
  },
  {
   "cell_type": "code",
   "execution_count": 95,
   "id": "9b834040-efb3-4557-b708-54642928527e",
   "metadata": {},
   "outputs": [
    {
     "data": {
      "text/html": [
       "<pre style=\"white-space:pre;overflow-x:auto;line-height:normal;font-family:Menlo,'DejaVu Sans Mono',consolas,'Courier New',monospace\">\n",
       "<span style=\"color: #800080; text-decoration-color: #800080; font-weight: bold\">array</span><span style=\"font-weight: bold\">([</span><span style=\"color: #008000; text-decoration-color: #008000\">'eBay ~ Vehicle Parts &amp; Accessories ~ Car Parts ~ Air Conditioning &amp; Heating ~ Pollen Filters'</span>,\n",
       "       <span style=\"color: #008000; text-decoration-color: #008000\">'eBay ~ Vehicle Parts &amp; Accessories ~ Motorcycle Parts ~ Bodywork &amp; Frame ~ Windscreens'</span>,\n",
       "       <span style=\"color: #008000; text-decoration-color: #008000\">'eBay ~ Vehicle Parts &amp; Accessories ~ Motorcycle Parts ~ Brakes &amp; Brake Parts ~ Brake Pads'</span>,\n",
       "       <span style=\"color: #008000; text-decoration-color: #008000\">'eBay ~ Vehicle Parts &amp; Accessories ~ Motorcycle Parts ~ Drivetrain &amp; Transmission ~ Chains &amp; Sprockets'</span>,\n",
       "       <span style=\"color: #008000; text-decoration-color: #008000\">'eBay ~ Vehicle Parts &amp; Accessories ~ Car Wheels, Tyres &amp; Trims ~ Tyres'</span><span style=\"font-weight: bold\">]</span>,\n",
       "      <span style=\"color: #808000; text-decoration-color: #808000\">dtype</span>=<span style=\"color: #800080; text-decoration-color: #800080\">object</span><span style=\"font-weight: bold\">)</span>\n",
       "</pre>\n"
      ],
      "text/plain": [
       "\n",
       "\u001b[1;35marray\u001b[0m\u001b[1m(\u001b[0m\u001b[1m[\u001b[0m\u001b[32m'eBay ~ Vehicle Parts & Accessories ~ Car Parts ~ Air Conditioning & Heating ~ Pollen Filters'\u001b[0m,\n",
       "       \u001b[32m'eBay ~ Vehicle Parts & Accessories ~ Motorcycle Parts ~ Bodywork & Frame ~ Windscreens'\u001b[0m,\n",
       "       \u001b[32m'eBay ~ Vehicle Parts & Accessories ~ Motorcycle Parts ~ Brakes & Brake Parts ~ Brake Pads'\u001b[0m,\n",
       "       \u001b[32m'eBay ~ Vehicle Parts & Accessories ~ Motorcycle Parts ~ Drivetrain & Transmission ~ Chains & Sprockets'\u001b[0m,\n",
       "       \u001b[32m'eBay ~ Vehicle Parts & Accessories ~ Car Wheels, Tyres & Trims ~ Tyres'\u001b[0m\u001b[1m]\u001b[0m,\n",
       "      \u001b[33mdtype\u001b[0m=\u001b[35mobject\u001b[0m\u001b[1m)\u001b[0m\n"
      ]
     },
     "metadata": {},
     "output_type": "display_data"
    }
   ],
   "source": [
    "filtered_dataset['category'].head().values"
   ]
  },
  {
   "cell_type": "code",
   "execution_count": 96,
   "id": "c013f088-1960-4e4c-8958-8950a9ca7249",
   "metadata": {},
   "outputs": [
    {
     "data": {
      "text/html": [
       "<pre style=\"white-space:pre;overflow-x:auto;line-height:normal;font-family:Menlo,'DejaVu Sans Mono',consolas,'Courier New',monospace\">\n",
       "<span style=\"color: #800080; text-decoration-color: #800080; font-weight: bold\">array</span><span style=\"font-weight: bold\">([</span><span style=\"color: #008000; text-decoration-color: #008000\">'MERCEDES VANEO 414 1.6 Pollen / Cabin Filter 02 to 05 2909705RMP M166.961 Bosch'</span>,\n",
       "       <span style=\"color: #008000; text-decoration-color: #008000\">'Windscreen Kappa Transparent 58x45cm for Aprilia Caponord 1200 2014'</span>,\n",
       "       <span style=\"color: #008000; text-decoration-color: #008000\">'Honda RS 250 R 1991-1994 DP Brakes Street Sintered Rear Brake Pads - Dp119'</span>,\n",
       "       <span style=\"color: #008000; text-decoration-color: #008000\">'JMT X-ring 530x2 Gold 104 Open Chain With Rivet Link for Kawasaki KH 400 a 1976'</span>,\n",
       "       <span style=\"color: #008000; text-decoration-color: #008000\">'1x Summer Tyre Michelin Pilot Sport 4 255/40zr17 98y El'</span><span style=\"font-weight: bold\">]</span>,\n",
       "      <span style=\"color: #808000; text-decoration-color: #808000\">dtype</span>=<span style=\"color: #800080; text-decoration-color: #800080\">object</span><span style=\"font-weight: bold\">)</span>\n",
       "</pre>\n"
      ],
      "text/plain": [
       "\n",
       "\u001b[1;35marray\u001b[0m\u001b[1m(\u001b[0m\u001b[1m[\u001b[0m\u001b[32m'MERCEDES VANEO 414 1.6 Pollen / Cabin Filter 02 to 05 2909705RMP M166.961 Bosch'\u001b[0m,\n",
       "       \u001b[32m'Windscreen Kappa Transparent 58x45cm for Aprilia Caponord 1200 2014'\u001b[0m,\n",
       "       \u001b[32m'Honda RS 250 R 1991-1994 DP Brakes Street Sintered Rear Brake Pads - Dp119'\u001b[0m,\n",
       "       \u001b[32m'JMT X-ring 530x2 Gold 104 Open Chain With Rivet Link for Kawasaki KH 400 a 1976'\u001b[0m,\n",
       "       \u001b[32m'1x Summer Tyre Michelin Pilot Sport 4 255/40zr17 98y El'\u001b[0m\u001b[1m]\u001b[0m,\n",
       "      \u001b[33mdtype\u001b[0m=\u001b[35mobject\u001b[0m\u001b[1m)\u001b[0m\n"
      ]
     },
     "metadata": {},
     "output_type": "display_data"
    }
   ],
   "source": [
    "filtered_dataset['title'].head().values"
   ]
  },
  {
   "cell_type": "code",
   "execution_count": 97,
   "id": "66aa9dc1-ee28-4cd7-84cd-fab88e23b610",
   "metadata": {},
   "outputs": [
    {
     "data": {
      "text/html": [
       "<pre style=\"white-space:pre;overflow-x:auto;line-height:normal;font-family:Menlo,'DejaVu Sans Mono',consolas,'Courier New',monospace\"><span style=\"font-weight: bold\">((</span><span style=\"color: #008080; text-decoration-color: #008080; font-weight: bold\">3003</span>, <span style=\"color: #008080; text-decoration-color: #008080; font-weight: bold\">2</span><span style=\"font-weight: bold\">)</span>, <span style=\"font-weight: bold\">(</span><span style=\"color: #008080; text-decoration-color: #008080; font-weight: bold\">1934</span>, <span style=\"color: #008080; text-decoration-color: #008080; font-weight: bold\">2</span><span style=\"font-weight: bold\">))</span>\n",
       "</pre>\n"
      ],
      "text/plain": [
       "\u001b[1m(\u001b[0m\u001b[1m(\u001b[0m\u001b[1;36m3003\u001b[0m, \u001b[1;36m2\u001b[0m\u001b[1m)\u001b[0m, \u001b[1m(\u001b[0m\u001b[1;36m1934\u001b[0m, \u001b[1;36m2\u001b[0m\u001b[1m)\u001b[0m\u001b[1m)\u001b[0m\n"
      ]
     },
     "metadata": {},
     "output_type": "display_data"
    }
   ],
   "source": [
    "raw_dataset.shape, filtered_dataset.shape"
   ]
  },
  {
   "cell_type": "markdown",
   "id": "98f5f0b1-db66-419e-9e94-365b8003ab08",
   "metadata": {
    "tags": []
   },
   "source": [
    "**Step 4**: Seleccionamos los productos con descripciones menores a MAX_PRODUCT_TITLE_SIZE caracteres."
   ]
  },
  {
   "cell_type": "code",
   "execution_count": 98,
   "id": "a8949a0a-046a-4262-a278-d1d212c9cac5",
   "metadata": {},
   "outputs": [
    {
     "data": {
      "text/html": [
       "<pre style=\"white-space:pre;overflow-x:auto;line-height:normal;font-family:Menlo,'DejaVu Sans Mono',consolas,'Courier New',monospace\"><span style=\"font-weight: bold\">&lt;</span><span style=\"color: #ff00ff; text-decoration-color: #ff00ff; font-weight: bold\">Figure</span><span style=\"color: #000000; text-decoration-color: #000000\"> size 80</span><span style=\"color: #008080; text-decoration-color: #008080; font-weight: bold\">0x400</span><span style=\"color: #000000; text-decoration-color: #000000\"> with </span><span style=\"color: #008080; text-decoration-color: #008080; font-weight: bold\">1</span><span style=\"color: #000000; text-decoration-color: #000000\"> Axes</span><span style=\"font-weight: bold\">&gt;</span>\n",
       "</pre>\n"
      ],
      "text/plain": [
       "\u001b[1m<\u001b[0m\u001b[1;95mFigure\u001b[0m\u001b[39m size 80\u001b[0m\u001b[1;36m0x400\u001b[0m\u001b[39m with \u001b[0m\u001b[1;36m1\u001b[0m\u001b[39m Axes\u001b[0m\u001b[1m>\u001b[0m\n"
      ]
     },
     "metadata": {},
     "output_type": "display_data"
    },
    {
     "data": {
      "image/png": "[encoded data removed]"
     },
     "metadata": {},
     "output_type": "display_data"
    }
   ],
   "source": [
    "filtered_dataset['title_size'] = filtered_dataset['title'].apply(len)\n",
    "\n",
    "plot_title(filtered_dataset, column='title_size', title='Product title: Cantidad de caracteres')"
   ]
  },
  {
   "cell_type": "code",
   "execution_count": 99,
   "id": "08a1cd2b-24eb-474b-bc54-34e0354a3486",
   "metadata": {},
   "outputs": [
    {
     "data": {
      "text/html": [
       "<pre style=\"white-space:pre;overflow-x:auto;line-height:normal;font-family:Menlo,'DejaVu Sans Mono',consolas,'Courier New',monospace\"><span style=\"font-weight: bold\">&lt;</span><span style=\"color: #ff00ff; text-decoration-color: #ff00ff; font-weight: bold\">Figure</span><span style=\"color: #000000; text-decoration-color: #000000\"> size 80</span><span style=\"color: #008080; text-decoration-color: #008080; font-weight: bold\">0x400</span><span style=\"color: #000000; text-decoration-color: #000000\"> with </span><span style=\"color: #008080; text-decoration-color: #008080; font-weight: bold\">1</span><span style=\"color: #000000; text-decoration-color: #000000\"> Axes</span><span style=\"font-weight: bold\">&gt;</span>\n",
       "</pre>\n"
      ],
      "text/plain": [
       "\u001b[1m<\u001b[0m\u001b[1;95mFigure\u001b[0m\u001b[39m size 80\u001b[0m\u001b[1;36m0x400\u001b[0m\u001b[39m with \u001b[0m\u001b[1;36m1\u001b[0m\u001b[39m Axes\u001b[0m\u001b[1m>\u001b[0m\n"
      ]
     },
     "metadata": {},
     "output_type": "display_data"
    },
    {
     "data": {
      "image/png": "[encoded data removed]"
     },
     "metadata": {},
     "output_type": "display_data"
    }
   ],
   "source": [
    "filtered_dataset['tokens_count'] = filtered_dataset['title'].apply(lambda x: len(x.split(' ')))\n",
    "\n",
    "plot_title(filtered_dataset, column='tokens_count', title='Product title: Cantidad de palabras')"
   ]
  },
  {
   "cell_type": "code",
   "execution_count": 100,
   "id": "f0d9f94c-59fc-4513-9447-3e91c7267eb2",
   "metadata": {},
   "outputs": [
    {
     "data": {
      "text/html": [
       "<pre style=\"white-space:pre;overflow-x:auto;line-height:normal;font-family:Menlo,'DejaVu Sans Mono',consolas,'Courier New',monospace\"><span style=\"font-weight: bold\">&lt;</span><span style=\"color: #ff00ff; text-decoration-color: #ff00ff; font-weight: bold\">Figure</span><span style=\"color: #000000; text-decoration-color: #000000\"> size 80</span><span style=\"color: #008080; text-decoration-color: #008080; font-weight: bold\">0x400</span><span style=\"color: #000000; text-decoration-color: #000000\"> with </span><span style=\"color: #008080; text-decoration-color: #008080; font-weight: bold\">1</span><span style=\"color: #000000; text-decoration-color: #000000\"> Axes</span><span style=\"font-weight: bold\">&gt;</span>\n",
       "</pre>\n"
      ],
      "text/plain": [
       "\u001b[1m<\u001b[0m\u001b[1;95mFigure\u001b[0m\u001b[39m size 80\u001b[0m\u001b[1;36m0x400\u001b[0m\u001b[39m with \u001b[0m\u001b[1;36m1\u001b[0m\u001b[39m Axes\u001b[0m\u001b[1m>\u001b[0m\n"
      ]
     },
     "metadata": {},
     "output_type": "display_data"
    },
    {
     "data": {
      "image/png": "[encoded data removed]"
     },
     "metadata": {},
     "output_type": "display_data"
    }
   ],
   "source": [
    "filtered_dataset = filtered_dataset[filtered_dataset['tokens_count'] < MAX_TITLE_TOKENS]\n",
    "\n",
    "plot_title(filtered_dataset, column='tokens_count', title='Product title: Cantidad de tokens')"
   ]
  },
  {
   "cell_type": "code",
   "execution_count": 101,
   "id": "35cbd2a0-2717-4332-a92c-583af6486442",
   "metadata": {},
   "outputs": [
    {
     "data": {
      "text/html": [
       "<pre style=\"white-space:pre;overflow-x:auto;line-height:normal;font-family:Menlo,'DejaVu Sans Mono',consolas,'Courier New',monospace\"><span style=\"font-weight: bold\">(</span><span style=\"color: #008080; text-decoration-color: #008080; font-weight: bold\">2</span>, <span style=\"color: #008080; text-decoration-color: #008080; font-weight: bold\">38</span><span style=\"font-weight: bold\">)</span>\n",
       "</pre>\n"
      ],
      "text/plain": [
       "\u001b[1m(\u001b[0m\u001b[1;36m2\u001b[0m, \u001b[1;36m38\u001b[0m\u001b[1m)\u001b[0m\n"
      ]
     },
     "metadata": {},
     "output_type": "display_data"
    }
   ],
   "source": [
    "filtered_dataset['tokens_count'].min(), filtered_dataset['tokens_count'].max()"
   ]
  },
  {
   "cell_type": "code",
   "execution_count": 102,
   "id": "fb8db867-f8e3-4717-94a1-7185f7e0dda9",
   "metadata": {},
   "outputs": [
    {
     "data": {
      "text/html": [
       "<div>\n",
       "<style scoped>\n",
       "    .dataframe tbody tr th:only-of-type {\n",
       "        vertical-align: middle;\n",
       "    }\n",
       "\n",
       "    .dataframe tbody tr th {\n",
       "        vertical-align: top;\n",
       "    }\n",
       "\n",
       "    .dataframe thead th {\n",
       "        text-align: right;\n",
       "    }\n",
       "</style>\n",
       "<table border=\"1\" class=\"dataframe\">\n",
       "  <thead>\n",
       "    <tr style=\"text-align: right;\">\n",
       "      <th></th>\n",
       "      <th>title</th>\n",
       "      <th>category</th>\n",
       "      <th>tokens_count</th>\n",
       "    </tr>\n",
       "  </thead>\n",
       "  <tbody>\n",
       "    <tr>\n",
       "      <th>1</th>\n",
       "      <td>MERCEDES VANEO 414 1.6 Pollen / Cabin Filter 0...</td>\n",
       "      <td>eBay ~ Vehicle Parts &amp; Accessories ~ Car Parts...</td>\n",
       "      <td>14</td>\n",
       "    </tr>\n",
       "    <tr>\n",
       "      <th>2</th>\n",
       "      <td>Windscreen Kappa Transparent 58x45cm for April...</td>\n",
       "      <td>eBay ~ Vehicle Parts &amp; Accessories ~ Motorcycl...</td>\n",
       "      <td>9</td>\n",
       "    </tr>\n",
       "    <tr>\n",
       "      <th>4</th>\n",
       "      <td>Honda RS 250 R 1991-1994 DP Brakes Street Sint...</td>\n",
       "      <td>eBay ~ Vehicle Parts &amp; Accessories ~ Motorcycl...</td>\n",
       "      <td>14</td>\n",
       "    </tr>\n",
       "    <tr>\n",
       "      <th>5</th>\n",
       "      <td>JMT X-ring 530x2 Gold 104 Open Chain With Rive...</td>\n",
       "      <td>eBay ~ Vehicle Parts &amp; Accessories ~ Motorcycl...</td>\n",
       "      <td>16</td>\n",
       "    </tr>\n",
       "    <tr>\n",
       "      <th>7</th>\n",
       "      <td>1x Summer Tyre Michelin Pilot Sport 4 255/40zr...</td>\n",
       "      <td>eBay ~ Vehicle Parts &amp; Accessories ~ Car Wheel...</td>\n",
       "      <td>10</td>\n",
       "    </tr>\n",
       "  </tbody>\n",
       "</table>\n",
       "</div>"
      ]
     },
     "execution_count": 102,
     "metadata": {},
     "output_type": "execute_result"
    }
   ],
   "source": [
    "filtered_dataset = filtered_dataset.drop(columns=['title_size'])\n",
    "filtered_dataset.head()"
   ]
  },
  {
   "cell_type": "markdown",
   "id": "8afc59b7-099a-41a9-b433-3aafd705f993",
   "metadata": {},
   "source": [
    "**Step 5**: Agregamos un número de secuencia que representa univocamente a cada categoria."
   ]
  },
  {
   "cell_type": "code",
   "execution_count": 103,
   "id": "4cc314ed-4f5d-4198-b0e4-95b938f00d78",
   "metadata": {},
   "outputs": [
    {
     "data": {
      "text/html": [
       "<div>\n",
       "<style scoped>\n",
       "    .dataframe tbody tr th:only-of-type {\n",
       "        vertical-align: middle;\n",
       "    }\n",
       "\n",
       "    .dataframe tbody tr th {\n",
       "        vertical-align: top;\n",
       "    }\n",
       "\n",
       "    .dataframe thead th {\n",
       "        text-align: right;\n",
       "    }\n",
       "</style>\n",
       "<table border=\"1\" class=\"dataframe\">\n",
       "  <thead>\n",
       "    <tr style=\"text-align: right;\">\n",
       "      <th></th>\n",
       "      <th>title</th>\n",
       "      <th>category</th>\n",
       "      <th>tokens_count</th>\n",
       "      <th>category_seq</th>\n",
       "    </tr>\n",
       "  </thead>\n",
       "  <tbody>\n",
       "    <tr>\n",
       "      <th>0</th>\n",
       "      <td>MERCEDES VANEO 414 1.6 Pollen / Cabin Filter 0...</td>\n",
       "      <td>eBay ~ Vehicle Parts &amp; Accessories ~ Car Parts...</td>\n",
       "      <td>14</td>\n",
       "      <td>0</td>\n",
       "    </tr>\n",
       "    <tr>\n",
       "      <th>1</th>\n",
       "      <td>Pollen / Cabin Filter Fits Toyota Camry V3 2.4...</td>\n",
       "      <td>eBay ~ Vehicle Parts &amp; Accessories ~ Car Parts...</td>\n",
       "      <td>15</td>\n",
       "      <td>0</td>\n",
       "    </tr>\n",
       "    <tr>\n",
       "      <th>2</th>\n",
       "      <td>K&amp;n Filters VF1000 Cabin Air Filter</td>\n",
       "      <td>eBay ~ Vehicle Parts &amp; Accessories ~ Car Parts...</td>\n",
       "      <td>6</td>\n",
       "      <td>0</td>\n",
       "    </tr>\n",
       "    <tr>\n",
       "      <th>3</th>\n",
       "      <td>Pollen / Cabin Filter Fits HYUNDAI Veloster FS...</td>\n",
       "      <td>eBay ~ Vehicle Parts &amp; Accessories ~ Car Parts...</td>\n",
       "      <td>15</td>\n",
       "      <td>0</td>\n",
       "    </tr>\n",
       "    <tr>\n",
       "      <th>4</th>\n",
       "      <td>Blue Print ADU172504 Cabin Filter</td>\n",
       "      <td>eBay ~ Vehicle Parts &amp; Accessories ~ Car Parts...</td>\n",
       "      <td>5</td>\n",
       "      <td>0</td>\n",
       "    </tr>\n",
       "  </tbody>\n",
       "</table>\n",
       "</div>"
      ]
     },
     "execution_count": 103,
     "metadata": {},
     "output_type": "execute_result"
    }
   ],
   "source": [
    "filtered_dataset = dt.Sequencer('category', 'category_seq').perform(filtered_dataset)\n",
    "filtered_dataset.head()"
   ]
  },
  {
   "cell_type": "code",
   "execution_count": 104,
   "id": "7cde2dbc-ba06-4ec6-854e-e4b968e7479d",
   "metadata": {},
   "outputs": [
    {
     "data": {
      "text/html": [
       "<pre style=\"white-space:pre;overflow-x:auto;line-height:normal;font-family:Menlo,'DejaVu Sans Mono',consolas,'Courier New',monospace\"><span style=\"font-weight: bold\">(</span><span style=\"color: #008080; text-decoration-color: #008080; font-weight: bold\">0</span>, <span style=\"color: #008080; text-decoration-color: #008080; font-weight: bold\">121</span><span style=\"font-weight: bold\">)</span>\n",
       "</pre>\n"
      ],
      "text/plain": [
       "\u001b[1m(\u001b[0m\u001b[1;36m0\u001b[0m, \u001b[1;36m121\u001b[0m\u001b[1m)\u001b[0m\n"
      ]
     },
     "metadata": {},
     "output_type": "display_data"
    }
   ],
   "source": [
    "filtered_dataset['category_seq'].min(), filtered_dataset['category_seq'].max()"
   ]
  },
  {
   "cell_type": "markdown",
   "id": "a216281c-30a7-4fb2-bec1-0880be4818cc",
   "metadata": {},
   "source": [
    "**Step 6**: Partimos el dataset en los conjuntos de entrenamiento, prueba y validación. Ademas se estratifica para minimasr el efecto del desbalanceo de prodxcutos por categoria."
   ]
  },
  {
   "cell_type": "code",
   "execution_count": 105,
   "id": "1363a7dc-e55c-438c-921b-e6212aed31a7",
   "metadata": {},
   "outputs": [],
   "source": [
    "train_set, test_set, _, _= train_test_split(\n",
    "    filtered_dataset,\n",
    "    filtered_dataset['category'].values,\n",
    "    test_size     = 0.1,\n",
    "    stratify      = filtered_dataset['category'].values,\n",
    "    shuffle       = True\n",
    ")"
   ]
  },
  {
   "cell_type": "code",
   "execution_count": 106,
   "id": "7d4fc695-7f7b-4e44-adf6-4eebb831a4ef",
   "metadata": {},
   "outputs": [],
   "source": [
    "test_set, val_set, _, _= train_test_split(\n",
    "    test_set,\n",
    "    test_set['category'].values,\n",
    "    test_size     = 0.5,\n",
    "    shuffle       = False\n",
    ")"
   ]
  },
  {
   "cell_type": "markdown",
   "id": "204afb79-9a47-478c-943b-02f155cda3d3",
   "metadata": {},
   "source": [
    "**Step 7**: Chequeamos que en test y evaliacion existan las misma categorias que existe en train."
   ]
  },
  {
   "cell_type": "code",
   "execution_count": 109,
   "id": "9ed5ca3c-e5b5-4e7b-b443-e2f76c2adf0f",
   "metadata": {},
   "outputs": [
    {
     "data": {
      "text/html": [
       "<pre style=\"white-space:pre;overflow-x:auto;line-height:normal;font-family:Menlo,'DejaVu Sans Mono',consolas,'Courier New',monospace\"><span style=\"font-weight: bold\">&lt;</span><span style=\"color: #ff00ff; text-decoration-color: #ff00ff; font-weight: bold\">Figure</span><span style=\"color: #000000; text-decoration-color: #000000\"> size 100</span><span style=\"color: #008080; text-decoration-color: #008080; font-weight: bold\">0x500</span><span style=\"color: #000000; text-decoration-color: #000000\"> with </span><span style=\"color: #008080; text-decoration-color: #008080; font-weight: bold\">1</span><span style=\"color: #000000; text-decoration-color: #000000\"> Axes</span><span style=\"font-weight: bold\">&gt;</span>\n",
       "</pre>\n"
      ],
      "text/plain": [
       "\u001b[1m<\u001b[0m\u001b[1;95mFigure\u001b[0m\u001b[39m size 100\u001b[0m\u001b[1;36m0x500\u001b[0m\u001b[39m with \u001b[0m\u001b[1;36m1\u001b[0m\u001b[39m Axes\u001b[0m\u001b[1m>\u001b[0m\n"
      ]
     },
     "metadata": {},
     "output_type": "display_data"
    },
    {
     "data": {
      "image/png": "[encoded data removed]"
     },
     "metadata": {},
     "output_type": "display_data"
    }
   ],
   "source": [
    "plot_categories(ut.group_by_count(train_set, ['category'], 'title'))"
   ]
  },
  {
   "cell_type": "code",
   "execution_count": 110,
   "id": "4c486f39-71ca-4209-bf31-e9ab3f7d3b30",
   "metadata": {},
   "outputs": [
    {
     "data": {
      "text/html": [
       "<pre style=\"white-space:pre;overflow-x:auto;line-height:normal;font-family:Menlo,'DejaVu Sans Mono',consolas,'Courier New',monospace\"><span style=\"font-weight: bold\">&lt;</span><span style=\"color: #ff00ff; text-decoration-color: #ff00ff; font-weight: bold\">Figure</span><span style=\"color: #000000; text-decoration-color: #000000\"> size 100</span><span style=\"color: #008080; text-decoration-color: #008080; font-weight: bold\">0x500</span><span style=\"color: #000000; text-decoration-color: #000000\"> with </span><span style=\"color: #008080; text-decoration-color: #008080; font-weight: bold\">1</span><span style=\"color: #000000; text-decoration-color: #000000\"> Axes</span><span style=\"font-weight: bold\">&gt;</span>\n",
       "</pre>\n"
      ],
      "text/plain": [
       "\u001b[1m<\u001b[0m\u001b[1;95mFigure\u001b[0m\u001b[39m size 100\u001b[0m\u001b[1;36m0x500\u001b[0m\u001b[39m with \u001b[0m\u001b[1;36m1\u001b[0m\u001b[39m Axes\u001b[0m\u001b[1m>\u001b[0m\n"
      ]
     },
     "metadata": {},
     "output_type": "display_data"
    },
    {
     "data": {
      "image/png": "[encoded data removed]"
     },
     "metadata": {},
     "output_type": "display_data"
    }
   ],
   "source": [
    "plot_categories(ut.group_by_count(test_set, ['category'], 'title'))"
   ]
  },
  {
   "cell_type": "code",
   "execution_count": 111,
   "id": "7d352f53-44ea-4970-8f90-1cfc2eb785e9",
   "metadata": {},
   "outputs": [
    {
     "data": {
      "text/html": [
       "<pre style=\"white-space:pre;overflow-x:auto;line-height:normal;font-family:Menlo,'DejaVu Sans Mono',consolas,'Courier New',monospace\"><span style=\"font-weight: bold\">&lt;</span><span style=\"color: #ff00ff; text-decoration-color: #ff00ff; font-weight: bold\">Figure</span><span style=\"color: #000000; text-decoration-color: #000000\"> size 100</span><span style=\"color: #008080; text-decoration-color: #008080; font-weight: bold\">0x500</span><span style=\"color: #000000; text-decoration-color: #000000\"> with </span><span style=\"color: #008080; text-decoration-color: #008080; font-weight: bold\">1</span><span style=\"color: #000000; text-decoration-color: #000000\"> Axes</span><span style=\"font-weight: bold\">&gt;</span>\n",
       "</pre>\n"
      ],
      "text/plain": [
       "\u001b[1m<\u001b[0m\u001b[1;95mFigure\u001b[0m\u001b[39m size 100\u001b[0m\u001b[1;36m0x500\u001b[0m\u001b[39m with \u001b[0m\u001b[1;36m1\u001b[0m\u001b[39m Axes\u001b[0m\u001b[1m>\u001b[0m\n"
      ]
     },
     "metadata": {},
     "output_type": "display_data"
    },
    {
     "data": {
      "image/png": "[encoded data removed]"
     },
     "metadata": {},
     "output_type": "display_data"
    }
   ],
   "source": [
    "plot_categories(ut.group_by_count(val_set, ['category'], 'title'))"
   ]
  },
  {
   "cell_type": "code",
   "execution_count": 112,
   "id": "088cb8d7-a43a-487c-b8c6-82db16dd4d4b",
   "metadata": {},
   "outputs": [
    {
     "data": {
      "text/html": [
       "<pre style=\"white-space:pre;overflow-x:auto;line-height:normal;font-family:Menlo,'DejaVu Sans Mono',consolas,'Courier New',monospace\"><span style=\"font-weight: bold\">((</span><span style=\"color: #008080; text-decoration-color: #008080; font-weight: bold\">1740</span>, <span style=\"color: #008080; text-decoration-color: #008080; font-weight: bold\">4</span><span style=\"font-weight: bold\">)</span>, <span style=\"font-weight: bold\">(</span><span style=\"color: #008080; text-decoration-color: #008080; font-weight: bold\">97</span>, <span style=\"color: #008080; text-decoration-color: #008080; font-weight: bold\">4</span><span style=\"font-weight: bold\">)</span>, <span style=\"font-weight: bold\">(</span><span style=\"color: #008080; text-decoration-color: #008080; font-weight: bold\">97</span>, <span style=\"color: #008080; text-decoration-color: #008080; font-weight: bold\">4</span><span style=\"font-weight: bold\">))</span>\n",
       "</pre>\n"
      ],
      "text/plain": [
       "\u001b[1m(\u001b[0m\u001b[1m(\u001b[0m\u001b[1;36m1740\u001b[0m, \u001b[1;36m4\u001b[0m\u001b[1m)\u001b[0m, \u001b[1m(\u001b[0m\u001b[1;36m97\u001b[0m, \u001b[1;36m4\u001b[0m\u001b[1m)\u001b[0m, \u001b[1m(\u001b[0m\u001b[1;36m97\u001b[0m, \u001b[1;36m4\u001b[0m\u001b[1m)\u001b[0m\u001b[1m)\u001b[0m\n"
      ]
     },
     "metadata": {},
     "output_type": "display_data"
    }
   ],
   "source": [
    "train_set.shape, val_set.shape, test_set.shape"
   ]
  },
  {
   "cell_type": "markdown",
   "id": "e40c4ef5-7d81-48dc-a597-f1cada152b4c",
   "metadata": {},
   "source": [
    "Los sets de validación y test deberian tener solo categorias que existan en el set de entrenamiento, de lo contrario, no es posible hacer la predicción:"
   ]
  },
  {
   "cell_type": "code",
   "execution_count": 113,
   "id": "53a803cb-6ae8-4235-89ce-7812b438cdb7",
   "metadata": {},
   "outputs": [
    {
     "data": {
      "text/html": [
       "<pre style=\"white-space:pre;overflow-x:auto;line-height:normal;font-family:Menlo,'DejaVu Sans Mono',consolas,'Courier New',monospace\"><span style=\"font-weight: bold\">(</span><span style=\"color: #008080; text-decoration-color: #008080; font-weight: bold\">97</span>, <span style=\"color: #008080; text-decoration-color: #008080; font-weight: bold\">4</span><span style=\"font-weight: bold\">)</span>\n",
       "</pre>\n"
      ],
      "text/plain": [
       "\u001b[1m(\u001b[0m\u001b[1;36m97\u001b[0m, \u001b[1;36m4\u001b[0m\u001b[1m)\u001b[0m\n"
      ]
     },
     "metadata": {},
     "output_type": "display_data"
    }
   ],
   "source": [
    "val_set[val_set['category'].isin(train_set['category'].values)].shape"
   ]
  },
  {
   "cell_type": "code",
   "execution_count": 114,
   "id": "9a3d5393-bedb-48a7-b856-fbef7d619f22",
   "metadata": {},
   "outputs": [
    {
     "data": {
      "text/html": [
       "<pre style=\"white-space:pre;overflow-x:auto;line-height:normal;font-family:Menlo,'DejaVu Sans Mono',consolas,'Courier New',monospace\"><span style=\"font-weight: bold\">(</span><span style=\"color: #008080; text-decoration-color: #008080; font-weight: bold\">97</span>, <span style=\"color: #008080; text-decoration-color: #008080; font-weight: bold\">4</span><span style=\"font-weight: bold\">)</span>\n",
       "</pre>\n"
      ],
      "text/plain": [
       "\u001b[1m(\u001b[0m\u001b[1;36m97\u001b[0m, \u001b[1;36m4\u001b[0m\u001b[1m)\u001b[0m\n"
      ]
     },
     "metadata": {},
     "output_type": "display_data"
    }
   ],
   "source": [
    "test_set[test_set['category'].isin(train_set['category'].values)].shape"
   ]
  },
  {
   "cell_type": "markdown",
   "id": "a1d94674-cd55-432a-8de9-13a3579b0e05",
   "metadata": {},
   "source": [
    "**Step 8**: Guardamos todos los conjuntos preprocesados."
   ]
  },
  {
   "cell_type": "code",
   "execution_count": 115,
   "id": "e8333982-1505-4ab8-976f-fc7ca1945cc1",
   "metadata": {},
   "outputs": [],
   "source": [
    "train_set       .to_csv(f'{DATASET_PATH}/train.csv', index=False)\n",
    "val_set         .to_csv(f'{DATASET_PATH}/val.csv',   index=False)\n",
    "test_set        .to_csv(f'{DATASET_PATH}/test.csv',  index=False)\n",
    "filtered_dataset.to_csv(f'{DATASET_PATH}/all.csv',   index=False)"
   ]
  }
 ],
 "metadata": {
  "kernelspec": {
   "display_name": "Python 3 (ipykernel)",
   "language": "python",
   "name": "python3"
  },
  "language_info": {
   "codemirror_mode": {
    "name": "ipython",
    "version": 3
   },
   "file_extension": ".py",
   "mimetype": "text/x-python",
   "name": "python",
   "nbconvert_exporter": "python",
   "pygments_lexer": "ipython3",
   "version": "3.10.4"
  },
  "widgets": {
   "application/vnd.jupyter.widget-state+json": {
    "state": {},
    "version_major": 2,
    "version_minor": 0
   }
  }
 },
 "nbformat": 4,
 "nbformat_minor": 5
}
